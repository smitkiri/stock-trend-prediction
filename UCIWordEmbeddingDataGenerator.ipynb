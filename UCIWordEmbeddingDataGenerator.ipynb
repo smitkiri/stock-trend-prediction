{
  "nbformat": 4,
  "nbformat_minor": 0,
  "metadata": {
    "colab": {
      "name": "UCI WordEmbeddingV5 Data Generator .ipynb",
      "provenance": []
    },
    "kernelspec": {
      "display_name": "Python 3",
      "language": "python",
      "name": "python3"
    },
    "language_info": {
      "codemirror_mode": {
        "name": "ipython",
        "version": 3
      },
      "file_extension": ".py",
      "mimetype": "text/x-python",
      "name": "python",
      "nbconvert_exporter": "python",
      "pygments_lexer": "ipython3",
      "version": "3.7.3"
    }
  },
  "cells": [
    {
      "cell_type": "code",
      "metadata": {
        "id": "po-1QV4sw_bg",
        "colab_type": "code",
        "colab": {}
      },
      "source": [
        "import pandas as pd\n",
        "pd.set_option('display.max_columns', None)\n",
        "import numpy as np\n",
        "import matplotlib.pyplot as plt\n",
        "import datetime\n",
        "import utils_v2 as utils"
      ],
      "execution_count": 0,
      "outputs": []
    },
    {
      "cell_type": "code",
      "metadata": {
        "id": "NCCwdxSvw_b5",
        "colab_type": "code",
        "colab": {
          "base_uri": "https://localhost:8080/",
          "height": 71
        },
        "outputId": "18fc1220-8e1a-4beb-b34b-4bc72d4762bc"
      },
      "source": [
        "import nltk\n",
        "nltk.download('stopwords')"
      ],
      "execution_count": 2,
      "outputs": [
        {
          "output_type": "stream",
          "text": [
            "[nltk_data] Downloading package stopwords to /root/nltk_data...\n",
            "[nltk_data]   Unzipping corpora/stopwords.zip.\n"
          ],
          "name": "stdout"
        },
        {
          "output_type": "execute_result",
          "data": {
            "text/plain": [
              "True"
            ]
          },
          "metadata": {
            "tags": []
          },
          "execution_count": 2
        }
      ]
    },
    {
      "cell_type": "markdown",
      "metadata": {
        "id": "sdizmZdkw_cK",
        "colab_type": "text"
      },
      "source": [
        "## Using DJIA News headlines for stock prediction ##  "
      ]
    },
    {
      "cell_type": "code",
      "metadata": {
        "colab_type": "code",
        "id": "H3-wkX_et4UF",
        "outputId": "529abb55-dcb7-45ef-d1ba-2a069dfd013e",
        "colab": {
          "base_uri": "https://localhost:8080/",
          "height": 147
        }
      },
      "source": [
        "news_df = pd.read_csv('uci-news-aggregator.csv')\n",
        "news_df.head(2)"
      ],
      "execution_count": 3,
      "outputs": [
        {
          "output_type": "execute_result",
          "data": {
            "text/html": [
              "<div>\n",
              "<style scoped>\n",
              "    .dataframe tbody tr th:only-of-type {\n",
              "        vertical-align: middle;\n",
              "    }\n",
              "\n",
              "    .dataframe tbody tr th {\n",
              "        vertical-align: top;\n",
              "    }\n",
              "\n",
              "    .dataframe thead th {\n",
              "        text-align: right;\n",
              "    }\n",
              "</style>\n",
              "<table border=\"1\" class=\"dataframe\">\n",
              "  <thead>\n",
              "    <tr style=\"text-align: right;\">\n",
              "      <th></th>\n",
              "      <th>ID</th>\n",
              "      <th>TITLE</th>\n",
              "      <th>URL</th>\n",
              "      <th>PUBLISHER</th>\n",
              "      <th>CATEGORY</th>\n",
              "      <th>STORY</th>\n",
              "      <th>HOSTNAME</th>\n",
              "      <th>TIMESTAMP</th>\n",
              "    </tr>\n",
              "  </thead>\n",
              "  <tbody>\n",
              "    <tr>\n",
              "      <th>0</th>\n",
              "      <td>1</td>\n",
              "      <td>Fed official says weak data caused by weather,...</td>\n",
              "      <td>http://www.latimes.com/business/money/la-fi-mo...</td>\n",
              "      <td>Los Angeles Times</td>\n",
              "      <td>b</td>\n",
              "      <td>ddUyU0VZz0BRneMioxUPQVP6sIxvM</td>\n",
              "      <td>www.latimes.com</td>\n",
              "      <td>1394470370698</td>\n",
              "    </tr>\n",
              "    <tr>\n",
              "      <th>1</th>\n",
              "      <td>2</td>\n",
              "      <td>Fed's Charles Plosser sees high bar for change...</td>\n",
              "      <td>http://www.livemint.com/Politics/H2EvwJSK2VE6O...</td>\n",
              "      <td>Livemint</td>\n",
              "      <td>b</td>\n",
              "      <td>ddUyU0VZz0BRneMioxUPQVP6sIxvM</td>\n",
              "      <td>www.livemint.com</td>\n",
              "      <td>1394470371207</td>\n",
              "    </tr>\n",
              "  </tbody>\n",
              "</table>\n",
              "</div>"
            ],
            "text/plain": [
              "   ID                                              TITLE  \\\n",
              "0   1  Fed official says weak data caused by weather,...   \n",
              "1   2  Fed's Charles Plosser sees high bar for change...   \n",
              "\n",
              "                                                 URL          PUBLISHER  \\\n",
              "0  http://www.latimes.com/business/money/la-fi-mo...  Los Angeles Times   \n",
              "1  http://www.livemint.com/Politics/H2EvwJSK2VE6O...           Livemint   \n",
              "\n",
              "  CATEGORY                          STORY          HOSTNAME      TIMESTAMP  \n",
              "0        b  ddUyU0VZz0BRneMioxUPQVP6sIxvM   www.latimes.com  1394470370698  \n",
              "1        b  ddUyU0VZz0BRneMioxUPQVP6sIxvM  www.livemint.com  1394470371207  "
            ]
          },
          "metadata": {
            "tags": []
          },
          "execution_count": 3
        }
      ]
    },
    {
      "cell_type": "code",
      "metadata": {
        "id": "YLDmrl2mw_cd",
        "colab_type": "code",
        "colab": {
          "base_uri": "https://localhost:8080/",
          "height": 206
        },
        "outputId": "3a8e779a-93b8-4c7d-8b5b-b63d1e9fdace"
      },
      "source": [
        "news_df = news_df[news_df['CATEGORY'] == 't'].reset_index(drop = True)\n",
        "news_df = news_df[['TIMESTAMP', 'TITLE']]\n",
        "news_df.columns = ['Date', 'news'] \n",
        "news_df['Date'] = news_df['Date'].apply(lambda x: datetime.datetime.fromtimestamp(int(int(x)/1000)).strftime('%Y-%m-%d'))\n",
        "news_df['Date'] = pd.to_datetime(news_df['Date'])\n",
        "news_df.head()"
      ],
      "execution_count": 4,
      "outputs": [
        {
          "output_type": "execute_result",
          "data": {
            "text/html": [
              "<div>\n",
              "<style scoped>\n",
              "    .dataframe tbody tr th:only-of-type {\n",
              "        vertical-align: middle;\n",
              "    }\n",
              "\n",
              "    .dataframe tbody tr th {\n",
              "        vertical-align: top;\n",
              "    }\n",
              "\n",
              "    .dataframe thead th {\n",
              "        text-align: right;\n",
              "    }\n",
              "</style>\n",
              "<table border=\"1\" class=\"dataframe\">\n",
              "  <thead>\n",
              "    <tr style=\"text-align: right;\">\n",
              "      <th></th>\n",
              "      <th>Date</th>\n",
              "      <th>news</th>\n",
              "    </tr>\n",
              "  </thead>\n",
              "  <tbody>\n",
              "    <tr>\n",
              "      <th>0</th>\n",
              "      <td>2014-03-10</td>\n",
              "      <td>Titanfall Review Roundup</td>\n",
              "    </tr>\n",
              "    <tr>\n",
              "      <th>1</th>\n",
              "      <td>2014-03-10</td>\n",
              "      <td>Titanfall review: my buddy</td>\n",
              "    </tr>\n",
              "    <tr>\n",
              "      <th>2</th>\n",
              "      <td>2014-03-10</td>\n",
              "      <td>Respawn: Titanfall's server stability is in Mi...</td>\n",
              "    </tr>\n",
              "    <tr>\n",
              "      <th>3</th>\n",
              "      <td>2014-03-10</td>\n",
              "      <td>Titanfall's Resolution 'Likely' to be Increase...</td>\n",
              "    </tr>\n",
              "    <tr>\n",
              "      <th>4</th>\n",
              "      <td>2014-03-10</td>\n",
              "      <td>Xbox One Titanfall Bundle Release Date Tomorro...</td>\n",
              "    </tr>\n",
              "  </tbody>\n",
              "</table>\n",
              "</div>"
            ],
            "text/plain": [
              "        Date                                               news\n",
              "0 2014-03-10                           Titanfall Review Roundup\n",
              "1 2014-03-10                         Titanfall review: my buddy\n",
              "2 2014-03-10  Respawn: Titanfall's server stability is in Mi...\n",
              "3 2014-03-10  Titanfall's Resolution 'Likely' to be Increase...\n",
              "4 2014-03-10  Xbox One Titanfall Bundle Release Date Tomorro..."
            ]
          },
          "metadata": {
            "tags": []
          },
          "execution_count": 4
        }
      ]
    },
    {
      "cell_type": "code",
      "metadata": {
        "id": "O9Vl3FOyw_ct",
        "colab_type": "code",
        "colab": {
          "base_uri": "https://localhost:8080/",
          "height": 71
        },
        "outputId": "336153de-4601-4452-b2ea-ca631f48f9fb"
      },
      "source": [
        "print(\"News Time Period, From %s to %s\"%(min(news_df['Date']), max(news_df['Date'])))\n",
        "print(\"Number of days headlines: %d\"%(len(news_df['Date'].unique())))\n",
        "print(\"Total News: %d\"%len(news_df))"
      ],
      "execution_count": 5,
      "outputs": [
        {
          "output_type": "stream",
          "text": [
            "News Time Period, From 2014-03-10 00:00:00 to 2014-08-28 00:00:00\n",
            "Number of days headlines: 95\n",
            "Total News: 108344\n"
          ],
          "name": "stdout"
        }
      ]
    },
    {
      "cell_type": "markdown",
      "metadata": {
        "id": "DNajpMJHw_c5",
        "colab_type": "text"
      },
      "source": [
        "## Cleaning news"
      ]
    },
    {
      "cell_type": "code",
      "metadata": {
        "id": "SHFbQPvUw_c8",
        "colab_type": "code",
        "colab": {}
      },
      "source": [
        "news_df[\"news\"] = news_df[\"news\"].apply(utils.get_clean_text)"
      ],
      "execution_count": 0,
      "outputs": []
    },
    {
      "cell_type": "code",
      "metadata": {
        "id": "T6IvxWAKw_dG",
        "colab_type": "code",
        "colab": {
          "base_uri": "https://localhost:8080/",
          "height": 224
        },
        "outputId": "81799786-9173-4913-daf0-c4e853d1cbaa"
      },
      "source": [
        "print(\"After cleaning\")\n",
        "news_df.head(5)"
      ],
      "execution_count": 7,
      "outputs": [
        {
          "output_type": "stream",
          "text": [
            "After cleaning\n"
          ],
          "name": "stdout"
        },
        {
          "output_type": "execute_result",
          "data": {
            "text/html": [
              "<div>\n",
              "<style scoped>\n",
              "    .dataframe tbody tr th:only-of-type {\n",
              "        vertical-align: middle;\n",
              "    }\n",
              "\n",
              "    .dataframe tbody tr th {\n",
              "        vertical-align: top;\n",
              "    }\n",
              "\n",
              "    .dataframe thead th {\n",
              "        text-align: right;\n",
              "    }\n",
              "</style>\n",
              "<table border=\"1\" class=\"dataframe\">\n",
              "  <thead>\n",
              "    <tr style=\"text-align: right;\">\n",
              "      <th></th>\n",
              "      <th>Date</th>\n",
              "      <th>news</th>\n",
              "    </tr>\n",
              "  </thead>\n",
              "  <tbody>\n",
              "    <tr>\n",
              "      <th>0</th>\n",
              "      <td>2014-03-10</td>\n",
              "      <td>titanfall review roundup</td>\n",
              "    </tr>\n",
              "    <tr>\n",
              "      <th>1</th>\n",
              "      <td>2014-03-10</td>\n",
              "      <td>titanfall review buddy</td>\n",
              "    </tr>\n",
              "    <tr>\n",
              "      <th>2</th>\n",
              "      <td>2014-03-10</td>\n",
              "      <td>respawn titanfall server stability microsoft a...</td>\n",
              "    </tr>\n",
              "    <tr>\n",
              "      <th>3</th>\n",
              "      <td>2014-03-10</td>\n",
              "      <td>titanfall resolution likely increased patch</td>\n",
              "    </tr>\n",
              "    <tr>\n",
              "      <th>4</th>\n",
              "      <td>2014-03-10</td>\n",
              "      <td>xbox one titanfall bundle release date tomorro...</td>\n",
              "    </tr>\n",
              "  </tbody>\n",
              "</table>\n",
              "</div>"
            ],
            "text/plain": [
              "        Date                                               news\n",
              "0 2014-03-10                           titanfall review roundup\n",
              "1 2014-03-10                             titanfall review buddy\n",
              "2 2014-03-10  respawn titanfall server stability microsoft a...\n",
              "3 2014-03-10        titanfall resolution likely increased patch\n",
              "4 2014-03-10  xbox one titanfall bundle release date tomorro..."
            ]
          },
          "metadata": {
            "tags": []
          },
          "execution_count": 7
        }
      ]
    },
    {
      "cell_type": "code",
      "metadata": {
        "id": "0RPbvY5vw_dR",
        "colab_type": "code",
        "colab": {}
      },
      "source": [
        "utils.save_pickle('uci_tech_clean_news', news_df)"
      ],
      "execution_count": 0,
      "outputs": []
    },
    {
      "cell_type": "markdown",
      "metadata": {
        "id": "7b7m5vgfw_de",
        "colab_type": "text"
      },
      "source": [
        "### Getting stock change labels for time duration we have the news ##"
      ]
    },
    {
      "cell_type": "code",
      "metadata": {
        "id": "JAO_T4Urw_dk",
        "colab_type": "code",
        "colab": {}
      },
      "source": [
        "company = \"GOOG\"\n",
        "start_date = min(news_df['Date'])\n",
        "end_date = max(news_df['Date'])\n",
        "predict_trend = 1"
      ],
      "execution_count": 0,
      "outputs": []
    },
    {
      "cell_type": "code",
      "metadata": {
        "id": "3CCGVr3vw_dt",
        "colab_type": "code",
        "colab": {}
      },
      "source": [
        "stock_labels_df = utils.get_stock_change_labels(start=start_date,\n",
        "                                                end=end_date,\n",
        "                                                company=company,\n",
        "                                                cutoff=.5,\n",
        "                                                n_labels=3,\n",
        "                                                shift=predict_trend)"
      ],
      "execution_count": 0,
      "outputs": []
    },
    {
      "cell_type": "code",
      "metadata": {
        "id": "G6D_Hq6Hw_d8",
        "colab_type": "code",
        "colab": {
          "base_uri": "https://localhost:8080/",
          "height": 206
        },
        "outputId": "e624c3bd-bf8f-42fc-d556-011a557285a1"
      },
      "source": [
        "stock_labels_df.head()"
      ],
      "execution_count": 11,
      "outputs": [
        {
          "output_type": "execute_result",
          "data": {
            "text/html": [
              "<div>\n",
              "<style scoped>\n",
              "    .dataframe tbody tr th:only-of-type {\n",
              "        vertical-align: middle;\n",
              "    }\n",
              "\n",
              "    .dataframe tbody tr th {\n",
              "        vertical-align: top;\n",
              "    }\n",
              "\n",
              "    .dataframe thead th {\n",
              "        text-align: right;\n",
              "    }\n",
              "</style>\n",
              "<table border=\"1\" class=\"dataframe\">\n",
              "  <thead>\n",
              "    <tr style=\"text-align: right;\">\n",
              "      <th></th>\n",
              "      <th>Date</th>\n",
              "      <th>change_1</th>\n",
              "    </tr>\n",
              "  </thead>\n",
              "  <tbody>\n",
              "    <tr>\n",
              "      <th>0</th>\n",
              "      <td>2014-03-10</td>\n",
              "      <td>2</td>\n",
              "    </tr>\n",
              "    <tr>\n",
              "      <th>1</th>\n",
              "      <td>2014-03-11</td>\n",
              "      <td>2</td>\n",
              "    </tr>\n",
              "    <tr>\n",
              "      <th>2</th>\n",
              "      <td>2014-03-12</td>\n",
              "      <td>2</td>\n",
              "    </tr>\n",
              "    <tr>\n",
              "      <th>3</th>\n",
              "      <td>2014-03-13</td>\n",
              "      <td>2</td>\n",
              "    </tr>\n",
              "    <tr>\n",
              "      <th>4</th>\n",
              "      <td>2014-03-14</td>\n",
              "      <td>1</td>\n",
              "    </tr>\n",
              "  </tbody>\n",
              "</table>\n",
              "</div>"
            ],
            "text/plain": [
              "        Date  change_1\n",
              "0 2014-03-10         2\n",
              "1 2014-03-11         2\n",
              "2 2014-03-12         2\n",
              "3 2014-03-13         2\n",
              "4 2014-03-14         1"
            ]
          },
          "metadata": {
            "tags": []
          },
          "execution_count": 11
        }
      ]
    },
    {
      "cell_type": "code",
      "metadata": {
        "id": "Wjo5fgUCw_eJ",
        "colab_type": "code",
        "colab": {
          "base_uri": "https://localhost:8080/",
          "height": 88
        },
        "outputId": "c5ebeea1-8f46-4092-ed2d-c099fc9a7dd1"
      },
      "source": [
        "stock_labels_df['change_1'].value_counts()"
      ],
      "execution_count": 12,
      "outputs": [
        {
          "output_type": "execute_result",
          "data": {
            "text/plain": [
              "2    53\n",
              "1    41\n",
              "0    26\n",
              "Name: change_1, dtype: int64"
            ]
          },
          "metadata": {
            "tags": []
          },
          "execution_count": 12
        }
      ]
    },
    {
      "cell_type": "markdown",
      "metadata": {
        "id": "ITcvb54ww_eQ",
        "colab_type": "text"
      },
      "source": [
        "### Getting stock features for time duration we have the news"
      ]
    },
    {
      "cell_type": "code",
      "metadata": {
        "id": "3yBod26xw_eT",
        "colab_type": "code",
        "colab": {}
      },
      "source": [
        "stock_data_df = utils.get_stock_data(start=min(news_df['Date']),\n",
        "                                     end=max(news_df['Date']),\n",
        "                                     company=\"GOOG\",\n",
        "                                     additional_features=True)"
      ],
      "execution_count": 0,
      "outputs": []
    },
    {
      "cell_type": "code",
      "metadata": {
        "id": "4X90ABmjw_ee",
        "colab_type": "code",
        "colab": {
          "base_uri": "https://localhost:8080/",
          "height": 289
        },
        "outputId": "0d86e56d-de89-4b3e-ff11-54b83951a1c0"
      },
      "source": [
        "stock_data_df.head(7)"
      ],
      "execution_count": 14,
      "outputs": [
        {
          "output_type": "execute_result",
          "data": {
            "text/html": [
              "<div>\n",
              "<style scoped>\n",
              "    .dataframe tbody tr th:only-of-type {\n",
              "        vertical-align: middle;\n",
              "    }\n",
              "\n",
              "    .dataframe tbody tr th {\n",
              "        vertical-align: top;\n",
              "    }\n",
              "\n",
              "    .dataframe thead th {\n",
              "        text-align: right;\n",
              "    }\n",
              "</style>\n",
              "<table border=\"1\" class=\"dataframe\">\n",
              "  <thead>\n",
              "    <tr style=\"text-align: right;\">\n",
              "      <th></th>\n",
              "      <th>Date</th>\n",
              "      <th>High</th>\n",
              "      <th>Low</th>\n",
              "      <th>Open</th>\n",
              "      <th>Close</th>\n",
              "      <th>Volume</th>\n",
              "      <th>Is_month_end</th>\n",
              "      <th>Is_month_start</th>\n",
              "      <th>Is_quarter_end</th>\n",
              "      <th>Is_quarter_start</th>\n",
              "      <th>Is_year_end</th>\n",
              "      <th>Is_year_start</th>\n",
              "      <th>dayofweek_0</th>\n",
              "      <th>dayofweek_1</th>\n",
              "      <th>dayofweek_2</th>\n",
              "      <th>dayofweek_3</th>\n",
              "      <th>dayofweek_4</th>\n",
              "      <th>week_11</th>\n",
              "      <th>week_12</th>\n",
              "      <th>week_13</th>\n",
              "      <th>week_14</th>\n",
              "      <th>week_15</th>\n",
              "      <th>week_16</th>\n",
              "      <th>week_17</th>\n",
              "      <th>week_18</th>\n",
              "      <th>week_19</th>\n",
              "      <th>week_20</th>\n",
              "      <th>week_21</th>\n",
              "      <th>week_22</th>\n",
              "      <th>week_23</th>\n",
              "      <th>week_24</th>\n",
              "      <th>week_25</th>\n",
              "      <th>week_26</th>\n",
              "      <th>week_27</th>\n",
              "      <th>week_28</th>\n",
              "      <th>week_29</th>\n",
              "      <th>week_30</th>\n",
              "      <th>week_31</th>\n",
              "      <th>week_32</th>\n",
              "      <th>week_33</th>\n",
              "      <th>week_34</th>\n",
              "      <th>week_35</th>\n",
              "      <th>month_3</th>\n",
              "      <th>month_4</th>\n",
              "      <th>month_5</th>\n",
              "      <th>month_6</th>\n",
              "      <th>month_7</th>\n",
              "      <th>month_8</th>\n",
              "    </tr>\n",
              "  </thead>\n",
              "  <tbody>\n",
              "    <tr>\n",
              "      <th>0</th>\n",
              "      <td>2014-03-10</td>\n",
              "      <td>606.546509</td>\n",
              "      <td>599.796814</td>\n",
              "      <td>605.575134</td>\n",
              "      <td>603.522827</td>\n",
              "      <td>2438200.0</td>\n",
              "      <td>False</td>\n",
              "      <td>False</td>\n",
              "      <td>False</td>\n",
              "      <td>False</td>\n",
              "      <td>False</td>\n",
              "      <td>False</td>\n",
              "      <td>1</td>\n",
              "      <td>0</td>\n",
              "      <td>0</td>\n",
              "      <td>0</td>\n",
              "      <td>0</td>\n",
              "      <td>1</td>\n",
              "      <td>0</td>\n",
              "      <td>0</td>\n",
              "      <td>0</td>\n",
              "      <td>0</td>\n",
              "      <td>0</td>\n",
              "      <td>0</td>\n",
              "      <td>0</td>\n",
              "      <td>0</td>\n",
              "      <td>0</td>\n",
              "      <td>0</td>\n",
              "      <td>0</td>\n",
              "      <td>0</td>\n",
              "      <td>0</td>\n",
              "      <td>0</td>\n",
              "      <td>0</td>\n",
              "      <td>0</td>\n",
              "      <td>0</td>\n",
              "      <td>0</td>\n",
              "      <td>0</td>\n",
              "      <td>0</td>\n",
              "      <td>0</td>\n",
              "      <td>0</td>\n",
              "      <td>0</td>\n",
              "      <td>0</td>\n",
              "      <td>1</td>\n",
              "      <td>0</td>\n",
              "      <td>0</td>\n",
              "      <td>0</td>\n",
              "      <td>0</td>\n",
              "      <td>0</td>\n",
              "    </tr>\n",
              "    <tr>\n",
              "      <th>1</th>\n",
              "      <td>2014-03-11</td>\n",
              "      <td>604.892700</td>\n",
              "      <td>596.085754</td>\n",
              "      <td>604.618713</td>\n",
              "      <td>597.754456</td>\n",
              "      <td>3438800.0</td>\n",
              "      <td>False</td>\n",
              "      <td>False</td>\n",
              "      <td>False</td>\n",
              "      <td>False</td>\n",
              "      <td>False</td>\n",
              "      <td>False</td>\n",
              "      <td>0</td>\n",
              "      <td>1</td>\n",
              "      <td>0</td>\n",
              "      <td>0</td>\n",
              "      <td>0</td>\n",
              "      <td>1</td>\n",
              "      <td>0</td>\n",
              "      <td>0</td>\n",
              "      <td>0</td>\n",
              "      <td>0</td>\n",
              "      <td>0</td>\n",
              "      <td>0</td>\n",
              "      <td>0</td>\n",
              "      <td>0</td>\n",
              "      <td>0</td>\n",
              "      <td>0</td>\n",
              "      <td>0</td>\n",
              "      <td>0</td>\n",
              "      <td>0</td>\n",
              "      <td>0</td>\n",
              "      <td>0</td>\n",
              "      <td>0</td>\n",
              "      <td>0</td>\n",
              "      <td>0</td>\n",
              "      <td>0</td>\n",
              "      <td>0</td>\n",
              "      <td>0</td>\n",
              "      <td>0</td>\n",
              "      <td>0</td>\n",
              "      <td>0</td>\n",
              "      <td>1</td>\n",
              "      <td>0</td>\n",
              "      <td>0</td>\n",
              "      <td>0</td>\n",
              "      <td>0</td>\n",
              "      <td>0</td>\n",
              "    </tr>\n",
              "    <tr>\n",
              "      <th>2</th>\n",
              "      <td>2014-03-12</td>\n",
              "      <td>601.669800</td>\n",
              "      <td>589.883972</td>\n",
              "      <td>595.966187</td>\n",
              "      <td>601.395813</td>\n",
              "      <td>3943200.0</td>\n",
              "      <td>False</td>\n",
              "      <td>False</td>\n",
              "      <td>False</td>\n",
              "      <td>False</td>\n",
              "      <td>False</td>\n",
              "      <td>False</td>\n",
              "      <td>0</td>\n",
              "      <td>0</td>\n",
              "      <td>1</td>\n",
              "      <td>0</td>\n",
              "      <td>0</td>\n",
              "      <td>1</td>\n",
              "      <td>0</td>\n",
              "      <td>0</td>\n",
              "      <td>0</td>\n",
              "      <td>0</td>\n",
              "      <td>0</td>\n",
              "      <td>0</td>\n",
              "      <td>0</td>\n",
              "      <td>0</td>\n",
              "      <td>0</td>\n",
              "      <td>0</td>\n",
              "      <td>0</td>\n",
              "      <td>0</td>\n",
              "      <td>0</td>\n",
              "      <td>0</td>\n",
              "      <td>0</td>\n",
              "      <td>0</td>\n",
              "      <td>0</td>\n",
              "      <td>0</td>\n",
              "      <td>0</td>\n",
              "      <td>0</td>\n",
              "      <td>0</td>\n",
              "      <td>0</td>\n",
              "      <td>0</td>\n",
              "      <td>0</td>\n",
              "      <td>1</td>\n",
              "      <td>0</td>\n",
              "      <td>0</td>\n",
              "      <td>0</td>\n",
              "      <td>0</td>\n",
              "      <td>0</td>\n",
              "    </tr>\n",
              "    <tr>\n",
              "      <th>3</th>\n",
              "      <td>2014-03-13</td>\n",
              "      <td>602.989868</td>\n",
              "      <td>590.167908</td>\n",
              "      <td>601.719604</td>\n",
              "      <td>592.309875</td>\n",
              "      <td>4708600.0</td>\n",
              "      <td>False</td>\n",
              "      <td>False</td>\n",
              "      <td>False</td>\n",
              "      <td>False</td>\n",
              "      <td>False</td>\n",
              "      <td>False</td>\n",
              "      <td>0</td>\n",
              "      <td>0</td>\n",
              "      <td>0</td>\n",
              "      <td>1</td>\n",
              "      <td>0</td>\n",
              "      <td>1</td>\n",
              "      <td>0</td>\n",
              "      <td>0</td>\n",
              "      <td>0</td>\n",
              "      <td>0</td>\n",
              "      <td>0</td>\n",
              "      <td>0</td>\n",
              "      <td>0</td>\n",
              "      <td>0</td>\n",
              "      <td>0</td>\n",
              "      <td>0</td>\n",
              "      <td>0</td>\n",
              "      <td>0</td>\n",
              "      <td>0</td>\n",
              "      <td>0</td>\n",
              "      <td>0</td>\n",
              "      <td>0</td>\n",
              "      <td>0</td>\n",
              "      <td>0</td>\n",
              "      <td>0</td>\n",
              "      <td>0</td>\n",
              "      <td>0</td>\n",
              "      <td>0</td>\n",
              "      <td>0</td>\n",
              "      <td>0</td>\n",
              "      <td>1</td>\n",
              "      <td>0</td>\n",
              "      <td>0</td>\n",
              "      <td>0</td>\n",
              "      <td>0</td>\n",
              "      <td>0</td>\n",
              "    </tr>\n",
              "    <tr>\n",
              "      <th>4</th>\n",
              "      <td>2014-03-14</td>\n",
              "      <td>593.211487</td>\n",
              "      <td>584.075745</td>\n",
              "      <td>588.788086</td>\n",
              "      <td>584.210266</td>\n",
              "      <td>4604900.0</td>\n",
              "      <td>False</td>\n",
              "      <td>False</td>\n",
              "      <td>False</td>\n",
              "      <td>False</td>\n",
              "      <td>False</td>\n",
              "      <td>False</td>\n",
              "      <td>0</td>\n",
              "      <td>0</td>\n",
              "      <td>0</td>\n",
              "      <td>0</td>\n",
              "      <td>1</td>\n",
              "      <td>1</td>\n",
              "      <td>0</td>\n",
              "      <td>0</td>\n",
              "      <td>0</td>\n",
              "      <td>0</td>\n",
              "      <td>0</td>\n",
              "      <td>0</td>\n",
              "      <td>0</td>\n",
              "      <td>0</td>\n",
              "      <td>0</td>\n",
              "      <td>0</td>\n",
              "      <td>0</td>\n",
              "      <td>0</td>\n",
              "      <td>0</td>\n",
              "      <td>0</td>\n",
              "      <td>0</td>\n",
              "      <td>0</td>\n",
              "      <td>0</td>\n",
              "      <td>0</td>\n",
              "      <td>0</td>\n",
              "      <td>0</td>\n",
              "      <td>0</td>\n",
              "      <td>0</td>\n",
              "      <td>0</td>\n",
              "      <td>0</td>\n",
              "      <td>1</td>\n",
              "      <td>0</td>\n",
              "      <td>0</td>\n",
              "      <td>0</td>\n",
              "      <td>0</td>\n",
              "      <td>0</td>\n",
              "    </tr>\n",
              "    <tr>\n",
              "      <th>5</th>\n",
              "      <td>2014-03-17</td>\n",
              "      <td>596.299927</td>\n",
              "      <td>586.855347</td>\n",
              "      <td>587.423218</td>\n",
              "      <td>593.824219</td>\n",
              "      <td>4340300.0</td>\n",
              "      <td>False</td>\n",
              "      <td>False</td>\n",
              "      <td>False</td>\n",
              "      <td>False</td>\n",
              "      <td>False</td>\n",
              "      <td>False</td>\n",
              "      <td>1</td>\n",
              "      <td>0</td>\n",
              "      <td>0</td>\n",
              "      <td>0</td>\n",
              "      <td>0</td>\n",
              "      <td>0</td>\n",
              "      <td>1</td>\n",
              "      <td>0</td>\n",
              "      <td>0</td>\n",
              "      <td>0</td>\n",
              "      <td>0</td>\n",
              "      <td>0</td>\n",
              "      <td>0</td>\n",
              "      <td>0</td>\n",
              "      <td>0</td>\n",
              "      <td>0</td>\n",
              "      <td>0</td>\n",
              "      <td>0</td>\n",
              "      <td>0</td>\n",
              "      <td>0</td>\n",
              "      <td>0</td>\n",
              "      <td>0</td>\n",
              "      <td>0</td>\n",
              "      <td>0</td>\n",
              "      <td>0</td>\n",
              "      <td>0</td>\n",
              "      <td>0</td>\n",
              "      <td>0</td>\n",
              "      <td>0</td>\n",
              "      <td>0</td>\n",
              "      <td>1</td>\n",
              "      <td>0</td>\n",
              "      <td>0</td>\n",
              "      <td>0</td>\n",
              "      <td>0</td>\n",
              "      <td>0</td>\n",
              "    </tr>\n",
              "    <tr>\n",
              "      <th>6</th>\n",
              "      <td>2014-03-18</td>\n",
              "      <td>603.502930</td>\n",
              "      <td>594.302429</td>\n",
              "      <td>595.104431</td>\n",
              "      <td>603.368408</td>\n",
              "      <td>3643500.0</td>\n",
              "      <td>False</td>\n",
              "      <td>False</td>\n",
              "      <td>False</td>\n",
              "      <td>False</td>\n",
              "      <td>False</td>\n",
              "      <td>False</td>\n",
              "      <td>0</td>\n",
              "      <td>1</td>\n",
              "      <td>0</td>\n",
              "      <td>0</td>\n",
              "      <td>0</td>\n",
              "      <td>0</td>\n",
              "      <td>1</td>\n",
              "      <td>0</td>\n",
              "      <td>0</td>\n",
              "      <td>0</td>\n",
              "      <td>0</td>\n",
              "      <td>0</td>\n",
              "      <td>0</td>\n",
              "      <td>0</td>\n",
              "      <td>0</td>\n",
              "      <td>0</td>\n",
              "      <td>0</td>\n",
              "      <td>0</td>\n",
              "      <td>0</td>\n",
              "      <td>0</td>\n",
              "      <td>0</td>\n",
              "      <td>0</td>\n",
              "      <td>0</td>\n",
              "      <td>0</td>\n",
              "      <td>0</td>\n",
              "      <td>0</td>\n",
              "      <td>0</td>\n",
              "      <td>0</td>\n",
              "      <td>0</td>\n",
              "      <td>0</td>\n",
              "      <td>1</td>\n",
              "      <td>0</td>\n",
              "      <td>0</td>\n",
              "      <td>0</td>\n",
              "      <td>0</td>\n",
              "      <td>0</td>\n",
              "    </tr>\n",
              "  </tbody>\n",
              "</table>\n",
              "</div>"
            ],
            "text/plain": [
              "        Date        High         Low        Open       Close     Volume  \\\n",
              "0 2014-03-10  606.546509  599.796814  605.575134  603.522827  2438200.0   \n",
              "1 2014-03-11  604.892700  596.085754  604.618713  597.754456  3438800.0   \n",
              "2 2014-03-12  601.669800  589.883972  595.966187  601.395813  3943200.0   \n",
              "3 2014-03-13  602.989868  590.167908  601.719604  592.309875  4708600.0   \n",
              "4 2014-03-14  593.211487  584.075745  588.788086  584.210266  4604900.0   \n",
              "5 2014-03-17  596.299927  586.855347  587.423218  593.824219  4340300.0   \n",
              "6 2014-03-18  603.502930  594.302429  595.104431  603.368408  3643500.0   \n",
              "\n",
              "   Is_month_end  Is_month_start  Is_quarter_end  Is_quarter_start  \\\n",
              "0         False           False           False             False   \n",
              "1         False           False           False             False   \n",
              "2         False           False           False             False   \n",
              "3         False           False           False             False   \n",
              "4         False           False           False             False   \n",
              "5         False           False           False             False   \n",
              "6         False           False           False             False   \n",
              "\n",
              "   Is_year_end  Is_year_start  dayofweek_0  dayofweek_1  dayofweek_2  \\\n",
              "0        False          False            1            0            0   \n",
              "1        False          False            0            1            0   \n",
              "2        False          False            0            0            1   \n",
              "3        False          False            0            0            0   \n",
              "4        False          False            0            0            0   \n",
              "5        False          False            1            0            0   \n",
              "6        False          False            0            1            0   \n",
              "\n",
              "   dayofweek_3  dayofweek_4  week_11  week_12  week_13  week_14  week_15  \\\n",
              "0            0            0        1        0        0        0        0   \n",
              "1            0            0        1        0        0        0        0   \n",
              "2            0            0        1        0        0        0        0   \n",
              "3            1            0        1        0        0        0        0   \n",
              "4            0            1        1        0        0        0        0   \n",
              "5            0            0        0        1        0        0        0   \n",
              "6            0            0        0        1        0        0        0   \n",
              "\n",
              "   week_16  week_17  week_18  week_19  week_20  week_21  week_22  week_23  \\\n",
              "0        0        0        0        0        0        0        0        0   \n",
              "1        0        0        0        0        0        0        0        0   \n",
              "2        0        0        0        0        0        0        0        0   \n",
              "3        0        0        0        0        0        0        0        0   \n",
              "4        0        0        0        0        0        0        0        0   \n",
              "5        0        0        0        0        0        0        0        0   \n",
              "6        0        0        0        0        0        0        0        0   \n",
              "\n",
              "   week_24  week_25  week_26  week_27  week_28  week_29  week_30  week_31  \\\n",
              "0        0        0        0        0        0        0        0        0   \n",
              "1        0        0        0        0        0        0        0        0   \n",
              "2        0        0        0        0        0        0        0        0   \n",
              "3        0        0        0        0        0        0        0        0   \n",
              "4        0        0        0        0        0        0        0        0   \n",
              "5        0        0        0        0        0        0        0        0   \n",
              "6        0        0        0        0        0        0        0        0   \n",
              "\n",
              "   week_32  week_33  week_34  week_35  month_3  month_4  month_5  month_6  \\\n",
              "0        0        0        0        0        1        0        0        0   \n",
              "1        0        0        0        0        1        0        0        0   \n",
              "2        0        0        0        0        1        0        0        0   \n",
              "3        0        0        0        0        1        0        0        0   \n",
              "4        0        0        0        0        1        0        0        0   \n",
              "5        0        0        0        0        1        0        0        0   \n",
              "6        0        0        0        0        1        0        0        0   \n",
              "\n",
              "   month_7  month_8  \n",
              "0        0        0  \n",
              "1        0        0  \n",
              "2        0        0  \n",
              "3        0        0  \n",
              "4        0        0  \n",
              "5        0        0  \n",
              "6        0        0  "
            ]
          },
          "metadata": {
            "tags": []
          },
          "execution_count": 14
        }
      ]
    },
    {
      "cell_type": "markdown",
      "metadata": {
        "id": "8kE5KIs3w_eo",
        "colab_type": "text"
      },
      "source": [
        "### Preparing sequential for stock data"
      ]
    },
    {
      "cell_type": "code",
      "metadata": {
        "id": "V7rpeE6xw_er",
        "colab_type": "code",
        "colab": {}
      },
      "source": [
        "# combining stock features and labels\n",
        "stock_data_df = pd.merge(stock_data_df, stock_labels_df, on=\"Date\",how=\"inner\")\n",
        "stock_data_df = stock_data_df.set_index('Date')"
      ],
      "execution_count": 0,
      "outputs": []
    },
    {
      "cell_type": "code",
      "metadata": {
        "id": "q1JXpxxMw_ex",
        "colab_type": "code",
        "colab": {
          "base_uri": "https://localhost:8080/",
          "height": 258
        },
        "outputId": "c51eea17-a6a3-4b72-eef7-a184a4ac0cec"
      },
      "source": [
        "stock_data_df.head(5)"
      ],
      "execution_count": 16,
      "outputs": [
        {
          "output_type": "execute_result",
          "data": {
            "text/html": [
              "<div>\n",
              "<style scoped>\n",
              "    .dataframe tbody tr th:only-of-type {\n",
              "        vertical-align: middle;\n",
              "    }\n",
              "\n",
              "    .dataframe tbody tr th {\n",
              "        vertical-align: top;\n",
              "    }\n",
              "\n",
              "    .dataframe thead th {\n",
              "        text-align: right;\n",
              "    }\n",
              "</style>\n",
              "<table border=\"1\" class=\"dataframe\">\n",
              "  <thead>\n",
              "    <tr style=\"text-align: right;\">\n",
              "      <th></th>\n",
              "      <th>High</th>\n",
              "      <th>Low</th>\n",
              "      <th>Open</th>\n",
              "      <th>Close</th>\n",
              "      <th>Volume</th>\n",
              "      <th>Is_month_end</th>\n",
              "      <th>Is_month_start</th>\n",
              "      <th>Is_quarter_end</th>\n",
              "      <th>Is_quarter_start</th>\n",
              "      <th>Is_year_end</th>\n",
              "      <th>Is_year_start</th>\n",
              "      <th>dayofweek_0</th>\n",
              "      <th>dayofweek_1</th>\n",
              "      <th>dayofweek_2</th>\n",
              "      <th>dayofweek_3</th>\n",
              "      <th>dayofweek_4</th>\n",
              "      <th>week_11</th>\n",
              "      <th>week_12</th>\n",
              "      <th>week_13</th>\n",
              "      <th>week_14</th>\n",
              "      <th>week_15</th>\n",
              "      <th>week_16</th>\n",
              "      <th>week_17</th>\n",
              "      <th>week_18</th>\n",
              "      <th>week_19</th>\n",
              "      <th>week_20</th>\n",
              "      <th>week_21</th>\n",
              "      <th>week_22</th>\n",
              "      <th>week_23</th>\n",
              "      <th>week_24</th>\n",
              "      <th>week_25</th>\n",
              "      <th>week_26</th>\n",
              "      <th>week_27</th>\n",
              "      <th>week_28</th>\n",
              "      <th>week_29</th>\n",
              "      <th>week_30</th>\n",
              "      <th>week_31</th>\n",
              "      <th>week_32</th>\n",
              "      <th>week_33</th>\n",
              "      <th>week_34</th>\n",
              "      <th>week_35</th>\n",
              "      <th>month_3</th>\n",
              "      <th>month_4</th>\n",
              "      <th>month_5</th>\n",
              "      <th>month_6</th>\n",
              "      <th>month_7</th>\n",
              "      <th>month_8</th>\n",
              "      <th>change_1</th>\n",
              "    </tr>\n",
              "    <tr>\n",
              "      <th>Date</th>\n",
              "      <th></th>\n",
              "      <th></th>\n",
              "      <th></th>\n",
              "      <th></th>\n",
              "      <th></th>\n",
              "      <th></th>\n",
              "      <th></th>\n",
              "      <th></th>\n",
              "      <th></th>\n",
              "      <th></th>\n",
              "      <th></th>\n",
              "      <th></th>\n",
              "      <th></th>\n",
              "      <th></th>\n",
              "      <th></th>\n",
              "      <th></th>\n",
              "      <th></th>\n",
              "      <th></th>\n",
              "      <th></th>\n",
              "      <th></th>\n",
              "      <th></th>\n",
              "      <th></th>\n",
              "      <th></th>\n",
              "      <th></th>\n",
              "      <th></th>\n",
              "      <th></th>\n",
              "      <th></th>\n",
              "      <th></th>\n",
              "      <th></th>\n",
              "      <th></th>\n",
              "      <th></th>\n",
              "      <th></th>\n",
              "      <th></th>\n",
              "      <th></th>\n",
              "      <th></th>\n",
              "      <th></th>\n",
              "      <th></th>\n",
              "      <th></th>\n",
              "      <th></th>\n",
              "      <th></th>\n",
              "      <th></th>\n",
              "      <th></th>\n",
              "      <th></th>\n",
              "      <th></th>\n",
              "      <th></th>\n",
              "      <th></th>\n",
              "      <th></th>\n",
              "      <th></th>\n",
              "    </tr>\n",
              "  </thead>\n",
              "  <tbody>\n",
              "    <tr>\n",
              "      <th>2014-03-10</th>\n",
              "      <td>606.546509</td>\n",
              "      <td>599.796814</td>\n",
              "      <td>605.575134</td>\n",
              "      <td>603.522827</td>\n",
              "      <td>2438200.0</td>\n",
              "      <td>False</td>\n",
              "      <td>False</td>\n",
              "      <td>False</td>\n",
              "      <td>False</td>\n",
              "      <td>False</td>\n",
              "      <td>False</td>\n",
              "      <td>1</td>\n",
              "      <td>0</td>\n",
              "      <td>0</td>\n",
              "      <td>0</td>\n",
              "      <td>0</td>\n",
              "      <td>1</td>\n",
              "      <td>0</td>\n",
              "      <td>0</td>\n",
              "      <td>0</td>\n",
              "      <td>0</td>\n",
              "      <td>0</td>\n",
              "      <td>0</td>\n",
              "      <td>0</td>\n",
              "      <td>0</td>\n",
              "      <td>0</td>\n",
              "      <td>0</td>\n",
              "      <td>0</td>\n",
              "      <td>0</td>\n",
              "      <td>0</td>\n",
              "      <td>0</td>\n",
              "      <td>0</td>\n",
              "      <td>0</td>\n",
              "      <td>0</td>\n",
              "      <td>0</td>\n",
              "      <td>0</td>\n",
              "      <td>0</td>\n",
              "      <td>0</td>\n",
              "      <td>0</td>\n",
              "      <td>0</td>\n",
              "      <td>0</td>\n",
              "      <td>1</td>\n",
              "      <td>0</td>\n",
              "      <td>0</td>\n",
              "      <td>0</td>\n",
              "      <td>0</td>\n",
              "      <td>0</td>\n",
              "      <td>2</td>\n",
              "    </tr>\n",
              "    <tr>\n",
              "      <th>2014-03-11</th>\n",
              "      <td>604.892700</td>\n",
              "      <td>596.085754</td>\n",
              "      <td>604.618713</td>\n",
              "      <td>597.754456</td>\n",
              "      <td>3438800.0</td>\n",
              "      <td>False</td>\n",
              "      <td>False</td>\n",
              "      <td>False</td>\n",
              "      <td>False</td>\n",
              "      <td>False</td>\n",
              "      <td>False</td>\n",
              "      <td>0</td>\n",
              "      <td>1</td>\n",
              "      <td>0</td>\n",
              "      <td>0</td>\n",
              "      <td>0</td>\n",
              "      <td>1</td>\n",
              "      <td>0</td>\n",
              "      <td>0</td>\n",
              "      <td>0</td>\n",
              "      <td>0</td>\n",
              "      <td>0</td>\n",
              "      <td>0</td>\n",
              "      <td>0</td>\n",
              "      <td>0</td>\n",
              "      <td>0</td>\n",
              "      <td>0</td>\n",
              "      <td>0</td>\n",
              "      <td>0</td>\n",
              "      <td>0</td>\n",
              "      <td>0</td>\n",
              "      <td>0</td>\n",
              "      <td>0</td>\n",
              "      <td>0</td>\n",
              "      <td>0</td>\n",
              "      <td>0</td>\n",
              "      <td>0</td>\n",
              "      <td>0</td>\n",
              "      <td>0</td>\n",
              "      <td>0</td>\n",
              "      <td>0</td>\n",
              "      <td>1</td>\n",
              "      <td>0</td>\n",
              "      <td>0</td>\n",
              "      <td>0</td>\n",
              "      <td>0</td>\n",
              "      <td>0</td>\n",
              "      <td>2</td>\n",
              "    </tr>\n",
              "    <tr>\n",
              "      <th>2014-03-12</th>\n",
              "      <td>601.669800</td>\n",
              "      <td>589.883972</td>\n",
              "      <td>595.966187</td>\n",
              "      <td>601.395813</td>\n",
              "      <td>3943200.0</td>\n",
              "      <td>False</td>\n",
              "      <td>False</td>\n",
              "      <td>False</td>\n",
              "      <td>False</td>\n",
              "      <td>False</td>\n",
              "      <td>False</td>\n",
              "      <td>0</td>\n",
              "      <td>0</td>\n",
              "      <td>1</td>\n",
              "      <td>0</td>\n",
              "      <td>0</td>\n",
              "      <td>1</td>\n",
              "      <td>0</td>\n",
              "      <td>0</td>\n",
              "      <td>0</td>\n",
              "      <td>0</td>\n",
              "      <td>0</td>\n",
              "      <td>0</td>\n",
              "      <td>0</td>\n",
              "      <td>0</td>\n",
              "      <td>0</td>\n",
              "      <td>0</td>\n",
              "      <td>0</td>\n",
              "      <td>0</td>\n",
              "      <td>0</td>\n",
              "      <td>0</td>\n",
              "      <td>0</td>\n",
              "      <td>0</td>\n",
              "      <td>0</td>\n",
              "      <td>0</td>\n",
              "      <td>0</td>\n",
              "      <td>0</td>\n",
              "      <td>0</td>\n",
              "      <td>0</td>\n",
              "      <td>0</td>\n",
              "      <td>0</td>\n",
              "      <td>1</td>\n",
              "      <td>0</td>\n",
              "      <td>0</td>\n",
              "      <td>0</td>\n",
              "      <td>0</td>\n",
              "      <td>0</td>\n",
              "      <td>2</td>\n",
              "    </tr>\n",
              "    <tr>\n",
              "      <th>2014-03-13</th>\n",
              "      <td>602.989868</td>\n",
              "      <td>590.167908</td>\n",
              "      <td>601.719604</td>\n",
              "      <td>592.309875</td>\n",
              "      <td>4708600.0</td>\n",
              "      <td>False</td>\n",
              "      <td>False</td>\n",
              "      <td>False</td>\n",
              "      <td>False</td>\n",
              "      <td>False</td>\n",
              "      <td>False</td>\n",
              "      <td>0</td>\n",
              "      <td>0</td>\n",
              "      <td>0</td>\n",
              "      <td>1</td>\n",
              "      <td>0</td>\n",
              "      <td>1</td>\n",
              "      <td>0</td>\n",
              "      <td>0</td>\n",
              "      <td>0</td>\n",
              "      <td>0</td>\n",
              "      <td>0</td>\n",
              "      <td>0</td>\n",
              "      <td>0</td>\n",
              "      <td>0</td>\n",
              "      <td>0</td>\n",
              "      <td>0</td>\n",
              "      <td>0</td>\n",
              "      <td>0</td>\n",
              "      <td>0</td>\n",
              "      <td>0</td>\n",
              "      <td>0</td>\n",
              "      <td>0</td>\n",
              "      <td>0</td>\n",
              "      <td>0</td>\n",
              "      <td>0</td>\n",
              "      <td>0</td>\n",
              "      <td>0</td>\n",
              "      <td>0</td>\n",
              "      <td>0</td>\n",
              "      <td>0</td>\n",
              "      <td>1</td>\n",
              "      <td>0</td>\n",
              "      <td>0</td>\n",
              "      <td>0</td>\n",
              "      <td>0</td>\n",
              "      <td>0</td>\n",
              "      <td>2</td>\n",
              "    </tr>\n",
              "    <tr>\n",
              "      <th>2014-03-14</th>\n",
              "      <td>593.211487</td>\n",
              "      <td>584.075745</td>\n",
              "      <td>588.788086</td>\n",
              "      <td>584.210266</td>\n",
              "      <td>4604900.0</td>\n",
              "      <td>False</td>\n",
              "      <td>False</td>\n",
              "      <td>False</td>\n",
              "      <td>False</td>\n",
              "      <td>False</td>\n",
              "      <td>False</td>\n",
              "      <td>0</td>\n",
              "      <td>0</td>\n",
              "      <td>0</td>\n",
              "      <td>0</td>\n",
              "      <td>1</td>\n",
              "      <td>1</td>\n",
              "      <td>0</td>\n",
              "      <td>0</td>\n",
              "      <td>0</td>\n",
              "      <td>0</td>\n",
              "      <td>0</td>\n",
              "      <td>0</td>\n",
              "      <td>0</td>\n",
              "      <td>0</td>\n",
              "      <td>0</td>\n",
              "      <td>0</td>\n",
              "      <td>0</td>\n",
              "      <td>0</td>\n",
              "      <td>0</td>\n",
              "      <td>0</td>\n",
              "      <td>0</td>\n",
              "      <td>0</td>\n",
              "      <td>0</td>\n",
              "      <td>0</td>\n",
              "      <td>0</td>\n",
              "      <td>0</td>\n",
              "      <td>0</td>\n",
              "      <td>0</td>\n",
              "      <td>0</td>\n",
              "      <td>0</td>\n",
              "      <td>1</td>\n",
              "      <td>0</td>\n",
              "      <td>0</td>\n",
              "      <td>0</td>\n",
              "      <td>0</td>\n",
              "      <td>0</td>\n",
              "      <td>1</td>\n",
              "    </tr>\n",
              "  </tbody>\n",
              "</table>\n",
              "</div>"
            ],
            "text/plain": [
              "                  High         Low        Open       Close     Volume  \\\n",
              "Date                                                                    \n",
              "2014-03-10  606.546509  599.796814  605.575134  603.522827  2438200.0   \n",
              "2014-03-11  604.892700  596.085754  604.618713  597.754456  3438800.0   \n",
              "2014-03-12  601.669800  589.883972  595.966187  601.395813  3943200.0   \n",
              "2014-03-13  602.989868  590.167908  601.719604  592.309875  4708600.0   \n",
              "2014-03-14  593.211487  584.075745  588.788086  584.210266  4604900.0   \n",
              "\n",
              "            Is_month_end  Is_month_start  Is_quarter_end  Is_quarter_start  \\\n",
              "Date                                                                         \n",
              "2014-03-10         False           False           False             False   \n",
              "2014-03-11         False           False           False             False   \n",
              "2014-03-12         False           False           False             False   \n",
              "2014-03-13         False           False           False             False   \n",
              "2014-03-14         False           False           False             False   \n",
              "\n",
              "            Is_year_end  Is_year_start  dayofweek_0  dayofweek_1  dayofweek_2  \\\n",
              "Date                                                                            \n",
              "2014-03-10        False          False            1            0            0   \n",
              "2014-03-11        False          False            0            1            0   \n",
              "2014-03-12        False          False            0            0            1   \n",
              "2014-03-13        False          False            0            0            0   \n",
              "2014-03-14        False          False            0            0            0   \n",
              "\n",
              "            dayofweek_3  dayofweek_4  week_11  week_12  week_13  week_14  \\\n",
              "Date                                                                       \n",
              "2014-03-10            0            0        1        0        0        0   \n",
              "2014-03-11            0            0        1        0        0        0   \n",
              "2014-03-12            0            0        1        0        0        0   \n",
              "2014-03-13            1            0        1        0        0        0   \n",
              "2014-03-14            0            1        1        0        0        0   \n",
              "\n",
              "            week_15  week_16  week_17  week_18  week_19  week_20  week_21  \\\n",
              "Date                                                                        \n",
              "2014-03-10        0        0        0        0        0        0        0   \n",
              "2014-03-11        0        0        0        0        0        0        0   \n",
              "2014-03-12        0        0        0        0        0        0        0   \n",
              "2014-03-13        0        0        0        0        0        0        0   \n",
              "2014-03-14        0        0        0        0        0        0        0   \n",
              "\n",
              "            week_22  week_23  week_24  week_25  week_26  week_27  week_28  \\\n",
              "Date                                                                        \n",
              "2014-03-10        0        0        0        0        0        0        0   \n",
              "2014-03-11        0        0        0        0        0        0        0   \n",
              "2014-03-12        0        0        0        0        0        0        0   \n",
              "2014-03-13        0        0        0        0        0        0        0   \n",
              "2014-03-14        0        0        0        0        0        0        0   \n",
              "\n",
              "            week_29  week_30  week_31  week_32  week_33  week_34  week_35  \\\n",
              "Date                                                                        \n",
              "2014-03-10        0        0        0        0        0        0        0   \n",
              "2014-03-11        0        0        0        0        0        0        0   \n",
              "2014-03-12        0        0        0        0        0        0        0   \n",
              "2014-03-13        0        0        0        0        0        0        0   \n",
              "2014-03-14        0        0        0        0        0        0        0   \n",
              "\n",
              "            month_3  month_4  month_5  month_6  month_7  month_8  change_1  \n",
              "Date                                                                        \n",
              "2014-03-10        1        0        0        0        0        0         2  \n",
              "2014-03-11        1        0        0        0        0        0         2  \n",
              "2014-03-12        1        0        0        0        0        0         2  \n",
              "2014-03-13        1        0        0        0        0        0         2  \n",
              "2014-03-14        1        0        0        0        0        0         1  "
            ]
          },
          "metadata": {
            "tags": []
          },
          "execution_count": 16
        }
      ]
    },
    {
      "cell_type": "code",
      "metadata": {
        "id": "RsFGdrCZw_e-",
        "colab_type": "code",
        "colab": {}
      },
      "source": [
        "prev = 7\n",
        "X,y = utils.prepare_sequential_stock_data(stock_df=stock_data_df, label='change_' + str(1), prev=prev, scaling=True)"
      ],
      "execution_count": 0,
      "outputs": []
    },
    {
      "cell_type": "markdown",
      "metadata": {
        "id": "D9fBTwmYw_fJ",
        "colab_type": "text"
      },
      "source": [
        "### Checking sequences"
      ]
    },
    {
      "cell_type": "code",
      "metadata": {
        "id": "B2sm7xmMw_fO",
        "colab_type": "code",
        "colab": {
          "base_uri": "https://localhost:8080/",
          "height": 35
        },
        "outputId": "5d38bcb8-1b45-4680-e810-42f4c9b6093c"
      },
      "source": [
        "X.shape, y.shape"
      ],
      "execution_count": 18,
      "outputs": [
        {
          "output_type": "execute_result",
          "data": {
            "text/plain": [
              "((114, 7, 47), (114,))"
            ]
          },
          "metadata": {
            "tags": []
          },
          "execution_count": 18
        }
      ]
    },
    {
      "cell_type": "code",
      "metadata": {
        "id": "FuFC5-SVw_fV",
        "colab_type": "code",
        "colab": {
          "base_uri": "https://localhost:8080/",
          "height": 300
        },
        "outputId": "a0d1c42f-2663-4887-eb2d-840679b0d0d1"
      },
      "source": [
        "i = 0\n",
        "stock_data_df.iloc[i:i+prev][['High', 'Low', 'Volume', 'change_1']]"
      ],
      "execution_count": 19,
      "outputs": [
        {
          "output_type": "execute_result",
          "data": {
            "text/html": [
              "<div>\n",
              "<style scoped>\n",
              "    .dataframe tbody tr th:only-of-type {\n",
              "        vertical-align: middle;\n",
              "    }\n",
              "\n",
              "    .dataframe tbody tr th {\n",
              "        vertical-align: top;\n",
              "    }\n",
              "\n",
              "    .dataframe thead th {\n",
              "        text-align: right;\n",
              "    }\n",
              "</style>\n",
              "<table border=\"1\" class=\"dataframe\">\n",
              "  <thead>\n",
              "    <tr style=\"text-align: right;\">\n",
              "      <th></th>\n",
              "      <th>High</th>\n",
              "      <th>Low</th>\n",
              "      <th>Volume</th>\n",
              "      <th>change_1</th>\n",
              "    </tr>\n",
              "    <tr>\n",
              "      <th>Date</th>\n",
              "      <th></th>\n",
              "      <th></th>\n",
              "      <th></th>\n",
              "      <th></th>\n",
              "    </tr>\n",
              "  </thead>\n",
              "  <tbody>\n",
              "    <tr>\n",
              "      <th>2014-03-10</th>\n",
              "      <td>606.546509</td>\n",
              "      <td>599.796814</td>\n",
              "      <td>2438200.0</td>\n",
              "      <td>2</td>\n",
              "    </tr>\n",
              "    <tr>\n",
              "      <th>2014-03-11</th>\n",
              "      <td>604.892700</td>\n",
              "      <td>596.085754</td>\n",
              "      <td>3438800.0</td>\n",
              "      <td>2</td>\n",
              "    </tr>\n",
              "    <tr>\n",
              "      <th>2014-03-12</th>\n",
              "      <td>601.669800</td>\n",
              "      <td>589.883972</td>\n",
              "      <td>3943200.0</td>\n",
              "      <td>2</td>\n",
              "    </tr>\n",
              "    <tr>\n",
              "      <th>2014-03-13</th>\n",
              "      <td>602.989868</td>\n",
              "      <td>590.167908</td>\n",
              "      <td>4708600.0</td>\n",
              "      <td>2</td>\n",
              "    </tr>\n",
              "    <tr>\n",
              "      <th>2014-03-14</th>\n",
              "      <td>593.211487</td>\n",
              "      <td>584.075745</td>\n",
              "      <td>4604900.0</td>\n",
              "      <td>1</td>\n",
              "    </tr>\n",
              "    <tr>\n",
              "      <th>2014-03-17</th>\n",
              "      <td>596.299927</td>\n",
              "      <td>586.855347</td>\n",
              "      <td>4340300.0</td>\n",
              "      <td>1</td>\n",
              "    </tr>\n",
              "    <tr>\n",
              "      <th>2014-03-18</th>\n",
              "      <td>603.502930</td>\n",
              "      <td>594.302429</td>\n",
              "      <td>3643500.0</td>\n",
              "      <td>0</td>\n",
              "    </tr>\n",
              "  </tbody>\n",
              "</table>\n",
              "</div>"
            ],
            "text/plain": [
              "                  High         Low     Volume  change_1\n",
              "Date                                                   \n",
              "2014-03-10  606.546509  599.796814  2438200.0         2\n",
              "2014-03-11  604.892700  596.085754  3438800.0         2\n",
              "2014-03-12  601.669800  589.883972  3943200.0         2\n",
              "2014-03-13  602.989868  590.167908  4708600.0         2\n",
              "2014-03-14  593.211487  584.075745  4604900.0         1\n",
              "2014-03-17  596.299927  586.855347  4340300.0         1\n",
              "2014-03-18  603.502930  594.302429  3643500.0         0"
            ]
          },
          "metadata": {
            "tags": []
          },
          "execution_count": 19
        }
      ]
    },
    {
      "cell_type": "code",
      "metadata": {
        "id": "y8iqg_nTw_fe",
        "colab_type": "code",
        "colab": {
          "base_uri": "https://localhost:8080/",
          "height": 142
        },
        "outputId": "ea1b65b3-fe4a-4174-88fc-87b6544d871e"
      },
      "source": [
        "X[i][:,:3]"
      ],
      "execution_count": 20,
      "outputs": [
        {
          "output_type": "execute_result",
          "data": {
            "text/plain": [
              "array([[1.        , 1.        , 1.        ],\n",
              "       [0.98188226, 0.96227581, 0.99029086],\n",
              "       [0.94657487, 0.89923257, 0.90245445],\n",
              "       [0.96103643, 0.90211888, 0.96086046],\n",
              "       [0.85391271, 0.84018995, 0.82958573],\n",
              "       [0.88774706, 0.86844556, 0.81573023],\n",
              "       [0.9666571 , 0.9441477 , 0.89370632]])"
            ]
          },
          "metadata": {
            "tags": []
          },
          "execution_count": 20
        }
      ]
    },
    {
      "cell_type": "code",
      "metadata": {
        "id": "t-MmhvJ5w_fq",
        "colab_type": "code",
        "colab": {
          "base_uri": "https://localhost:8080/",
          "height": 35
        },
        "outputId": "63370a83-cb21-4cee-bf31-3459477c220c"
      },
      "source": [
        "y[i]"
      ],
      "execution_count": 21,
      "outputs": [
        {
          "output_type": "execute_result",
          "data": {
            "text/plain": [
              "0"
            ]
          },
          "metadata": {
            "tags": []
          },
          "execution_count": 21
        }
      ]
    },
    {
      "cell_type": "markdown",
      "metadata": {
        "id": "21jSPi00w_f2",
        "colab_type": "text"
      },
      "source": [
        "### Dropping out news for days we don't have stock data"
      ]
    },
    {
      "cell_type": "code",
      "metadata": {
        "id": "HJZCepKSw_f_",
        "colab_type": "code",
        "colab": {
          "base_uri": "https://localhost:8080/",
          "height": 35
        },
        "outputId": "7c5b9d4d-2fa2-47f4-b6fe-e6286900ba5a"
      },
      "source": [
        "print(\"Number of days we have headlines: %d\" %(len(news_df['Date'].unique())))"
      ],
      "execution_count": 22,
      "outputs": [
        {
          "output_type": "stream",
          "text": [
            "Number of days we have headlines: 95\n"
          ],
          "name": "stdout"
        }
      ]
    },
    {
      "cell_type": "code",
      "metadata": {
        "id": "f0XPx6Okw_gH",
        "colab_type": "code",
        "colab": {}
      },
      "source": [
        "date_index_to_keep = stock_data_df.index[prev-1:]\n",
        "news_df = news_df[news_df['Date'].isin(date_index_to_keep)].reset_index(drop=True)\n",
        "news_df = news_df.sort_values('Date').reset_index(drop=True)"
      ],
      "execution_count": 0,
      "outputs": []
    },
    {
      "cell_type": "code",
      "metadata": {
        "id": "JS1VfT5aw_gO",
        "colab_type": "code",
        "colab": {
          "base_uri": "https://localhost:8080/",
          "height": 206
        },
        "outputId": "d868e6ab-d037-49ce-a8b2-a560bd3828b8"
      },
      "source": [
        "news_df.head()"
      ],
      "execution_count": 24,
      "outputs": [
        {
          "output_type": "execute_result",
          "data": {
            "text/html": [
              "<div>\n",
              "<style scoped>\n",
              "    .dataframe tbody tr th:only-of-type {\n",
              "        vertical-align: middle;\n",
              "    }\n",
              "\n",
              "    .dataframe tbody tr th {\n",
              "        vertical-align: top;\n",
              "    }\n",
              "\n",
              "    .dataframe thead th {\n",
              "        text-align: right;\n",
              "    }\n",
              "</style>\n",
              "<table border=\"1\" class=\"dataframe\">\n",
              "  <thead>\n",
              "    <tr style=\"text-align: right;\">\n",
              "      <th></th>\n",
              "      <th>Date</th>\n",
              "      <th>news</th>\n",
              "    </tr>\n",
              "  </thead>\n",
              "  <tbody>\n",
              "    <tr>\n",
              "      <th>0</th>\n",
              "      <td>2014-03-18</td>\n",
              "      <td>long sought evidence spotted universe early gr...</td>\n",
              "    </tr>\n",
              "    <tr>\n",
              "      <th>1</th>\n",
              "      <td>2014-03-18</td>\n",
              "      <td>friends improvements coming xbox one april</td>\n",
              "    </tr>\n",
              "    <tr>\n",
              "      <th>2</th>\n",
              "      <td>2014-03-18</td>\n",
              "      <td>xbox one april system update brings game/app s...</td>\n",
              "    </tr>\n",
              "    <tr>\n",
              "      <th>3</th>\n",
              "      <td>2014-03-18</td>\n",
              "      <td>xbox one april update bring yet user experienc...</td>\n",
              "    </tr>\n",
              "    <tr>\n",
              "      <th>4</th>\n",
              "      <td>2014-03-18</td>\n",
              "      <td>microsoft take xbox one 26 new countries septe...</td>\n",
              "    </tr>\n",
              "  </tbody>\n",
              "</table>\n",
              "</div>"
            ],
            "text/plain": [
              "        Date                                               news\n",
              "0 2014-03-18  long sought evidence spotted universe early gr...\n",
              "1 2014-03-18         friends improvements coming xbox one april\n",
              "2 2014-03-18  xbox one april system update brings game/app s...\n",
              "3 2014-03-18  xbox one april update bring yet user experienc...\n",
              "4 2014-03-18  microsoft take xbox one 26 new countries septe..."
            ]
          },
          "metadata": {
            "tags": []
          },
          "execution_count": 24
        }
      ]
    },
    {
      "cell_type": "code",
      "metadata": {
        "id": "8rgThpMew_gX",
        "colab_type": "code",
        "colab": {
          "base_uri": "https://localhost:8080/",
          "height": 35
        },
        "outputId": "2827956a-a8d2-4103-f96d-0ef1b3d2a5a7"
      },
      "source": [
        "print(\"Number of same days we have headlines and stock : %d\" %(len(news_df['Date'].unique())))"
      ],
      "execution_count": 25,
      "outputs": [
        {
          "output_type": "stream",
          "text": [
            "Number of same days we have headlines and stock : 69\n"
          ],
          "name": "stdout"
        }
      ]
    },
    {
      "cell_type": "code",
      "metadata": {
        "id": "ugd1x7g-w_gk",
        "colab_type": "code",
        "colab": {
          "base_uri": "https://localhost:8080/",
          "height": 35
        },
        "outputId": "48423aa3-7a0c-4fd7-a5cd-54ab99157649"
      },
      "source": [
        "news_summary = news_df.groupby('Date').agg({'news':'count'}).reset_index()\n",
        "print(\"Max number of headlines for a day: %d, Min number of headlines for a day: %d, \\\n",
        "Mean number of headlines for a day: %d\" %(max(news_summary['news']),\n",
        "                                                min(news_summary['news']), \n",
        "                                                np.mean(news_summary['news'])))"
      ],
      "execution_count": 26,
      "outputs": [
        {
          "output_type": "stream",
          "text": [
            "Max number of headlines for a day: 2438, Min number of headlines for a day: 413, Mean number of headlines for a day: 1190\n"
          ],
          "name": "stdout"
        }
      ]
    },
    {
      "cell_type": "markdown",
      "metadata": {
        "id": "86_J9m8ow_gr",
        "colab_type": "text"
      },
      "source": [
        "### Duplicating stock data label sequences and saving them"
      ]
    },
    {
      "cell_type": "code",
      "metadata": {
        "id": "A2ThliOqw_gz",
        "colab_type": "code",
        "colab": {}
      },
      "source": [
        "stock_data_seq = []\n",
        "stock_label_seq = []\n",
        "for date in news_df[\"Date\"]:\n",
        "    arr_pos = np.where(date_index_to_keep == date)[0][0]\n",
        "    stock_data_seq.append(X[arr_pos])\n",
        "    stock_label_seq.append(y[arr_pos])\n",
        "stock_data_seq = np.array(stock_data_seq)\n",
        "stock_label_seq = np.array(stock_label_seq)"
      ],
      "execution_count": 0,
      "outputs": []
    },
    {
      "cell_type": "code",
      "metadata": {
        "id": "Y6TR_5_bw_g9",
        "colab_type": "code",
        "colab": {
          "base_uri": "https://localhost:8080/",
          "height": 35
        },
        "outputId": "66577797-9a17-4656-86be-b9073a0d7193"
      },
      "source": [
        "stock_data_seq.shape"
      ],
      "execution_count": 28,
      "outputs": [
        {
          "output_type": "execute_result",
          "data": {
            "text/plain": [
              "(82144, 7, 47)"
            ]
          },
          "metadata": {
            "tags": []
          },
          "execution_count": 28
        }
      ]
    },
    {
      "cell_type": "code",
      "metadata": {
        "id": "VbyCkieyw_hB",
        "colab_type": "code",
        "colab": {}
      },
      "source": [
        "utils.save_pickle(filename=company +\"_uci_stock_sequences\", variable=stock_data_seq)\n",
        "utils.save_pickle(filename=company +\"_uci_stock_labels\", variable=stock_label_seq)"
      ],
      "execution_count": 0,
      "outputs": []
    },
    {
      "cell_type": "markdown",
      "metadata": {
        "id": "Hdpz0ICDw_hH",
        "colab_type": "text"
      },
      "source": [
        "### Getting vocabulary from news corpus"
      ]
    },
    {
      "cell_type": "code",
      "metadata": {
        "id": "McGJW9E1w_hI",
        "colab_type": "code",
        "colab": {}
      },
      "source": [
        "vocab = utils.get_corpus_vocab(df=news_df, text_col='news')"
      ],
      "execution_count": 0,
      "outputs": []
    },
    {
      "cell_type": "code",
      "metadata": {
        "id": "00kBS5yvw_hP",
        "colab_type": "code",
        "colab": {
          "base_uri": "https://localhost:8080/",
          "height": 35
        },
        "outputId": "21cf61fa-e81e-4e48-fe44-404fb50c2675"
      },
      "source": [
        "print(\"Size of Vocabulary: %s\"%len(vocab))"
      ],
      "execution_count": 31,
      "outputs": [
        {
          "output_type": "stream",
          "text": [
            "Size of Vocabulary: 23784\n"
          ],
          "name": "stdout"
        }
      ]
    },
    {
      "cell_type": "code",
      "metadata": {
        "id": "iIpjR4SEw_hV",
        "colab_type": "code",
        "colab": {
          "base_uri": "https://localhost:8080/",
          "height": 106
        },
        "outputId": "079efa78-eea8-447c-8233-024f8ac98444"
      },
      "source": [
        "utils.print_n_dict_items(dict_=vocab, n=5)"
      ],
      "execution_count": 32,
      "outputs": [
        {
          "output_type": "stream",
          "text": [
            "key: long, key count: 221 \n",
            "key: sought, key count: 18 \n",
            "key: evidence, key count: 165 \n",
            "key: spotted, key count: 157 \n",
            "key: universe, key count: 231 \n"
          ],
          "name": "stdout"
        }
      ]
    },
    {
      "cell_type": "markdown",
      "metadata": {
        "id": "zmyV9a46w_ha",
        "colab_type": "text"
      },
      "source": [
        "## Getting Glove Vector Enconding"
      ]
    },
    {
      "cell_type": "code",
      "metadata": {
        "id": "bToA5DPFyt-8",
        "colab_type": "code",
        "colab": {}
      },
      "source": [
        "## downloading glove word embeddings\n",
        "from urllib.request import urlretrieve\n",
        "urlretrieve('http://nlp.stanford.edu/data/glove.6B.zip', 'glove.6B.zip')\n",
        "\n",
        "from zipfile import ZipFile\n",
        "with ZipFile('glove.6B.zip', 'r') as zf:\n",
        "    zf.extractall('')"
      ],
      "execution_count": 0,
      "outputs": []
    },
    {
      "cell_type": "code",
      "metadata": {
        "id": "8-NXEsLRw_he",
        "colab_type": "code",
        "colab": {}
      },
      "source": [
        "## getting glove word embeddings\n",
        "word_embeddings = utils.get_word_embeddings(file='glove.6B.300d.txt')"
      ],
      "execution_count": 0,
      "outputs": []
    },
    {
      "cell_type": "code",
      "metadata": {
        "id": "z5kgMTJiw_hl",
        "colab_type": "code",
        "colab": {
          "base_uri": "https://localhost:8080/",
          "height": 53
        },
        "outputId": "c2a8a447-96e4-4e7a-c140-e644c1d21aa5"
      },
      "source": [
        "print('No of word embeddings: %d' %len(word_embeddings))\n",
        "print('No of categories against which words are classified: %d' %len(word_embeddings['man']))"
      ],
      "execution_count": 35,
      "outputs": [
        {
          "output_type": "stream",
          "text": [
            "No of word embeddings: 400000\n",
            "No of categories against which words are classified: 300\n"
          ],
          "name": "stdout"
        }
      ]
    },
    {
      "cell_type": "code",
      "metadata": {
        "id": "JYUAzyX1w_ht",
        "colab_type": "code",
        "colab": {
          "base_uri": "https://localhost:8080/",
          "height": 53
        },
        "outputId": "e8816cee-32fa-4341-cd60-c1af7ff9da55"
      },
      "source": [
        "# Find the number of words that are missing from GloVe, and are used more than our threshold.\n",
        "cnt_missing_words = 0\n",
        "threshold = 10\n",
        "\"\"\"\n",
        "checking if news word count is greater than threshold, \n",
        "if greater than threshold and not present in word embeddings \n",
        "then word will be considered as missing\n",
        "\"\"\"\n",
        "for word, word_cnt in vocab.items():\n",
        "    if word_cnt > threshold: \n",
        "        if word not in word_embeddings:\n",
        "            cnt_missing_words += 1\n",
        "            \n",
        "ratio_missing_words = round(cnt_missing_words/len(vocab),4)*100\n",
        "            \n",
        "print(\"Number of words missing from GloVe: %d\"%cnt_missing_words)\n",
        "print(\"Percent of words that are missing from vocabulary: {}%\".format(ratio_missing_words))"
      ],
      "execution_count": 36,
      "outputs": [
        {
          "output_type": "stream",
          "text": [
            "Number of words missing from GloVe: 164\n",
            "Percent of words that are missing from vocabulary: 0.69%\n"
          ],
          "name": "stdout"
        }
      ]
    },
    {
      "cell_type": "markdown",
      "metadata": {
        "id": "FEYDjsrNw_hx",
        "colab_type": "text"
      },
      "source": [
        "### Getting words from news with frequency greater than threshold or present in Glove embeddings"
      ]
    },
    {
      "cell_type": "code",
      "metadata": {
        "id": "kQzInVyiw_hy",
        "colab_type": "code",
        "colab": {}
      },
      "source": [
        "\"\"\"\n",
        "creating news word list with word index with conditions\n",
        "if either word frequency in corpus greater \n",
        "than threshold or present in Glove embeddings\n",
        "\"\"\"\n",
        "# dictionary to convert words to integers\n",
        "vocab_to_index = {}\n",
        "index = 0\n",
        "for word, word_cnt in vocab.items():\n",
        "    if word_cnt >= threshold or word in word_embeddings: \n",
        "        vocab_to_index[word] = index\n",
        "        index += 1 # giving index"
      ],
      "execution_count": 0,
      "outputs": []
    },
    {
      "cell_type": "code",
      "metadata": {
        "id": "tp6OkaQ2w_h0",
        "colab_type": "code",
        "colab": {
          "base_uri": "https://localhost:8080/",
          "height": 196
        },
        "outputId": "c5d86dbf-14ab-46da-e552-52f4108b18de"
      },
      "source": [
        "utils.print_n_dict_items(dict_=vocab_to_index, n=10)"
      ],
      "execution_count": 38,
      "outputs": [
        {
          "output_type": "stream",
          "text": [
            "key: long, key count: 0 \n",
            "key: sought, key count: 1 \n",
            "key: evidence, key count: 2 \n",
            "key: spotted, key count: 3 \n",
            "key: universe, key count: 4 \n",
            "key: early, key count: 5 \n",
            "key: growth, key count: 6 \n",
            "key: spurt, key count: 7 \n",
            "key: friends, key count: 8 \n",
            "key: improvements, key count: 9 \n"
          ],
          "name": "stdout"
        }
      ]
    },
    {
      "cell_type": "code",
      "metadata": {
        "id": "PsAB4FD-w_h6",
        "colab_type": "code",
        "colab": {}
      },
      "source": [
        "#Getting frequency of words thst are missing in word embeddings and frequency greater than threashold\n",
        "missing_words_in_embeddings = {}\n",
        "for word in vocab_to_index.keys():\n",
        "    if word not in word_embeddings:\n",
        "        missing_words_in_embeddings[word] = vocab_to_index[word]"
      ],
      "execution_count": 0,
      "outputs": []
    },
    {
      "cell_type": "code",
      "metadata": {
        "id": "ruqqWRP6w_iD",
        "colab_type": "code",
        "colab": {
          "base_uri": "https://localhost:8080/",
          "height": 1000
        },
        "outputId": "a318c430-65d9-4418-f7c5-c5c8298dcce3"
      },
      "source": [
        "missing_words_in_embeddings"
      ],
      "execution_count": 40,
      "outputs": [
        {
          "output_type": "execute_result",
          "data": {
            "text/plain": [
              "{'//': 2772,\n",
              " '//www': 9627,\n",
              " '119m': 12996,\n",
              " '13mp': 12940,\n",
              " '145m': 15159,\n",
              " '15gb': 17093,\n",
              " '186f': 10791,\n",
              " '1tb': 13320,\n",
              " '218000': 14857,\n",
              " '240000': 16538,\n",
              " '284000': 12609,\n",
              " '29999': 9240,\n",
              " '2fmusktfhziyo3u0m': 9626,\n",
              " '33000': 17666,\n",
              " '36000': 15227,\n",
              " '36340': 11180,\n",
              " '400000': 9100,\n",
              " '42000': 8048,\n",
              " '435000': 9089,\n",
              " '440000': 15114,\n",
              " '500000': 151,\n",
              " '50mp': 2342,\n",
              " '51000': 5368,\n",
              " '51500': 5474,\n",
              " '555m': 17052,\n",
              " '56000': 13568,\n",
              " '56214': 13573,\n",
              " '5mp': 12487,\n",
              " '600000': 8819,\n",
              " '60fps': 17610,\n",
              " '6999': 14368,\n",
              " '700000': 12293,\n",
              " '700k': 12298,\n",
              " '883000': 19386,\n",
              " '883k': 19388,\n",
              " '900000': 1071,\n",
              " '970m': 19674,\n",
              " 'amzn': 5557,\n",
              " 'antutu': 8102,\n",
              " 'aquarid': 12930,\n",
              " 'aquarids': 12933,\n",
              " 'bardarbunga': 19637,\n",
              " 'batterybox': 3681,\n",
              " 'bb10': 6337,\n",
              " 'bbry': 6346,\n",
              " 'beovision': 13767,\n",
              " 'blackshades': 14464,\n",
              " 'blinkfeed': 3950,\n",
              " 'camelopardalid': 15239,\n",
              " 'camelopardalids': 15240,\n",
              " 'cameraphone': 11391,\n",
              " 'carplay': 7119,\n",
              " 'chadder': 13191,\n",
              " 'chariklo': 5575,\n",
              " 'chromebooks': 13289,\n",
              " 'chromecast': 1948,\n",
              " 'cmcsa': 4241,\n",
              " 'comcast/twc': 7155,\n",
              " 'coustea': 17354,\n",
              " 'cryptolocker': 15989,\n",
              " 'ctos': 15457,\n",
              " 'delmarvas': 2024,\n",
              " 'deprill': 5490,\n",
              " 'dkwncdubfwurmjmn2vv2ojjy4k58m': 19163,\n",
              " 'dphzj': 9624,\n",
              " 'dropcam': 15493,\n",
              " 'earpods': 12959,\n",
              " 'emoji': 6289,\n",
              " 'emojis': 6379,\n",
              " 'enovance': 14232,\n",
              " 'eyefi': 10754,\n",
              " 'fanless': 13292,\n",
              " 'fingerreader': 18483,\n",
              " 'flappy': 2823,\n",
              " 'flipkart': 9235,\n",
              " 'forgotten”': 17573,\n",
              " 'freedompop': 12457,\n",
              " 'fuelband': 11083,\n",
              " 'gameover': 15986,\n",
              " 'gchat': 1899,\n",
              " 'gigafactory': 16547,\n",
              " 'gigapower': 9195,\n",
              " 'glasshole': 2107,\n",
              " 'gnip': 10335,\n",
              " 'googl': 10075,\n",
              " 'gundotra': 11840,\n",
              " 'healthkit': 16161,\n",
              " 'heartbleed': 8460,\n",
              " 'homekit': 16157,\n",
              " 'hudl': 13091,\n",
              " 'ifixit': 5804,\n",
              " 'intercloud': 3868,\n",
              " 'intralinks': 11823,\n",
              " 'isspresso': 16585,\n",
              " 'iwatch': 11087,\n",
              " 'kctv5': 9720,\n",
              " 'ktvn': 2016,\n",
              " 'kwwl': 2010,\n",
              " 'liverail': 18146,\n",
              " 'lyrid': 11281,\n",
              " 'lyrids': 11282,\n",
              " 'lytro': 11541,\n",
              " 'makerbot': 16740,\n",
              " 'n20p': 13294,\n",
              " 'nadella': 727,\n",
              " 'nflx': 4274,\n",
              " 'nightsnake': 14994,\n",
              " 'notifyr': 15265,\n",
              " 'onedrive': 6536,\n",
              " 'oneplus': 4042,\n",
              " 'padfone': 15718,\n",
              " 'pavlof': 15985,\n",
              " 'pelagornis': 18344,\n",
              " 'petmatch': 14750,\n",
              " 'phablet': 1536,\n",
              " 'phablets': 5473,\n",
              " 'pliss': 15511,\n",
              " 'pm/am': 12622,\n",
              " 'powerbeats2': 16393,\n",
              " 'promaster': 17650,\n",
              " 'pryte': 16253,\n",
              " 'qhd': 2343,\n",
              " 'raknet': 18298,\n",
              " 'ransomware': 14469,\n",
              " 'renesys': 15156,\n",
              " 'rht': 16904,\n",
              " 'rockchip': 15560,\n",
              " 'roombots': 15563,\n",
              " 'rtcc': 9656,\n",
              " 's5′s': 8191,\n",
              " 'sandersi': 18346,\n",
              " 'secusmart': 19275,\n",
              " 'selfie': 4157,\n",
              " 'selfies': 3321,\n",
              " 'siliconangle': 1809,\n",
              " 'simband': 15865,\n",
              " 'skylanders': 11754,\n",
              " 'smartwatch': 2031,\n",
              " 'smartwatches': 2038,\n",
              " 'songza': 18047,\n",
              " 'spammy': 9200,\n",
              " 'storyful': 11889,\n",
              " 'supermoon': 18520,\n",
              " 'supermoons': 18522,\n",
              " 't/directv': 14593,\n",
              " 'titanfall': 68,\n",
              " 'tmus': 7923,\n",
              " 'touchid': 1789,\n",
              " 'tsla': 6234,\n",
              " 'twtr': 3301,\n",
              " 'unboxing': 4408,\n",
              " 'uncarrier': 9740,\n",
              " 'unradio': 16889,\n",
              " 'uplay': 15666,\n",
              " 'viago': 16694,\n",
              " 'viber': 11628,\n",
              " 'vidcon': 17670,\n",
              " 'vp113': 5535,\n",
              " 'w/': 9067,\n",
              " 'w/video': 5610,\n",
              " 'wboc': 2023,\n",
              " 'wilocity': 18184,\n",
              " 'xlte': 14511,\n",
              " 'yhoo': 16550,\n",
              " 'zonkey': 12008,\n",
              " 'zymt7': 9625,\n",
              " '£100': 12311,\n",
              " '£1000': 17213,\n",
              " '£10m': 14615,\n",
              " '£30': 1966,\n",
              " '£89': 14367,\n",
              " '£899': 16673,\n",
              " '“right': 17572,\n",
              " '€30000': 16808,\n",
              " '€99': 16686}"
            ]
          },
          "metadata": {
            "tags": []
          },
          "execution_count": 40
        }
      ]
    },
    {
      "cell_type": "markdown",
      "metadata": {
        "id": "Rlfm6ofsw_iK",
        "colab_type": "text"
      },
      "source": [
        "### Special tokens that will be added to our vocab"
      ]
    },
    {
      "cell_type": "code",
      "metadata": {
        "id": "XOsDRmLVw_iM",
        "colab_type": "code",
        "colab": {}
      },
      "source": [
        "codes = [\"<UNK>\",\"<PAD>\"]   \n",
        "# Add codes to vocab\n",
        "for code in codes:\n",
        "    vocab_to_index[code] = len(vocab_to_index)"
      ],
      "execution_count": 0,
      "outputs": []
    },
    {
      "cell_type": "code",
      "metadata": {
        "id": "6zzcNc1qw_iT",
        "colab_type": "code",
        "colab": {
          "base_uri": "https://localhost:8080/",
          "height": 35
        },
        "outputId": "59d20261-90d7-4f3e-ca30-f0b1de86183d"
      },
      "source": [
        "print(vocab_to_index[\"<UNK>\"], vocab_to_index[\"<PAD>\"])"
      ],
      "execution_count": 42,
      "outputs": [
        {
          "output_type": "stream",
          "text": [
            "19772 19773\n"
          ],
          "name": "stdout"
        }
      ]
    },
    {
      "cell_type": "markdown",
      "metadata": {
        "id": "bJxc3TC3w_iY",
        "colab_type": "text"
      },
      "source": [
        "### Dictionary to convert index to words"
      ]
    },
    {
      "cell_type": "code",
      "metadata": {
        "colab_type": "code",
        "id": "jImn2oyj7jSA",
        "colab": {}
      },
      "source": [
        "index_to_vocab = {}\n",
        "for word, index in vocab_to_index.items():\n",
        "    index_to_vocab[index] = word"
      ],
      "execution_count": 0,
      "outputs": []
    },
    {
      "cell_type": "code",
      "metadata": {
        "id": "UQWcrAzNw_ig",
        "colab_type": "code",
        "colab": {
          "base_uri": "https://localhost:8080/",
          "height": 196
        },
        "outputId": "2dfdb4cf-a7dd-4797-c862-a5538e0c4c7b"
      },
      "source": [
        "utils.print_n_dict_items(dict_=index_to_vocab, n=10)"
      ],
      "execution_count": 44,
      "outputs": [
        {
          "output_type": "stream",
          "text": [
            "key: 0, key count: long \n",
            "key: 1, key count: sought \n",
            "key: 2, key count: evidence \n",
            "key: 3, key count: spotted \n",
            "key: 4, key count: universe \n",
            "key: 5, key count: early \n",
            "key: 6, key count: growth \n",
            "key: 7, key count: spurt \n",
            "key: 8, key count: friends \n",
            "key: 9, key count: improvements \n"
          ],
          "name": "stdout"
        }
      ]
    },
    {
      "cell_type": "markdown",
      "metadata": {
        "id": "yVcTbPyKw_ik",
        "colab_type": "text"
      },
      "source": [
        "### Percentage of words used for word embeddings"
      ]
    },
    {
      "cell_type": "code",
      "metadata": {
        "id": "bnKAzSgDw_im",
        "colab_type": "code",
        "colab": {
          "base_uri": "https://localhost:8080/",
          "height": 71
        },
        "outputId": "7e900fa8-35d9-45b2-dee8-aaa161c921cc"
      },
      "source": [
        "usage_ratio = round((len(vocab_to_index)-2)/ len(vocab),4)*100 # getting how many words we are using\n",
        "\n",
        "print(\"Total number of unique words in news corpus: %d\" %len(vocab))\n",
        "print(\"Number of words we will use: %d\" %len(vocab_to_index))\n",
        "print(\"Percent of words we will use: {}%\".format(usage_ratio))"
      ],
      "execution_count": 45,
      "outputs": [
        {
          "output_type": "stream",
          "text": [
            "Total number of unique words in news corpus: 23784\n",
            "Number of words we will use: 19774\n",
            "Percent of words we will use: 83.13000000000001%\n"
          ],
          "name": "stdout"
        }
      ]
    },
    {
      "cell_type": "markdown",
      "metadata": {
        "id": "4Eo9v7Mdw_is",
        "colab_type": "text"
      },
      "source": [
        "### Creating embedding matrix for selected words(selected words are one's with frequency greater than threshold or present in Glove's embeddings)"
      ]
    },
    {
      "cell_type": "code",
      "metadata": {
        "id": "zI9rFDP9w_it",
        "colab_type": "code",
        "colab": {}
      },
      "source": [
        "embedding_dimension = len(word_embeddings['the']) # getting embedding dimension\n",
        "n_words_to_use = len(vocab_to_index) # number of words we will use including padding and unknown\n",
        "word_embeddings_matrix = np.zeros((n_words_to_use, embedding_dimension)) # create matrix with default values of zero\n",
        "\n",
        "for word, index in vocab_to_index.items():\n",
        "    if word in word_embeddings: # if word is present in word embeddings \n",
        "        word_embeddings_matrix[index] = word_embeddings[word] # getting embedding from the word embeddings\n",
        "    else: # if news word not in word embeddings, creating random embedding for it\n",
        "        new_word_embeddings = np.array(np.random.uniform(-1.0, 1.0, embedding_dimension))\n",
        "        word_embeddings_matrix[index] = new_word_embeddings # adding random word embeddings for new word \n",
        "        word_embeddings[word] = new_word_embeddings # updating word embeddings with new word"
      ],
      "execution_count": 0,
      "outputs": []
    },
    {
      "cell_type": "code",
      "metadata": {
        "id": "iM1I2xBGw_iy",
        "colab_type": "code",
        "colab": {}
      },
      "source": [
        "del word_embeddings"
      ],
      "execution_count": 0,
      "outputs": []
    },
    {
      "cell_type": "code",
      "metadata": {
        "id": "d6wl-Vqgw_i1",
        "colab_type": "code",
        "colab": {
          "base_uri": "https://localhost:8080/",
          "height": 35
        },
        "outputId": "c96c8613-ac32-47af-f98d-da750812d7a5"
      },
      "source": [
        "# Check if value matches len(vocab_to_index)\n",
        "print(\"Number of words we are going to use: %d, Number of embeddings for words to be used: %d\"%(len(vocab_to_index),\n",
        "                                                                                               len(word_embeddings_matrix)))"
      ],
      "execution_count": 48,
      "outputs": [
        {
          "output_type": "stream",
          "text": [
            "Number of words we are going to use: 19774, Number of embeddings for words to be used: 19774\n"
          ],
          "name": "stdout"
        }
      ]
    },
    {
      "cell_type": "markdown",
      "metadata": {
        "id": "a_FSwb6yw_i5",
        "colab_type": "text"
      },
      "source": [
        "Note: The embeddings will be updated as the model trains, so our new 'random' embeddings will be more accurate by the end of training. This is also why we want to only use words that appear at least 10 times. By having the model see the word numerous times it will be better able to understand what it means."
      ]
    },
    {
      "cell_type": "markdown",
      "metadata": {
        "id": "1dfzhixWw_i7",
        "colab_type": "text"
      },
      "source": [
        "### Saving word embeddings "
      ]
    },
    {
      "cell_type": "code",
      "metadata": {
        "id": "QBHwWn4Bw_i7",
        "colab_type": "code",
        "colab": {}
      },
      "source": [
        "utils.save_pickle(filename='uci_words_embeddings', variable=word_embeddings_matrix)"
      ],
      "execution_count": 0,
      "outputs": []
    },
    {
      "cell_type": "markdown",
      "metadata": {
        "id": "U7yWUTtDw_jA",
        "colab_type": "text"
      },
      "source": [
        "### Converting words in text to word indexes"
      ]
    },
    {
      "cell_type": "code",
      "metadata": {
        "id": "S-EmCSNPw_jB",
        "colab_type": "code",
        "colab": {}
      },
      "source": [
        "text_indexes_df = pd.DataFrame()\n",
        "text_indexes_df['Date'] = news_df['Date']\n",
        "text_indexes_df['news_words_indexes'] = news_df['news'].apply(utils.convert_text_to_indexes, \n",
        "                                                                               word_indexes=vocab_to_index)"
      ],
      "execution_count": 0,
      "outputs": []
    },
    {
      "cell_type": "code",
      "metadata": {
        "id": "ChiRiDC0w_jW",
        "colab_type": "code",
        "colab": {
          "base_uri": "https://localhost:8080/",
          "height": 206
        },
        "outputId": "cbff5885-1d2e-4a0a-d294-aa3ff1cdfdce"
      },
      "source": [
        "text_indexes_df.head()"
      ],
      "execution_count": 51,
      "outputs": [
        {
          "output_type": "execute_result",
          "data": {
            "text/html": [
              "<div>\n",
              "<style scoped>\n",
              "    .dataframe tbody tr th:only-of-type {\n",
              "        vertical-align: middle;\n",
              "    }\n",
              "\n",
              "    .dataframe tbody tr th {\n",
              "        vertical-align: top;\n",
              "    }\n",
              "\n",
              "    .dataframe thead th {\n",
              "        text-align: right;\n",
              "    }\n",
              "</style>\n",
              "<table border=\"1\" class=\"dataframe\">\n",
              "  <thead>\n",
              "    <tr style=\"text-align: right;\">\n",
              "      <th></th>\n",
              "      <th>Date</th>\n",
              "      <th>news_words_indexes</th>\n",
              "    </tr>\n",
              "  </thead>\n",
              "  <tbody>\n",
              "    <tr>\n",
              "      <th>0</th>\n",
              "      <td>2014-03-18</td>\n",
              "      <td>[0, 1, 2, 3, 4, 5, 6, 7]</td>\n",
              "    </tr>\n",
              "    <tr>\n",
              "      <th>1</th>\n",
              "      <td>2014-03-18</td>\n",
              "      <td>[8, 9, 10, 11, 12, 13]</td>\n",
              "    </tr>\n",
              "    <tr>\n",
              "      <th>2</th>\n",
              "      <td>2014-03-18</td>\n",
              "      <td>[11, 12, 13, 14, 15, 16, 19772, 17, 18, 19, 20]</td>\n",
              "    </tr>\n",
              "    <tr>\n",
              "      <th>3</th>\n",
              "      <td>2014-03-18</td>\n",
              "      <td>[11, 12, 13, 15, 21, 22, 23, 24, 9]</td>\n",
              "    </tr>\n",
              "    <tr>\n",
              "      <th>4</th>\n",
              "      <td>2014-03-18</td>\n",
              "      <td>[25, 26, 11, 12, 27, 28, 29, 30]</td>\n",
              "    </tr>\n",
              "  </tbody>\n",
              "</table>\n",
              "</div>"
            ],
            "text/plain": [
              "        Date                               news_words_indexes\n",
              "0 2014-03-18                         [0, 1, 2, 3, 4, 5, 6, 7]\n",
              "1 2014-03-18                           [8, 9, 10, 11, 12, 13]\n",
              "2 2014-03-18  [11, 12, 13, 14, 15, 16, 19772, 17, 18, 19, 20]\n",
              "3 2014-03-18              [11, 12, 13, 15, 21, 22, 23, 24, 9]\n",
              "4 2014-03-18                 [25, 26, 11, 12, 27, 28, 29, 30]"
            ]
          },
          "metadata": {
            "tags": []
          },
          "execution_count": 51
        }
      ]
    },
    {
      "cell_type": "markdown",
      "metadata": {
        "id": "cyiYns-Yw_jc",
        "colab_type": "text"
      },
      "source": [
        "### Total words and total unknown words in news "
      ]
    },
    {
      "cell_type": "code",
      "metadata": {
        "id": "IQbDn5lnw_jd",
        "colab_type": "code",
        "colab": {
          "base_uri": "https://localhost:8080/",
          "height": 71
        },
        "outputId": "2c5d9b7b-1913-429e-d9d7-894d0324fad4"
      },
      "source": [
        "word_cnt_tuple = news_df['news'].apply(utils.get_word_unk_cnt, \n",
        "                                                  word_indexes=vocab_to_index)\n",
        "word_cnt = [word_cnt_tuple[i][0] for i in range(len(word_cnt_tuple))]\n",
        "word_cnt = np.sum(word_cnt)\n",
        "\n",
        "unk_cnt = [word_cnt_tuple[i][1] for i in range(len(word_cnt_tuple))]\n",
        "unk_cnt = np.sum(unk_cnt)\n",
        "\n",
        "unk_percent = round(unk_cnt/word_cnt,4)*100\n",
        "\n",
        "print(\"Total number of words in headlines:\", word_cnt)\n",
        "print(\"Total number of UNKs in headlines:\", unk_cnt)\n",
        "print(\"Percent of words that are UNK: {}%\".format(unk_percent))\n"
      ],
      "execution_count": 52,
      "outputs": [
        {
          "output_type": "stream",
          "text": [
            "Total number of words in headlines: 600782\n",
            "Total number of UNKs in headlines: 6200\n",
            "Percent of words that are UNK: 1.03%\n"
          ],
          "name": "stdout"
        }
      ]
    },
    {
      "cell_type": "markdown",
      "metadata": {
        "id": "STPwwsuVw_jj",
        "colab_type": "text"
      },
      "source": [
        "### Description about no. of words in news"
      ]
    },
    {
      "cell_type": "code",
      "metadata": {
        "id": "CbglNymLw_jq",
        "colab_type": "code",
        "colab": {}
      },
      "source": [
        "# Find the length of headlines\n",
        "lengths = [len(text_indexes_df.iloc[i]['news_words_indexes']) for i in range(len(text_indexes_df))]\n",
        "\n",
        "# Create a dataframe so that the values can be inspected\n",
        "lengths = pd.DataFrame(lengths, columns=['counts'])"
      ],
      "execution_count": 0,
      "outputs": []
    },
    {
      "cell_type": "code",
      "metadata": {
        "id": "x_e6yU9sw_jv",
        "colab_type": "code",
        "colab": {
          "base_uri": "https://localhost:8080/",
          "height": 300
        },
        "outputId": "d87c58bc-a099-4d4c-e7ee-c8da17bb61e6"
      },
      "source": [
        "lengths.describe()"
      ],
      "execution_count": 54,
      "outputs": [
        {
          "output_type": "execute_result",
          "data": {
            "text/html": [
              "<div>\n",
              "<style scoped>\n",
              "    .dataframe tbody tr th:only-of-type {\n",
              "        vertical-align: middle;\n",
              "    }\n",
              "\n",
              "    .dataframe tbody tr th {\n",
              "        vertical-align: top;\n",
              "    }\n",
              "\n",
              "    .dataframe thead th {\n",
              "        text-align: right;\n",
              "    }\n",
              "</style>\n",
              "<table border=\"1\" class=\"dataframe\">\n",
              "  <thead>\n",
              "    <tr style=\"text-align: right;\">\n",
              "      <th></th>\n",
              "      <th>counts</th>\n",
              "    </tr>\n",
              "  </thead>\n",
              "  <tbody>\n",
              "    <tr>\n",
              "      <th>count</th>\n",
              "      <td>82144.000000</td>\n",
              "    </tr>\n",
              "    <tr>\n",
              "      <th>mean</th>\n",
              "      <td>7.313766</td>\n",
              "    </tr>\n",
              "    <tr>\n",
              "      <th>std</th>\n",
              "      <td>11.575638</td>\n",
              "    </tr>\n",
              "    <tr>\n",
              "      <th>min</th>\n",
              "      <td>0.000000</td>\n",
              "    </tr>\n",
              "    <tr>\n",
              "      <th>25%</th>\n",
              "      <td>6.000000</td>\n",
              "    </tr>\n",
              "    <tr>\n",
              "      <th>50%</th>\n",
              "      <td>7.000000</td>\n",
              "    </tr>\n",
              "    <tr>\n",
              "      <th>75%</th>\n",
              "      <td>9.000000</td>\n",
              "    </tr>\n",
              "    <tr>\n",
              "      <th>max</th>\n",
              "      <td>2884.000000</td>\n",
              "    </tr>\n",
              "  </tbody>\n",
              "</table>\n",
              "</div>"
            ],
            "text/plain": [
              "             counts\n",
              "count  82144.000000\n",
              "mean       7.313766\n",
              "std       11.575638\n",
              "min        0.000000\n",
              "25%        6.000000\n",
              "50%        7.000000\n",
              "75%        9.000000\n",
              "max     2884.000000"
            ]
          },
          "metadata": {
            "tags": []
          },
          "execution_count": 54
        }
      ]
    },
    {
      "cell_type": "markdown",
      "metadata": {
        "id": "MCXDSMSHw_jy",
        "colab_type": "text"
      },
      "source": [
        "### Generating sequence of word indexes on daily basis \n",
        "Limiting no. of words in a single headline to 15(can be modified) and combining single day headlines."
      ]
    },
    {
      "cell_type": "code",
      "metadata": {
        "id": "DJxRp-rhw_j5",
        "colab_type": "code",
        "colab": {}
      },
      "source": [
        "text_indexes_df['news_sequence'] = text_indexes_df['news_words_indexes'].apply(utils.limiting_text_length, \n",
        "                                                                                            limit_length = 15,\n",
        "                                                                                            pad_index = vocab_to_index[\"<UNK>\"])"
      ],
      "execution_count": 0,
      "outputs": []
    },
    {
      "cell_type": "code",
      "metadata": {
        "id": "_XWaGdJxw_j9",
        "colab_type": "code",
        "colab": {
          "base_uri": "https://localhost:8080/",
          "height": 206
        },
        "outputId": "65d81ce7-6b57-44e1-ae51-73c125df88dc"
      },
      "source": [
        "text_indexes_df.head()"
      ],
      "execution_count": 56,
      "outputs": [
        {
          "output_type": "execute_result",
          "data": {
            "text/html": [
              "<div>\n",
              "<style scoped>\n",
              "    .dataframe tbody tr th:only-of-type {\n",
              "        vertical-align: middle;\n",
              "    }\n",
              "\n",
              "    .dataframe tbody tr th {\n",
              "        vertical-align: top;\n",
              "    }\n",
              "\n",
              "    .dataframe thead th {\n",
              "        text-align: right;\n",
              "    }\n",
              "</style>\n",
              "<table border=\"1\" class=\"dataframe\">\n",
              "  <thead>\n",
              "    <tr style=\"text-align: right;\">\n",
              "      <th></th>\n",
              "      <th>Date</th>\n",
              "      <th>news_words_indexes</th>\n",
              "      <th>news_sequence</th>\n",
              "    </tr>\n",
              "  </thead>\n",
              "  <tbody>\n",
              "    <tr>\n",
              "      <th>0</th>\n",
              "      <td>2014-03-18</td>\n",
              "      <td>[0, 1, 2, 3, 4, 5, 6, 7]</td>\n",
              "      <td>[0, 1, 2, 3, 4, 5, 6, 7, 19772, 19772, 19772, ...</td>\n",
              "    </tr>\n",
              "    <tr>\n",
              "      <th>1</th>\n",
              "      <td>2014-03-18</td>\n",
              "      <td>[8, 9, 10, 11, 12, 13]</td>\n",
              "      <td>[8, 9, 10, 11, 12, 13, 19772, 19772, 19772, 19...</td>\n",
              "    </tr>\n",
              "    <tr>\n",
              "      <th>2</th>\n",
              "      <td>2014-03-18</td>\n",
              "      <td>[11, 12, 13, 14, 15, 16, 19772, 17, 18, 19, 20]</td>\n",
              "      <td>[11, 12, 13, 14, 15, 16, 19772, 17, 18, 19, 20...</td>\n",
              "    </tr>\n",
              "    <tr>\n",
              "      <th>3</th>\n",
              "      <td>2014-03-18</td>\n",
              "      <td>[11, 12, 13, 15, 21, 22, 23, 24, 9]</td>\n",
              "      <td>[11, 12, 13, 15, 21, 22, 23, 24, 9, 19772, 197...</td>\n",
              "    </tr>\n",
              "    <tr>\n",
              "      <th>4</th>\n",
              "      <td>2014-03-18</td>\n",
              "      <td>[25, 26, 11, 12, 27, 28, 29, 30]</td>\n",
              "      <td>[25, 26, 11, 12, 27, 28, 29, 30, 19772, 19772,...</td>\n",
              "    </tr>\n",
              "  </tbody>\n",
              "</table>\n",
              "</div>"
            ],
            "text/plain": [
              "        Date                               news_words_indexes  \\\n",
              "0 2014-03-18                         [0, 1, 2, 3, 4, 5, 6, 7]   \n",
              "1 2014-03-18                           [8, 9, 10, 11, 12, 13]   \n",
              "2 2014-03-18  [11, 12, 13, 14, 15, 16, 19772, 17, 18, 19, 20]   \n",
              "3 2014-03-18              [11, 12, 13, 15, 21, 22, 23, 24, 9]   \n",
              "4 2014-03-18                 [25, 26, 11, 12, 27, 28, 29, 30]   \n",
              "\n",
              "                                       news_sequence  \n",
              "0  [0, 1, 2, 3, 4, 5, 6, 7, 19772, 19772, 19772, ...  \n",
              "1  [8, 9, 10, 11, 12, 13, 19772, 19772, 19772, 19...  \n",
              "2  [11, 12, 13, 14, 15, 16, 19772, 17, 18, 19, 20...  \n",
              "3  [11, 12, 13, 15, 21, 22, 23, 24, 9, 19772, 197...  \n",
              "4  [25, 26, 11, 12, 27, 28, 29, 30, 19772, 19772,...  "
            ]
          },
          "metadata": {
            "tags": []
          },
          "execution_count": 56
        }
      ]
    },
    {
      "cell_type": "markdown",
      "metadata": {
        "id": "vqgTjRoJw_j_",
        "colab_type": "text"
      },
      "source": [
        "### Saving news sequences"
      ]
    },
    {
      "cell_type": "code",
      "metadata": {
        "id": "pgGp4-Jaw_kA",
        "colab_type": "code",
        "colab": {}
      },
      "source": [
        "text_indexes_df = text_indexes_df[['Date', 'news_sequence']]"
      ],
      "execution_count": 0,
      "outputs": []
    },
    {
      "cell_type": "code",
      "metadata": {
        "id": "sQv4N9aDw_kG",
        "colab_type": "code",
        "colab": {}
      },
      "source": [
        "utils.save_pickle(filename=\"uci_news_sequences\", variable=text_indexes_df)"
      ],
      "execution_count": 0,
      "outputs": []
    }
  ]
}