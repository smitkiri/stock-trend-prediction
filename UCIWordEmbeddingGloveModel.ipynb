{
  "nbformat": 4,
  "nbformat_minor": 0,
  "metadata": {
    "colab": {
      "name": "UCIWordEmbeddingGloveModelV2.ipynb",
      "provenance": [],
      "collapsed_sections": []
    },
    "kernelspec": {
      "name": "python3",
      "display_name": "Python 3"
    },
    "accelerator": "GPU"
  },
  "cells": [
    {
      "cell_type": "code",
      "metadata": {
        "id": "eS0G_As9pXgm",
        "colab_type": "code",
        "colab": {
          "base_uri": "https://localhost:8080/",
          "height": 82
        },
        "outputId": "bfb420c2-ca74-4126-bb51-11014c89716a"
      },
      "source": [
        "import numpy as np\n",
        "import pandas as pd\n",
        "\n",
        "from keras.preprocessing.text import Tokenizer\n",
        "from keras.preprocessing import sequence\n",
        "from keras.utils.np_utils import to_categorical\n",
        "from keras.models import Sequential\n",
        "from keras.layers import Dense, LSTM\n",
        "from keras.layers.convolutional import Conv1D, MaxPooling1D\n",
        "from keras.layers.embeddings import Embedding\n",
        "from keras.callbacks import ReduceLROnPlateau, ModelCheckpoint, EarlyStopping\n",
        "from keras.models import load_model\n",
        "from keras.optimizers import Adam\n",
        "from sklearn.metrics import confusion_matrix, classification_report\n",
        "import utils_v2 as utils"
      ],
      "execution_count": 1,
      "outputs": [
        {
          "output_type": "stream",
          "text": [
            "Using TensorFlow backend.\n"
          ],
          "name": "stderr"
        },
        {
          "output_type": "display_data",
          "data": {
            "text/html": [
              "<p style=\"color: red;\">\n",
              "The default version of TensorFlow in Colab will soon switch to TensorFlow 2.x.<br>\n",
              "We recommend you <a href=\"https://www.tensorflow.org/guide/migrate\" target=\"_blank\">upgrade</a> now \n",
              "or ensure your notebook will continue to use TensorFlow 1.x via the <code>%tensorflow_version 1.x</code> magic:\n",
              "<a href=\"https://colab.research.google.com/notebooks/tensorflow_version.ipynb\" target=\"_blank\">more info</a>.</p>\n"
            ],
            "text/plain": [
              "<IPython.core.display.HTML object>"
            ]
          },
          "metadata": {
            "tags": []
          }
        }
      ]
    },
    {
      "cell_type": "markdown",
      "metadata": {
        "id": "e6XOw5N5loVE",
        "colab_type": "text"
      },
      "source": [
        "## Google Stock - Predicting Today's trend"
      ]
    },
    {
      "cell_type": "code",
      "metadata": {
        "id": "fa1F8-h4rWeu",
        "colab_type": "code",
        "colab": {}
      },
      "source": [
        "word_embeddings_matrix = utils.open_pickle(filename=\"generated_data/uci_words_embeddings\")"
      ],
      "execution_count": 0,
      "outputs": []
    },
    {
      "cell_type": "code",
      "metadata": {
        "id": "XXStbZe7re2I",
        "colab_type": "code",
        "outputId": "c36596a2-e7bd-41d6-b72a-4ff8ab2d6f9f",
        "colab": {
          "base_uri": "https://localhost:8080/",
          "height": 35
        }
      },
      "source": [
        "word_embeddings_matrix.shape"
      ],
      "execution_count": 3,
      "outputs": [
        {
          "output_type": "execute_result",
          "data": {
            "text/plain": [
              "(19774, 300)"
            ]
          },
          "metadata": {
            "tags": []
          },
          "execution_count": 3
        }
      ]
    },
    {
      "cell_type": "code",
      "metadata": {
        "id": "OtskuRXOriBZ",
        "colab_type": "code",
        "colab": {}
      },
      "source": [
        "news_sequences = utils.open_pickle(filename=\"generated_data/uci_news_sequences\") \n",
        "news_sequences = np.array(list(news_sequences['news_sequence'].values))"
      ],
      "execution_count": 0,
      "outputs": []
    },
    {
      "cell_type": "code",
      "metadata": {
        "id": "g2b-TgmHi6Fg",
        "colab_type": "code",
        "outputId": "23f4daa7-4620-417b-ebc0-0d54849ce8f4",
        "colab": {
          "base_uri": "https://localhost:8080/",
          "height": 35
        }
      },
      "source": [
        "news_sequences.shape"
      ],
      "execution_count": 5,
      "outputs": [
        {
          "output_type": "execute_result",
          "data": {
            "text/plain": [
              "(82144, 15)"
            ]
          },
          "metadata": {
            "tags": []
          },
          "execution_count": 5
        }
      ]
    },
    {
      "cell_type": "code",
      "metadata": {
        "id": "6cAoNMWTrkVA",
        "colab_type": "code",
        "colab": {}
      },
      "source": [
        "stock_labels = utils.open_pickle(filename=\"generated_data/GOOG_uci_stock_labels\")"
      ],
      "execution_count": 0,
      "outputs": []
    },
    {
      "cell_type": "code",
      "metadata": {
        "id": "d4AVZFWxrx21",
        "colab_type": "code",
        "outputId": "903b074b-0b76-4182-b243-75b86d84796d",
        "colab": {
          "base_uri": "https://localhost:8080/",
          "height": 35
        }
      },
      "source": [
        "stock_labels.shape"
      ],
      "execution_count": 7,
      "outputs": [
        {
          "output_type": "execute_result",
          "data": {
            "text/plain": [
              "(82144,)"
            ]
          },
          "metadata": {
            "tags": []
          },
          "execution_count": 7
        }
      ]
    },
    {
      "cell_type": "code",
      "metadata": {
        "id": "6NferYyhtH00",
        "colab_type": "code",
        "colab": {}
      },
      "source": [
        "indexes = [i for i in range(len(news_sequences))]\n",
        "np.random.seed(1)\n",
        "np.random.shuffle(indexes)\n",
        "train_size = int(.75*len(indexes))\n",
        "\n",
        "seq_train = np.array(list(news_sequences[indexes[:train_size]]))\n",
        "y_train = np.array(stock_labels[indexes[:train_size]])\n",
        "\n",
        "seq_test = np.array(list(news_sequences[indexes[train_size:]]))\n",
        "y_test = np.array(stock_labels[indexes[train_size:]])"
      ],
      "execution_count": 0,
      "outputs": []
    },
    {
      "cell_type": "code",
      "metadata": {
        "id": "CavK5zvMthkX",
        "colab_type": "code",
        "colab": {}
      },
      "source": [
        "from keras.models import Sequential\n",
        "from keras import initializers\n",
        "from keras.layers import Dropout, Activation, Embedding, Conv1D, MaxPooling1D, Input, Dense, \\\n",
        "                         BatchNormalization, Flatten, Reshape, concatenate\n",
        "from keras.layers.recurrent import LSTM, GRU\n",
        "from keras.callbacks import Callback, ModelCheckpoint, EarlyStopping, ReduceLROnPlateau\n",
        "from keras.models import Model, load_model # Functional Model\n",
        "from keras.optimizers import Adam, SGD, RMSprop\n",
        "from keras import regularizers\n",
        "from keras.utils.np_utils import to_categorical"
      ],
      "execution_count": 0,
      "outputs": []
    },
    {
      "cell_type": "code",
      "metadata": {
        "id": "zaBvfxH2tkzA",
        "colab_type": "code",
        "colab": {}
      },
      "source": [
        "y_train = to_categorical(y_train)\n",
        "y_test = to_categorical(y_test)"
      ],
      "execution_count": 0,
      "outputs": []
    },
    {
      "cell_type": "code",
      "metadata": {
        "id": "1hlSE_n-pPKE",
        "colab_type": "code",
        "outputId": "7684a588-ece9-4cbd-ce01-4ea4e93a3326",
        "colab": {
          "base_uri": "https://localhost:8080/",
          "height": 535
        }
      },
      "source": [
        "reduceLR = ReduceLROnPlateau(monitor='val_loss', factor=0.1, patience=3, verbose=1, mode='auto')\n",
        "checkpoint = ModelCheckpoint('UciGoogChange1.h5', monitor='val_acc', mode='auto', verbose=1, save_best_only=True)\n",
        "earlyStopping = EarlyStopping(monitor='val_acc', min_delta=0, patience=3, verbose=1)\n",
        "\n",
        "# create the model\n",
        "embedding_vecor_length = 32\n",
        "model_today = Sequential()\n",
        "model_today.add(Embedding(input_dim=word_embeddings_matrix.shape[0], output_dim=word_embeddings_matrix.shape[1],input_length=seq_train.shape[1]))\n",
        "model_today.add(Conv1D(filters=32, kernel_size=3, padding='same', activation='relu'))\n",
        "model_today.add(MaxPooling1D(pool_size=2))\n",
        "model_today.add(LSTM(100))\n",
        "model_today.add(Dense(3, activation='softmax'))\n",
        "optimizer = Adam(lr=1e-3)\n",
        "model_today.compile(loss='categorical_crossentropy', optimizer=optimizer, metrics=['accuracy'])\n",
        "\n",
        "model_today.fit(seq_train, y_train, validation_split=0.05, epochs=25, batch_size=64, callbacks=[checkpoint, earlyStopping, reduceLR])"
      ],
      "execution_count": 12,
      "outputs": [
        {
          "output_type": "stream",
          "text": [
            "Train on 58527 samples, validate on 3081 samples\n",
            "Epoch 1/25\n",
            "58527/58527 [==============================] - 34s 574us/step - loss: 0.7123 - acc: 0.6757 - val_loss: 0.6174 - val_acc: 0.7209\n",
            "\n",
            "Epoch 00001: val_acc improved from -inf to 0.72087, saving model to UciGoogChange1.h5\n",
            "Epoch 2/25\n",
            "58527/58527 [==============================] - 28s 480us/step - loss: 0.4607 - acc: 0.8078 - val_loss: 0.6181 - val_acc: 0.7322\n",
            "\n",
            "Epoch 00002: val_acc improved from 0.72087 to 0.73223, saving model to UciGoogChange1.h5\n",
            "Epoch 3/25\n",
            "58527/58527 [==============================] - 28s 478us/step - loss: 0.3114 - acc: 0.8741 - val_loss: 0.7067 - val_acc: 0.7335\n",
            "\n",
            "Epoch 00003: val_acc improved from 0.73223 to 0.73353, saving model to UciGoogChange1.h5\n",
            "Epoch 4/25\n",
            "58527/58527 [==============================] - 28s 476us/step - loss: 0.2126 - acc: 0.9154 - val_loss: 0.8294 - val_acc: 0.7215\n",
            "\n",
            "Epoch 00004: val_acc did not improve from 0.73353\n",
            "\n",
            "Epoch 00004: ReduceLROnPlateau reducing learning rate to 0.00010000000474974513.\n",
            "Epoch 5/25\n",
            "58527/58527 [==============================] - 28s 475us/step - loss: 0.1099 - acc: 0.9578 - val_loss: 1.1111 - val_acc: 0.7267\n",
            "\n",
            "Epoch 00005: val_acc did not improve from 0.73353\n",
            "Epoch 6/25\n",
            "58527/58527 [==============================] - 28s 476us/step - loss: 0.0816 - acc: 0.9675 - val_loss: 1.2975 - val_acc: 0.7179\n",
            "\n",
            "Epoch 00006: val_acc did not improve from 0.73353\n",
            "Epoch 00006: early stopping\n"
          ],
          "name": "stdout"
        },
        {
          "output_type": "execute_result",
          "data": {
            "text/plain": [
              "<keras.callbacks.History at 0x7f3769424278>"
            ]
          },
          "metadata": {
            "tags": []
          },
          "execution_count": 12
        }
      ]
    },
    {
      "cell_type": "code",
      "metadata": {
        "id": "wMQl1XQ2AeOJ",
        "colab_type": "code",
        "outputId": "af28ad49-0737-4845-d1dd-cdf2a1a41ebb",
        "colab": {
          "base_uri": "https://localhost:8080/",
          "height": 339
        }
      },
      "source": [
        "model_today.summary()"
      ],
      "execution_count": 13,
      "outputs": [
        {
          "output_type": "stream",
          "text": [
            "Model: \"sequential_2\"\n",
            "_________________________________________________________________\n",
            "Layer (type)                 Output Shape              Param #   \n",
            "=================================================================\n",
            "embedding_2 (Embedding)      (None, 15, 300)           5932200   \n",
            "_________________________________________________________________\n",
            "conv1d_2 (Conv1D)            (None, 15, 32)            28832     \n",
            "_________________________________________________________________\n",
            "max_pooling1d_2 (MaxPooling1 (None, 7, 32)             0         \n",
            "_________________________________________________________________\n",
            "lstm_2 (LSTM)                (None, 100)               53200     \n",
            "_________________________________________________________________\n",
            "dense_2 (Dense)              (None, 3)                 303       \n",
            "=================================================================\n",
            "Total params: 6,014,535\n",
            "Trainable params: 6,014,535\n",
            "Non-trainable params: 0\n",
            "_________________________________________________________________\n"
          ],
          "name": "stdout"
        }
      ]
    },
    {
      "cell_type": "code",
      "metadata": {
        "id": "iHBYfVmPszIJ",
        "colab_type": "code",
        "outputId": "5f7ad1ce-288e-4c90-8de2-91a0d0a70b40",
        "colab": {
          "base_uri": "https://localhost:8080/",
          "height": 53
        }
      },
      "source": [
        "model_today = load_model('UciGoogChange1.h5')\n",
        "scores = model_today.evaluate(seq_test, y_test, verbose=1)\n",
        "scores"
      ],
      "execution_count": 14,
      "outputs": [
        {
          "output_type": "stream",
          "text": [
            "20536/20536 [==============================] - 6s 283us/step\n"
          ],
          "name": "stdout"
        },
        {
          "output_type": "execute_result",
          "data": {
            "text/plain": [
              "[0.7009405981579503, 0.7266264121774852]"
            ]
          },
          "metadata": {
            "tags": []
          },
          "execution_count": 14
        }
      ]
    },
    {
      "cell_type": "code",
      "metadata": {
        "id": "Tg1i-Spe8FUz",
        "colab_type": "code",
        "outputId": "83ce651e-a566-44ca-aaad-8c79d110f991",
        "colab": {
          "base_uri": "https://localhost:8080/",
          "height": 420
        }
      },
      "source": [
        "y_true = [np.argmax(y) for y in y_train]\n",
        "y_pred = model_today.predict_classes(seq_train)\n",
        "y_pred_prob = model_today.predict(seq_train)\n",
        "\n",
        "utils.print_metrics(y_true, y_pred, y_pred_prob, 'uci_embedding_glove_news_only_train')"
      ],
      "execution_count": 15,
      "outputs": [
        {
          "output_type": "stream",
          "text": [
            "Accuracy: 0.923\n",
            "Precision: 0.923\n",
            "Recall: 0.923\n",
            "F1 score: 0.923\n",
            "\n",
            "\n",
            "\n"
          ],
          "name": "stdout"
        },
        {
          "output_type": "display_data",
          "data": {
            "image/png": "[encoded data removed]",
            "text/plain": [
              "<Figure size 432x288 with 1 Axes>"
            ]
          },
          "metadata": {
            "tags": []
          }
        }
      ]
    },
    {
      "cell_type": "code",
      "metadata": {
        "id": "RL8fThsaY2uI",
        "colab_type": "code",
        "outputId": "a52df718-f56e-4592-ab17-23141cd556b6",
        "colab": {
          "base_uri": "https://localhost:8080/",
          "height": 420
        }
      },
      "source": [
        "y_true = [np.argmax(y) for y in y_test]\n",
        "y_pred = model_today.predict_classes(seq_test)\n",
        "y_pred_prob = model_today.predict(seq_test)\n",
        "\n",
        "utils.print_metrics(y_true, y_pred, y_pred_prob, 'uci_embedding_glove_news_only_test')"
      ],
      "execution_count": 16,
      "outputs": [
        {
          "output_type": "stream",
          "text": [
            "Accuracy: 0.727\n",
            "Precision: 0.727\n",
            "Recall: 0.727\n",
            "F1 score: 0.727\n",
            "\n",
            "\n",
            "\n"
          ],
          "name": "stdout"
        },
        {
          "output_type": "display_data",
          "data": {
            "image/png": "[encoded data removed]",
            "text/plain": [
              "<Figure size 432x288 with 1 Axes>"
            ]
          },
          "metadata": {
            "tags": []
          }
        }
      ]
    }
  ]
}