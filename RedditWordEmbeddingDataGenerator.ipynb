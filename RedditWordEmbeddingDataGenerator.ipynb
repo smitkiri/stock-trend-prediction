{
  "nbformat": 4,
  "nbformat_minor": 0,
  "metadata": {
    "colab": {
      "name": "DJIA WordEmbeddingV5 Data Generator .ipynb",
      "provenance": [],
      "collapsed_sections": []
    },
    "kernelspec": {
      "display_name": "Python 3",
      "language": "python",
      "name": "python3"
    },
    "language_info": {
      "codemirror_mode": {
        "name": "ipython",
        "version": 3
      },
      "file_extension": ".py",
      "mimetype": "text/x-python",
      "name": "python",
      "nbconvert_exporter": "python",
      "pygments_lexer": "ipython3",
      "version": "3.7.3"
    }
  },
  "cells": [
    {
      "cell_type": "code",
      "metadata": {
        "id": "UYJIqb2rmV5U",
        "colab_type": "code",
        "colab": {}
      },
      "source": [
        "import pandas as pd\n",
        "pd.set_option('display.max_columns', None)\n",
        "import numpy as np\n",
        "import matplotlib.pyplot as plt\n",
        "import utils_v2 as utils"
      ],
      "execution_count": 0,
      "outputs": []
    },
    {
      "cell_type": "code",
      "metadata": {
        "id": "mYwZApU3mxT4",
        "colab_type": "code",
        "outputId": "3385a9b2-3d86-41d5-d621-37134f740769",
        "colab": {
          "base_uri": "https://localhost:8080/",
          "height": 71
        }
      },
      "source": [
        "import nltk\n",
        "nltk.download('stopwords')"
      ],
      "execution_count": 71,
      "outputs": [
        {
          "output_type": "stream",
          "text": [
            "[nltk_data] Downloading package stopwords to /root/nltk_data...\n",
            "[nltk_data]   Package stopwords is already up-to-date!\n"
          ],
          "name": "stdout"
        },
        {
          "output_type": "execute_result",
          "data": {
            "text/plain": [
              "True"
            ]
          },
          "metadata": {
            "tags": []
          },
          "execution_count": 71
        }
      ]
    },
    {
      "cell_type": "markdown",
      "metadata": {
        "id": "cdyYjNbZmV59",
        "colab_type": "text"
      },
      "source": [
        "## Using DJIA News headlines for stock prediction ##  "
      ]
    },
    {
      "cell_type": "code",
      "metadata": {
        "colab_type": "code",
        "id": "H3-wkX_et4UF",
        "outputId": "5706e46c-dc7a-45f7-f2b8-cb8ea57224d8",
        "colab": {
          "base_uri": "https://localhost:8080/",
          "height": 375
        }
      },
      "source": [
        "news_df = pd.read_csv('Combined_News_DJIA.csv')\n",
        "news_df.head(2)"
      ],
      "execution_count": 72,
      "outputs": [
        {
          "output_type": "execute_result",
          "data": {
            "text/html": [
              "<div>\n",
              "<style scoped>\n",
              "    .dataframe tbody tr th:only-of-type {\n",
              "        vertical-align: middle;\n",
              "    }\n",
              "\n",
              "    .dataframe tbody tr th {\n",
              "        vertical-align: top;\n",
              "    }\n",
              "\n",
              "    .dataframe thead th {\n",
              "        text-align: right;\n",
              "    }\n",
              "</style>\n",
              "<table border=\"1\" class=\"dataframe\">\n",
              "  <thead>\n",
              "    <tr style=\"text-align: right;\">\n",
              "      <th></th>\n",
              "      <th>Date</th>\n",
              "      <th>Label</th>\n",
              "      <th>Top1</th>\n",
              "      <th>Top2</th>\n",
              "      <th>Top3</th>\n",
              "      <th>Top4</th>\n",
              "      <th>Top5</th>\n",
              "      <th>Top6</th>\n",
              "      <th>Top7</th>\n",
              "      <th>Top8</th>\n",
              "      <th>Top9</th>\n",
              "      <th>Top10</th>\n",
              "      <th>Top11</th>\n",
              "      <th>Top12</th>\n",
              "      <th>Top13</th>\n",
              "      <th>Top14</th>\n",
              "      <th>Top15</th>\n",
              "      <th>Top16</th>\n",
              "      <th>Top17</th>\n",
              "      <th>Top18</th>\n",
              "      <th>Top19</th>\n",
              "      <th>Top20</th>\n",
              "      <th>Top21</th>\n",
              "      <th>Top22</th>\n",
              "      <th>Top23</th>\n",
              "      <th>Top24</th>\n",
              "      <th>Top25</th>\n",
              "    </tr>\n",
              "  </thead>\n",
              "  <tbody>\n",
              "    <tr>\n",
              "      <th>0</th>\n",
              "      <td>2008-08-08</td>\n",
              "      <td>0</td>\n",
              "      <td>b\"Georgia 'downs two Russian warplanes' as cou...</td>\n",
              "      <td>b'BREAKING: Musharraf to be impeached.'</td>\n",
              "      <td>b'Russia Today: Columns of troops roll into So...</td>\n",
              "      <td>b'Russian tanks are moving towards the capital...</td>\n",
              "      <td>b\"Afghan children raped with 'impunity,' U.N. ...</td>\n",
              "      <td>b'150 Russian tanks have entered South Ossetia...</td>\n",
              "      <td>b\"Breaking: Georgia invades South Ossetia, Rus...</td>\n",
              "      <td>b\"The 'enemy combatent' trials are nothing but...</td>\n",
              "      <td>b'Georgian troops retreat from S. Osettain cap...</td>\n",
              "      <td>b'Did the U.S. Prep Georgia for War with Russia?'</td>\n",
              "      <td>b'Rice Gives Green Light for Israel to Attack ...</td>\n",
              "      <td>b'Announcing:Class Action Lawsuit on Behalf of...</td>\n",
              "      <td>b\"So---Russia and Georgia are at war and the N...</td>\n",
              "      <td>b\"China tells Bush to stay out of other countr...</td>\n",
              "      <td>b'Did World War III start today?'</td>\n",
              "      <td>b'Georgia Invades South Ossetia - if Russia ge...</td>\n",
              "      <td>b'Al-Qaeda Faces Islamist Backlash'</td>\n",
              "      <td>b'Condoleezza Rice: \"The US would not act to p...</td>\n",
              "      <td>b'This is a busy day:  The European Union has ...</td>\n",
              "      <td>b\"Georgia will withdraw 1,000 soldiers from Ir...</td>\n",
              "      <td>b'Why the Pentagon Thinks Attacking Iran is a ...</td>\n",
              "      <td>b'Caucasus in crisis: Georgia invades South Os...</td>\n",
              "      <td>b'Indian shoe manufactory  - And again in a se...</td>\n",
              "      <td>b'Visitors Suffering from Mental Illnesses Ban...</td>\n",
              "      <td>b\"No Help for Mexico's Kidnapping Surge\"</td>\n",
              "    </tr>\n",
              "    <tr>\n",
              "      <th>1</th>\n",
              "      <td>2008-08-11</td>\n",
              "      <td>1</td>\n",
              "      <td>b'Why wont America and Nato help us? If they w...</td>\n",
              "      <td>b'Bush puts foot down on Georgian conflict'</td>\n",
              "      <td>b\"Jewish Georgian minister: Thanks to Israeli ...</td>\n",
              "      <td>b'Georgian army flees in disarray as Russians ...</td>\n",
              "      <td>b\"Olympic opening ceremony fireworks 'faked'\"</td>\n",
              "      <td>b'What were the Mossad with fraudulent New Zea...</td>\n",
              "      <td>b'Russia angered by Israeli military sale to G...</td>\n",
              "      <td>b'An American citizen living in S.Ossetia blam...</td>\n",
              "      <td>b'Welcome To World War IV! Now In High Definit...</td>\n",
              "      <td>b\"Georgia's move, a mistake of monumental prop...</td>\n",
              "      <td>b'Russia presses deeper into Georgia; U.S. say...</td>\n",
              "      <td>b'Abhinav Bindra wins first ever Individual Ol...</td>\n",
              "      <td>b' U.S. ship heads for Arctic to define territ...</td>\n",
              "      <td>b'Drivers in a Jerusalem taxi station threaten...</td>\n",
              "      <td>b'The French Team is Stunned by Phelps and the...</td>\n",
              "      <td>b'Israel and the US behind the Georgian aggres...</td>\n",
              "      <td>b'\"Do not believe TV, neither Russian nor Geor...</td>\n",
              "      <td>b'Riots are still going on in Montreal (Canada...</td>\n",
              "      <td>b'China to overtake US as largest manufacturer'</td>\n",
              "      <td>b'War in South Ossetia [PICS]'</td>\n",
              "      <td>b'Israeli Physicians Group Condemns State Tort...</td>\n",
              "      <td>b' Russia has just beaten the United States ov...</td>\n",
              "      <td>b'Perhaps *the* question about the Georgia - R...</td>\n",
              "      <td>b'Russia is so much better at war'</td>\n",
              "      <td>b\"So this is what it's come to: trading sex fo...</td>\n",
              "    </tr>\n",
              "  </tbody>\n",
              "</table>\n",
              "</div>"
            ],
            "text/plain": [
              "         Date  Label                                               Top1  \\\n",
              "0  2008-08-08      0  b\"Georgia 'downs two Russian warplanes' as cou...   \n",
              "1  2008-08-11      1  b'Why wont America and Nato help us? If they w...   \n",
              "\n",
              "                                          Top2  \\\n",
              "0      b'BREAKING: Musharraf to be impeached.'   \n",
              "1  b'Bush puts foot down on Georgian conflict'   \n",
              "\n",
              "                                                Top3  \\\n",
              "0  b'Russia Today: Columns of troops roll into So...   \n",
              "1  b\"Jewish Georgian minister: Thanks to Israeli ...   \n",
              "\n",
              "                                                Top4  \\\n",
              "0  b'Russian tanks are moving towards the capital...   \n",
              "1  b'Georgian army flees in disarray as Russians ...   \n",
              "\n",
              "                                                Top5  \\\n",
              "0  b\"Afghan children raped with 'impunity,' U.N. ...   \n",
              "1      b\"Olympic opening ceremony fireworks 'faked'\"   \n",
              "\n",
              "                                                Top6  \\\n",
              "0  b'150 Russian tanks have entered South Ossetia...   \n",
              "1  b'What were the Mossad with fraudulent New Zea...   \n",
              "\n",
              "                                                Top7  \\\n",
              "0  b\"Breaking: Georgia invades South Ossetia, Rus...   \n",
              "1  b'Russia angered by Israeli military sale to G...   \n",
              "\n",
              "                                                Top8  \\\n",
              "0  b\"The 'enemy combatent' trials are nothing but...   \n",
              "1  b'An American citizen living in S.Ossetia blam...   \n",
              "\n",
              "                                                Top9  \\\n",
              "0  b'Georgian troops retreat from S. Osettain cap...   \n",
              "1  b'Welcome To World War IV! Now In High Definit...   \n",
              "\n",
              "                                               Top10  \\\n",
              "0  b'Did the U.S. Prep Georgia for War with Russia?'   \n",
              "1  b\"Georgia's move, a mistake of monumental prop...   \n",
              "\n",
              "                                               Top11  \\\n",
              "0  b'Rice Gives Green Light for Israel to Attack ...   \n",
              "1  b'Russia presses deeper into Georgia; U.S. say...   \n",
              "\n",
              "                                               Top12  \\\n",
              "0  b'Announcing:Class Action Lawsuit on Behalf of...   \n",
              "1  b'Abhinav Bindra wins first ever Individual Ol...   \n",
              "\n",
              "                                               Top13  \\\n",
              "0  b\"So---Russia and Georgia are at war and the N...   \n",
              "1  b' U.S. ship heads for Arctic to define territ...   \n",
              "\n",
              "                                               Top14  \\\n",
              "0  b\"China tells Bush to stay out of other countr...   \n",
              "1  b'Drivers in a Jerusalem taxi station threaten...   \n",
              "\n",
              "                                               Top15  \\\n",
              "0                  b'Did World War III start today?'   \n",
              "1  b'The French Team is Stunned by Phelps and the...   \n",
              "\n",
              "                                               Top16  \\\n",
              "0  b'Georgia Invades South Ossetia - if Russia ge...   \n",
              "1  b'Israel and the US behind the Georgian aggres...   \n",
              "\n",
              "                                               Top17  \\\n",
              "0                b'Al-Qaeda Faces Islamist Backlash'   \n",
              "1  b'\"Do not believe TV, neither Russian nor Geor...   \n",
              "\n",
              "                                               Top18  \\\n",
              "0  b'Condoleezza Rice: \"The US would not act to p...   \n",
              "1  b'Riots are still going on in Montreal (Canada...   \n",
              "\n",
              "                                               Top19  \\\n",
              "0  b'This is a busy day:  The European Union has ...   \n",
              "1    b'China to overtake US as largest manufacturer'   \n",
              "\n",
              "                                               Top20  \\\n",
              "0  b\"Georgia will withdraw 1,000 soldiers from Ir...   \n",
              "1                     b'War in South Ossetia [PICS]'   \n",
              "\n",
              "                                               Top21  \\\n",
              "0  b'Why the Pentagon Thinks Attacking Iran is a ...   \n",
              "1  b'Israeli Physicians Group Condemns State Tort...   \n",
              "\n",
              "                                               Top22  \\\n",
              "0  b'Caucasus in crisis: Georgia invades South Os...   \n",
              "1  b' Russia has just beaten the United States ov...   \n",
              "\n",
              "                                               Top23  \\\n",
              "0  b'Indian shoe manufactory  - And again in a se...   \n",
              "1  b'Perhaps *the* question about the Georgia - R...   \n",
              "\n",
              "                                               Top24  \\\n",
              "0  b'Visitors Suffering from Mental Illnesses Ban...   \n",
              "1                 b'Russia is so much better at war'   \n",
              "\n",
              "                                               Top25  \n",
              "0           b\"No Help for Mexico's Kidnapping Surge\"  \n",
              "1  b\"So this is what it's come to: trading sex fo...  "
            ]
          },
          "metadata": {
            "tags": []
          },
          "execution_count": 72
        }
      ]
    },
    {
      "cell_type": "code",
      "metadata": {
        "colab_type": "code",
        "id": "lZ9Khg7Lx1dR",
        "outputId": "8cb4d729-8b7b-4ea7-cc03-44395babbe26",
        "colab": {
          "base_uri": "https://localhost:8080/",
          "height": 206
        }
      },
      "source": [
        "news_cols = [col for col in news_df.columns if col.__contains__(\"Top\")] # getting news cols\n",
        "news_df = pd.melt(news_df, id_vars= 'Date',value_vars=news_cols, value_name='news') # converting daily news for each day into rows\n",
        "news_df.drop('variable', axis=1, inplace=True)\n",
        "news_df = news_df.sort_values(['Date']).reset_index(drop=True)\n",
        "news_df['Date'] = pd.to_datetime(news_df['Date'])\n",
        "news_df.head()"
      ],
      "execution_count": 73,
      "outputs": [
        {
          "output_type": "execute_result",
          "data": {
            "text/html": [
              "<div>\n",
              "<style scoped>\n",
              "    .dataframe tbody tr th:only-of-type {\n",
              "        vertical-align: middle;\n",
              "    }\n",
              "\n",
              "    .dataframe tbody tr th {\n",
              "        vertical-align: top;\n",
              "    }\n",
              "\n",
              "    .dataframe thead th {\n",
              "        text-align: right;\n",
              "    }\n",
              "</style>\n",
              "<table border=\"1\" class=\"dataframe\">\n",
              "  <thead>\n",
              "    <tr style=\"text-align: right;\">\n",
              "      <th></th>\n",
              "      <th>Date</th>\n",
              "      <th>news</th>\n",
              "    </tr>\n",
              "  </thead>\n",
              "  <tbody>\n",
              "    <tr>\n",
              "      <th>0</th>\n",
              "      <td>2008-08-08</td>\n",
              "      <td>b\"Georgia 'downs two Russian warplanes' as cou...</td>\n",
              "    </tr>\n",
              "    <tr>\n",
              "      <th>1</th>\n",
              "      <td>2008-08-08</td>\n",
              "      <td>b\"Georgia will withdraw 1,000 soldiers from Ir...</td>\n",
              "    </tr>\n",
              "    <tr>\n",
              "      <th>2</th>\n",
              "      <td>2008-08-08</td>\n",
              "      <td>b\"So---Russia and Georgia are at war and the N...</td>\n",
              "    </tr>\n",
              "    <tr>\n",
              "      <th>3</th>\n",
              "      <td>2008-08-08</td>\n",
              "      <td>b\"China tells Bush to stay out of other countr...</td>\n",
              "    </tr>\n",
              "    <tr>\n",
              "      <th>4</th>\n",
              "      <td>2008-08-08</td>\n",
              "      <td>b'This is a busy day:  The European Union has ...</td>\n",
              "    </tr>\n",
              "  </tbody>\n",
              "</table>\n",
              "</div>"
            ],
            "text/plain": [
              "        Date                                               news\n",
              "0 2008-08-08  b\"Georgia 'downs two Russian warplanes' as cou...\n",
              "1 2008-08-08  b\"Georgia will withdraw 1,000 soldiers from Ir...\n",
              "2 2008-08-08  b\"So---Russia and Georgia are at war and the N...\n",
              "3 2008-08-08  b\"China tells Bush to stay out of other countr...\n",
              "4 2008-08-08  b'This is a busy day:  The European Union has ..."
            ]
          },
          "metadata": {
            "tags": []
          },
          "execution_count": 73
        }
      ]
    },
    {
      "cell_type": "code",
      "metadata": {
        "id": "Dx0MO4yWmV6V",
        "colab_type": "code",
        "outputId": "f4bb85c1-60ed-4b38-9d61-8b84dabd2a9d",
        "colab": {
          "base_uri": "https://localhost:8080/",
          "height": 71
        }
      },
      "source": [
        "print(\"News Time Period, From %s to %s\"%(min(news_df['Date']), max(news_df['Date'])))\n",
        "print(\"Number of days headlines: %d\"%(len(news_df['Date'].unique())))\n",
        "print(\"Total News: %d\"%len(news_df))"
      ],
      "execution_count": 74,
      "outputs": [
        {
          "output_type": "stream",
          "text": [
            "News Time Period, From 2008-08-08 00:00:00 to 2016-07-01 00:00:00\n",
            "Number of days headlines: 1989\n",
            "Total News: 49725\n"
          ],
          "name": "stdout"
        }
      ]
    },
    {
      "cell_type": "markdown",
      "metadata": {
        "id": "H-LREo0-mV6h",
        "colab_type": "text"
      },
      "source": [
        "## Cleaning news"
      ]
    },
    {
      "cell_type": "code",
      "metadata": {
        "id": "tGEqvbYNmV6j",
        "colab_type": "code",
        "outputId": "fd9e701d-7a20-4847-fbec-7df38f9ed488",
        "colab": {
          "base_uri": "https://localhost:8080/",
          "height": 224
        }
      },
      "source": [
        "print(\"Before Cleaning\")\n",
        "news_df.head(5)"
      ],
      "execution_count": 75,
      "outputs": [
        {
          "output_type": "stream",
          "text": [
            "Before Cleaning\n"
          ],
          "name": "stdout"
        },
        {
          "output_type": "execute_result",
          "data": {
            "text/html": [
              "<div>\n",
              "<style scoped>\n",
              "    .dataframe tbody tr th:only-of-type {\n",
              "        vertical-align: middle;\n",
              "    }\n",
              "\n",
              "    .dataframe tbody tr th {\n",
              "        vertical-align: top;\n",
              "    }\n",
              "\n",
              "    .dataframe thead th {\n",
              "        text-align: right;\n",
              "    }\n",
              "</style>\n",
              "<table border=\"1\" class=\"dataframe\">\n",
              "  <thead>\n",
              "    <tr style=\"text-align: right;\">\n",
              "      <th></th>\n",
              "      <th>Date</th>\n",
              "      <th>news</th>\n",
              "    </tr>\n",
              "  </thead>\n",
              "  <tbody>\n",
              "    <tr>\n",
              "      <th>0</th>\n",
              "      <td>2008-08-08</td>\n",
              "      <td>b\"Georgia 'downs two Russian warplanes' as cou...</td>\n",
              "    </tr>\n",
              "    <tr>\n",
              "      <th>1</th>\n",
              "      <td>2008-08-08</td>\n",
              "      <td>b\"Georgia will withdraw 1,000 soldiers from Ir...</td>\n",
              "    </tr>\n",
              "    <tr>\n",
              "      <th>2</th>\n",
              "      <td>2008-08-08</td>\n",
              "      <td>b\"So---Russia and Georgia are at war and the N...</td>\n",
              "    </tr>\n",
              "    <tr>\n",
              "      <th>3</th>\n",
              "      <td>2008-08-08</td>\n",
              "      <td>b\"China tells Bush to stay out of other countr...</td>\n",
              "    </tr>\n",
              "    <tr>\n",
              "      <th>4</th>\n",
              "      <td>2008-08-08</td>\n",
              "      <td>b'This is a busy day:  The European Union has ...</td>\n",
              "    </tr>\n",
              "  </tbody>\n",
              "</table>\n",
              "</div>"
            ],
            "text/plain": [
              "        Date                                               news\n",
              "0 2008-08-08  b\"Georgia 'downs two Russian warplanes' as cou...\n",
              "1 2008-08-08  b\"Georgia will withdraw 1,000 soldiers from Ir...\n",
              "2 2008-08-08  b\"So---Russia and Georgia are at war and the N...\n",
              "3 2008-08-08  b\"China tells Bush to stay out of other countr...\n",
              "4 2008-08-08  b'This is a busy day:  The European Union has ..."
            ]
          },
          "metadata": {
            "tags": []
          },
          "execution_count": 75
        }
      ]
    },
    {
      "cell_type": "code",
      "metadata": {
        "id": "tqS0HjBHmV6r",
        "colab_type": "code",
        "colab": {}
      },
      "source": [
        "news_df[\"news\"] = news_df[\"news\"].apply(utils.get_clean_text)"
      ],
      "execution_count": 0,
      "outputs": []
    },
    {
      "cell_type": "code",
      "metadata": {
        "id": "JA6SQklcmV62",
        "colab_type": "code",
        "outputId": "5971c45a-3d41-4efa-a7b1-de07eab66430",
        "colab": {
          "base_uri": "https://localhost:8080/",
          "height": 224
        }
      },
      "source": [
        "print(\"After cleaning\")\n",
        "news_df.head(5)"
      ],
      "execution_count": 77,
      "outputs": [
        {
          "output_type": "stream",
          "text": [
            "After cleaning\n"
          ],
          "name": "stdout"
        },
        {
          "output_type": "execute_result",
          "data": {
            "text/html": [
              "<div>\n",
              "<style scoped>\n",
              "    .dataframe tbody tr th:only-of-type {\n",
              "        vertical-align: middle;\n",
              "    }\n",
              "\n",
              "    .dataframe tbody tr th {\n",
              "        vertical-align: top;\n",
              "    }\n",
              "\n",
              "    .dataframe thead th {\n",
              "        text-align: right;\n",
              "    }\n",
              "</style>\n",
              "<table border=\"1\" class=\"dataframe\">\n",
              "  <thead>\n",
              "    <tr style=\"text-align: right;\">\n",
              "      <th></th>\n",
              "      <th>Date</th>\n",
              "      <th>news</th>\n",
              "    </tr>\n",
              "  </thead>\n",
              "  <tbody>\n",
              "    <tr>\n",
              "      <th>0</th>\n",
              "      <td>2008-08-08</td>\n",
              "      <td>georgia downs two russian warplanes countries ...</td>\n",
              "    </tr>\n",
              "    <tr>\n",
              "      <th>1</th>\n",
              "      <td>2008-08-08</td>\n",
              "      <td>georgia withdraw 1 000 soldiers iraq help figh...</td>\n",
              "    </tr>\n",
              "    <tr>\n",
              "      <th>2</th>\n",
              "      <td>2008-08-08</td>\n",
              "      <td>russia georgia war nyt top story opening cerem...</td>\n",
              "    </tr>\n",
              "    <tr>\n",
              "      <th>3</th>\n",
              "      <td>2008-08-08</td>\n",
              "      <td>china tells bush stay countries affairs</td>\n",
              "    </tr>\n",
              "    <tr>\n",
              "      <th>4</th>\n",
              "      <td>2008-08-08</td>\n",
              "      <td>busy day european union approved new sanctions...</td>\n",
              "    </tr>\n",
              "  </tbody>\n",
              "</table>\n",
              "</div>"
            ],
            "text/plain": [
              "        Date                                               news\n",
              "0 2008-08-08  georgia downs two russian warplanes countries ...\n",
              "1 2008-08-08  georgia withdraw 1 000 soldiers iraq help figh...\n",
              "2 2008-08-08  russia georgia war nyt top story opening cerem...\n",
              "3 2008-08-08            china tells bush stay countries affairs\n",
              "4 2008-08-08  busy day european union approved new sanctions..."
            ]
          },
          "metadata": {
            "tags": []
          },
          "execution_count": 77
        }
      ]
    },
    {
      "cell_type": "code",
      "metadata": {
        "id": "X89ktd5LmV7C",
        "colab_type": "code",
        "colab": {}
      },
      "source": [
        "utils.save_pickle('djia_clean_news', news_df)"
      ],
      "execution_count": 0,
      "outputs": []
    },
    {
      "cell_type": "markdown",
      "metadata": {
        "id": "CoGZeMyzmV7M",
        "colab_type": "text"
      },
      "source": [
        "### Getting stock change labels for time duration we have the news ##"
      ]
    },
    {
      "cell_type": "code",
      "metadata": {
        "id": "wrypY9HtmV7R",
        "colab_type": "code",
        "colab": {}
      },
      "source": [
        "company = \"GOOG\"\n",
        "start_date = min(news_df['Date'])\n",
        "end_date = max(news_df['Date'])\n",
        "predict_trend = 1"
      ],
      "execution_count": 0,
      "outputs": []
    },
    {
      "cell_type": "code",
      "metadata": {
        "id": "TmfESknHmV7X",
        "colab_type": "code",
        "colab": {}
      },
      "source": [
        "stock_labels_df = utils.get_stock_change_labels(start=start_date,\n",
        "                                                end=end_date,\n",
        "                                                company=company,\n",
        "                                                cutoff=.5,\n",
        "                                                n_labels=3,\n",
        "                                                shift=predict_trend)"
      ],
      "execution_count": 0,
      "outputs": []
    },
    {
      "cell_type": "code",
      "metadata": {
        "id": "3lpkvLbDmV7f",
        "colab_type": "code",
        "outputId": "17f38441-5176-4657-ace1-32fa993a4f6b",
        "colab": {
          "base_uri": "https://localhost:8080/",
          "height": 206
        }
      },
      "source": [
        "stock_labels_df.head()"
      ],
      "execution_count": 81,
      "outputs": [
        {
          "output_type": "execute_result",
          "data": {
            "text/html": [
              "<div>\n",
              "<style scoped>\n",
              "    .dataframe tbody tr th:only-of-type {\n",
              "        vertical-align: middle;\n",
              "    }\n",
              "\n",
              "    .dataframe tbody tr th {\n",
              "        vertical-align: top;\n",
              "    }\n",
              "\n",
              "    .dataframe thead th {\n",
              "        text-align: right;\n",
              "    }\n",
              "</style>\n",
              "<table border=\"1\" class=\"dataframe\">\n",
              "  <thead>\n",
              "    <tr style=\"text-align: right;\">\n",
              "      <th></th>\n",
              "      <th>Date</th>\n",
              "      <th>change_1</th>\n",
              "    </tr>\n",
              "  </thead>\n",
              "  <tbody>\n",
              "    <tr>\n",
              "      <th>0</th>\n",
              "      <td>2008-08-08</td>\n",
              "      <td>1</td>\n",
              "    </tr>\n",
              "    <tr>\n",
              "      <th>1</th>\n",
              "      <td>2008-08-11</td>\n",
              "      <td>1</td>\n",
              "    </tr>\n",
              "    <tr>\n",
              "      <th>2</th>\n",
              "      <td>2008-08-12</td>\n",
              "      <td>0</td>\n",
              "    </tr>\n",
              "    <tr>\n",
              "      <th>3</th>\n",
              "      <td>2008-08-13</td>\n",
              "      <td>1</td>\n",
              "    </tr>\n",
              "    <tr>\n",
              "      <th>4</th>\n",
              "      <td>2008-08-14</td>\n",
              "      <td>1</td>\n",
              "    </tr>\n",
              "  </tbody>\n",
              "</table>\n",
              "</div>"
            ],
            "text/plain": [
              "        Date  change_1\n",
              "0 2008-08-08         1\n",
              "1 2008-08-11         1\n",
              "2 2008-08-12         0\n",
              "3 2008-08-13         1\n",
              "4 2008-08-14         1"
            ]
          },
          "metadata": {
            "tags": []
          },
          "execution_count": 81
        }
      ]
    },
    {
      "cell_type": "code",
      "metadata": {
        "id": "-uJHIgi6mV7k",
        "colab_type": "code",
        "outputId": "542310e6-a0e4-4e8d-8fc6-c7233f06d1c2",
        "colab": {
          "base_uri": "https://localhost:8080/",
          "height": 88
        }
      },
      "source": [
        "stock_labels_df['change_1'].value_counts()"
      ],
      "execution_count": 82,
      "outputs": [
        {
          "output_type": "execute_result",
          "data": {
            "text/plain": [
              "1    788\n",
              "2    741\n",
              "0    459\n",
              "Name: change_1, dtype: int64"
            ]
          },
          "metadata": {
            "tags": []
          },
          "execution_count": 82
        }
      ]
    },
    {
      "cell_type": "markdown",
      "metadata": {
        "id": "UYSyjVW_mV7r",
        "colab_type": "text"
      },
      "source": [
        "### Getting stock features for time duration we have the news"
      ]
    },
    {
      "cell_type": "code",
      "metadata": {
        "id": "IUqMc2qXmV7u",
        "colab_type": "code",
        "colab": {}
      },
      "source": [
        "stock_data_df = utils.get_stock_data(start=start_date,\n",
        "                                     end=end_date,\n",
        "                                     company=company,\n",
        "                                     additional_features=True)"
      ],
      "execution_count": 0,
      "outputs": []
    },
    {
      "cell_type": "code",
      "metadata": {
        "id": "Uq2gIbICmV71",
        "colab_type": "code",
        "outputId": "490c8a11-64ea-4759-a5bc-1cb0f0283d83",
        "colab": {
          "base_uri": "https://localhost:8080/",
          "height": 226
        }
      },
      "source": [
        "stock_data_df.head()"
      ],
      "execution_count": 84,
      "outputs": [
        {
          "output_type": "execute_result",
          "data": {
            "text/html": [
              "<div>\n",
              "<style scoped>\n",
              "    .dataframe tbody tr th:only-of-type {\n",
              "        vertical-align: middle;\n",
              "    }\n",
              "\n",
              "    .dataframe tbody tr th {\n",
              "        vertical-align: top;\n",
              "    }\n",
              "\n",
              "    .dataframe thead th {\n",
              "        text-align: right;\n",
              "    }\n",
              "</style>\n",
              "<table border=\"1\" class=\"dataframe\">\n",
              "  <thead>\n",
              "    <tr style=\"text-align: right;\">\n",
              "      <th></th>\n",
              "      <th>Date</th>\n",
              "      <th>High</th>\n",
              "      <th>Low</th>\n",
              "      <th>Open</th>\n",
              "      <th>Close</th>\n",
              "      <th>Volume</th>\n",
              "      <th>Is_month_end</th>\n",
              "      <th>Is_month_start</th>\n",
              "      <th>Is_quarter_end</th>\n",
              "      <th>Is_quarter_start</th>\n",
              "      <th>Is_year_end</th>\n",
              "      <th>Is_year_start</th>\n",
              "      <th>dayofweek_0</th>\n",
              "      <th>dayofweek_1</th>\n",
              "      <th>dayofweek_2</th>\n",
              "      <th>dayofweek_3</th>\n",
              "      <th>dayofweek_4</th>\n",
              "      <th>week_1</th>\n",
              "      <th>week_2</th>\n",
              "      <th>week_3</th>\n",
              "      <th>week_4</th>\n",
              "      <th>week_5</th>\n",
              "      <th>week_6</th>\n",
              "      <th>week_7</th>\n",
              "      <th>week_8</th>\n",
              "      <th>week_9</th>\n",
              "      <th>week_10</th>\n",
              "      <th>week_11</th>\n",
              "      <th>week_12</th>\n",
              "      <th>week_13</th>\n",
              "      <th>week_14</th>\n",
              "      <th>week_15</th>\n",
              "      <th>week_16</th>\n",
              "      <th>week_17</th>\n",
              "      <th>week_18</th>\n",
              "      <th>week_19</th>\n",
              "      <th>week_20</th>\n",
              "      <th>week_21</th>\n",
              "      <th>week_22</th>\n",
              "      <th>week_23</th>\n",
              "      <th>week_24</th>\n",
              "      <th>week_25</th>\n",
              "      <th>week_26</th>\n",
              "      <th>week_27</th>\n",
              "      <th>week_28</th>\n",
              "      <th>week_29</th>\n",
              "      <th>week_30</th>\n",
              "      <th>week_31</th>\n",
              "      <th>week_32</th>\n",
              "      <th>week_33</th>\n",
              "      <th>week_34</th>\n",
              "      <th>week_35</th>\n",
              "      <th>week_36</th>\n",
              "      <th>week_37</th>\n",
              "      <th>week_38</th>\n",
              "      <th>week_39</th>\n",
              "      <th>week_40</th>\n",
              "      <th>week_41</th>\n",
              "      <th>week_42</th>\n",
              "      <th>week_43</th>\n",
              "      <th>week_44</th>\n",
              "      <th>week_45</th>\n",
              "      <th>week_46</th>\n",
              "      <th>week_47</th>\n",
              "      <th>week_48</th>\n",
              "      <th>week_49</th>\n",
              "      <th>week_50</th>\n",
              "      <th>week_51</th>\n",
              "      <th>week_52</th>\n",
              "      <th>week_53</th>\n",
              "      <th>month_1</th>\n",
              "      <th>month_2</th>\n",
              "      <th>month_3</th>\n",
              "      <th>month_4</th>\n",
              "      <th>month_5</th>\n",
              "      <th>month_6</th>\n",
              "      <th>month_7</th>\n",
              "      <th>month_8</th>\n",
              "      <th>month_9</th>\n",
              "      <th>month_10</th>\n",
              "      <th>month_11</th>\n",
              "      <th>month_12</th>\n",
              "    </tr>\n",
              "  </thead>\n",
              "  <tbody>\n",
              "    <tr>\n",
              "      <th>0</th>\n",
              "      <td>2008-08-08</td>\n",
              "      <td>246.949371</td>\n",
              "      <td>236.956833</td>\n",
              "      <td>239.178497</td>\n",
              "      <td>246.580750</td>\n",
              "      <td>7506500.0</td>\n",
              "      <td>False</td>\n",
              "      <td>False</td>\n",
              "      <td>False</td>\n",
              "      <td>False</td>\n",
              "      <td>False</td>\n",
              "      <td>False</td>\n",
              "      <td>0</td>\n",
              "      <td>0</td>\n",
              "      <td>0</td>\n",
              "      <td>0</td>\n",
              "      <td>1</td>\n",
              "      <td>0</td>\n",
              "      <td>0</td>\n",
              "      <td>0</td>\n",
              "      <td>0</td>\n",
              "      <td>0</td>\n",
              "      <td>0</td>\n",
              "      <td>0</td>\n",
              "      <td>0</td>\n",
              "      <td>0</td>\n",
              "      <td>0</td>\n",
              "      <td>0</td>\n",
              "      <td>0</td>\n",
              "      <td>0</td>\n",
              "      <td>0</td>\n",
              "      <td>0</td>\n",
              "      <td>0</td>\n",
              "      <td>0</td>\n",
              "      <td>0</td>\n",
              "      <td>0</td>\n",
              "      <td>0</td>\n",
              "      <td>0</td>\n",
              "      <td>0</td>\n",
              "      <td>0</td>\n",
              "      <td>0</td>\n",
              "      <td>0</td>\n",
              "      <td>0</td>\n",
              "      <td>0</td>\n",
              "      <td>0</td>\n",
              "      <td>0</td>\n",
              "      <td>0</td>\n",
              "      <td>0</td>\n",
              "      <td>1</td>\n",
              "      <td>0</td>\n",
              "      <td>0</td>\n",
              "      <td>0</td>\n",
              "      <td>0</td>\n",
              "      <td>0</td>\n",
              "      <td>0</td>\n",
              "      <td>0</td>\n",
              "      <td>0</td>\n",
              "      <td>0</td>\n",
              "      <td>0</td>\n",
              "      <td>0</td>\n",
              "      <td>0</td>\n",
              "      <td>0</td>\n",
              "      <td>0</td>\n",
              "      <td>0</td>\n",
              "      <td>0</td>\n",
              "      <td>0</td>\n",
              "      <td>0</td>\n",
              "      <td>0</td>\n",
              "      <td>0</td>\n",
              "      <td>0</td>\n",
              "      <td>0</td>\n",
              "      <td>0</td>\n",
              "      <td>0</td>\n",
              "      <td>0</td>\n",
              "      <td>0</td>\n",
              "      <td>0</td>\n",
              "      <td>0</td>\n",
              "      <td>1</td>\n",
              "      <td>0</td>\n",
              "      <td>0</td>\n",
              "      <td>0</td>\n",
              "      <td>0</td>\n",
              "    </tr>\n",
              "    <tr>\n",
              "      <th>1</th>\n",
              "      <td>2008-08-11</td>\n",
              "      <td>253.489853</td>\n",
              "      <td>244.971786</td>\n",
              "      <td>245.315491</td>\n",
              "      <td>249.484863</td>\n",
              "      <td>8510300.0</td>\n",
              "      <td>False</td>\n",
              "      <td>False</td>\n",
              "      <td>False</td>\n",
              "      <td>False</td>\n",
              "      <td>False</td>\n",
              "      <td>False</td>\n",
              "      <td>1</td>\n",
              "      <td>0</td>\n",
              "      <td>0</td>\n",
              "      <td>0</td>\n",
              "      <td>0</td>\n",
              "      <td>0</td>\n",
              "      <td>0</td>\n",
              "      <td>0</td>\n",
              "      <td>0</td>\n",
              "      <td>0</td>\n",
              "      <td>0</td>\n",
              "      <td>0</td>\n",
              "      <td>0</td>\n",
              "      <td>0</td>\n",
              "      <td>0</td>\n",
              "      <td>0</td>\n",
              "      <td>0</td>\n",
              "      <td>0</td>\n",
              "      <td>0</td>\n",
              "      <td>0</td>\n",
              "      <td>0</td>\n",
              "      <td>0</td>\n",
              "      <td>0</td>\n",
              "      <td>0</td>\n",
              "      <td>0</td>\n",
              "      <td>0</td>\n",
              "      <td>0</td>\n",
              "      <td>0</td>\n",
              "      <td>0</td>\n",
              "      <td>0</td>\n",
              "      <td>0</td>\n",
              "      <td>0</td>\n",
              "      <td>0</td>\n",
              "      <td>0</td>\n",
              "      <td>0</td>\n",
              "      <td>0</td>\n",
              "      <td>0</td>\n",
              "      <td>1</td>\n",
              "      <td>0</td>\n",
              "      <td>0</td>\n",
              "      <td>0</td>\n",
              "      <td>0</td>\n",
              "      <td>0</td>\n",
              "      <td>0</td>\n",
              "      <td>0</td>\n",
              "      <td>0</td>\n",
              "      <td>0</td>\n",
              "      <td>0</td>\n",
              "      <td>0</td>\n",
              "      <td>0</td>\n",
              "      <td>0</td>\n",
              "      <td>0</td>\n",
              "      <td>0</td>\n",
              "      <td>0</td>\n",
              "      <td>0</td>\n",
              "      <td>0</td>\n",
              "      <td>0</td>\n",
              "      <td>0</td>\n",
              "      <td>0</td>\n",
              "      <td>0</td>\n",
              "      <td>0</td>\n",
              "      <td>0</td>\n",
              "      <td>0</td>\n",
              "      <td>0</td>\n",
              "      <td>0</td>\n",
              "      <td>1</td>\n",
              "      <td>0</td>\n",
              "      <td>0</td>\n",
              "      <td>0</td>\n",
              "      <td>0</td>\n",
              "    </tr>\n",
              "    <tr>\n",
              "      <th>2</th>\n",
              "      <td>2008-08-12</td>\n",
              "      <td>252.119995</td>\n",
              "      <td>248.070175</td>\n",
              "      <td>250.062698</td>\n",
              "      <td>250.366562</td>\n",
              "      <td>5532000.0</td>\n",
              "      <td>False</td>\n",
              "      <td>False</td>\n",
              "      <td>False</td>\n",
              "      <td>False</td>\n",
              "      <td>False</td>\n",
              "      <td>False</td>\n",
              "      <td>0</td>\n",
              "      <td>1</td>\n",
              "      <td>0</td>\n",
              "      <td>0</td>\n",
              "      <td>0</td>\n",
              "      <td>0</td>\n",
              "      <td>0</td>\n",
              "      <td>0</td>\n",
              "      <td>0</td>\n",
              "      <td>0</td>\n",
              "      <td>0</td>\n",
              "      <td>0</td>\n",
              "      <td>0</td>\n",
              "      <td>0</td>\n",
              "      <td>0</td>\n",
              "      <td>0</td>\n",
              "      <td>0</td>\n",
              "      <td>0</td>\n",
              "      <td>0</td>\n",
              "      <td>0</td>\n",
              "      <td>0</td>\n",
              "      <td>0</td>\n",
              "      <td>0</td>\n",
              "      <td>0</td>\n",
              "      <td>0</td>\n",
              "      <td>0</td>\n",
              "      <td>0</td>\n",
              "      <td>0</td>\n",
              "      <td>0</td>\n",
              "      <td>0</td>\n",
              "      <td>0</td>\n",
              "      <td>0</td>\n",
              "      <td>0</td>\n",
              "      <td>0</td>\n",
              "      <td>0</td>\n",
              "      <td>0</td>\n",
              "      <td>0</td>\n",
              "      <td>1</td>\n",
              "      <td>0</td>\n",
              "      <td>0</td>\n",
              "      <td>0</td>\n",
              "      <td>0</td>\n",
              "      <td>0</td>\n",
              "      <td>0</td>\n",
              "      <td>0</td>\n",
              "      <td>0</td>\n",
              "      <td>0</td>\n",
              "      <td>0</td>\n",
              "      <td>0</td>\n",
              "      <td>0</td>\n",
              "      <td>0</td>\n",
              "      <td>0</td>\n",
              "      <td>0</td>\n",
              "      <td>0</td>\n",
              "      <td>0</td>\n",
              "      <td>0</td>\n",
              "      <td>0</td>\n",
              "      <td>0</td>\n",
              "      <td>0</td>\n",
              "      <td>0</td>\n",
              "      <td>0</td>\n",
              "      <td>0</td>\n",
              "      <td>0</td>\n",
              "      <td>0</td>\n",
              "      <td>0</td>\n",
              "      <td>1</td>\n",
              "      <td>0</td>\n",
              "      <td>0</td>\n",
              "      <td>0</td>\n",
              "      <td>0</td>\n",
              "    </tr>\n",
              "    <tr>\n",
              "      <th>3</th>\n",
              "      <td>2008-08-13</td>\n",
              "      <td>250.829834</td>\n",
              "      <td>246.017868</td>\n",
              "      <td>249.863449</td>\n",
              "      <td>249.081375</td>\n",
              "      <td>7278100.0</td>\n",
              "      <td>False</td>\n",
              "      <td>False</td>\n",
              "      <td>False</td>\n",
              "      <td>False</td>\n",
              "      <td>False</td>\n",
              "      <td>False</td>\n",
              "      <td>0</td>\n",
              "      <td>0</td>\n",
              "      <td>1</td>\n",
              "      <td>0</td>\n",
              "      <td>0</td>\n",
              "      <td>0</td>\n",
              "      <td>0</td>\n",
              "      <td>0</td>\n",
              "      <td>0</td>\n",
              "      <td>0</td>\n",
              "      <td>0</td>\n",
              "      <td>0</td>\n",
              "      <td>0</td>\n",
              "      <td>0</td>\n",
              "      <td>0</td>\n",
              "      <td>0</td>\n",
              "      <td>0</td>\n",
              "      <td>0</td>\n",
              "      <td>0</td>\n",
              "      <td>0</td>\n",
              "      <td>0</td>\n",
              "      <td>0</td>\n",
              "      <td>0</td>\n",
              "      <td>0</td>\n",
              "      <td>0</td>\n",
              "      <td>0</td>\n",
              "      <td>0</td>\n",
              "      <td>0</td>\n",
              "      <td>0</td>\n",
              "      <td>0</td>\n",
              "      <td>0</td>\n",
              "      <td>0</td>\n",
              "      <td>0</td>\n",
              "      <td>0</td>\n",
              "      <td>0</td>\n",
              "      <td>0</td>\n",
              "      <td>0</td>\n",
              "      <td>1</td>\n",
              "      <td>0</td>\n",
              "      <td>0</td>\n",
              "      <td>0</td>\n",
              "      <td>0</td>\n",
              "      <td>0</td>\n",
              "      <td>0</td>\n",
              "      <td>0</td>\n",
              "      <td>0</td>\n",
              "      <td>0</td>\n",
              "      <td>0</td>\n",
              "      <td>0</td>\n",
              "      <td>0</td>\n",
              "      <td>0</td>\n",
              "      <td>0</td>\n",
              "      <td>0</td>\n",
              "      <td>0</td>\n",
              "      <td>0</td>\n",
              "      <td>0</td>\n",
              "      <td>0</td>\n",
              "      <td>0</td>\n",
              "      <td>0</td>\n",
              "      <td>0</td>\n",
              "      <td>0</td>\n",
              "      <td>0</td>\n",
              "      <td>0</td>\n",
              "      <td>0</td>\n",
              "      <td>0</td>\n",
              "      <td>1</td>\n",
              "      <td>0</td>\n",
              "      <td>0</td>\n",
              "      <td>0</td>\n",
              "      <td>0</td>\n",
              "    </tr>\n",
              "    <tr>\n",
              "      <th>4</th>\n",
              "      <td>2008-08-14</td>\n",
              "      <td>252.857224</td>\n",
              "      <td>247.218369</td>\n",
              "      <td>247.920731</td>\n",
              "      <td>251.801193</td>\n",
              "      <td>5859000.0</td>\n",
              "      <td>False</td>\n",
              "      <td>False</td>\n",
              "      <td>False</td>\n",
              "      <td>False</td>\n",
              "      <td>False</td>\n",
              "      <td>False</td>\n",
              "      <td>0</td>\n",
              "      <td>0</td>\n",
              "      <td>0</td>\n",
              "      <td>1</td>\n",
              "      <td>0</td>\n",
              "      <td>0</td>\n",
              "      <td>0</td>\n",
              "      <td>0</td>\n",
              "      <td>0</td>\n",
              "      <td>0</td>\n",
              "      <td>0</td>\n",
              "      <td>0</td>\n",
              "      <td>0</td>\n",
              "      <td>0</td>\n",
              "      <td>0</td>\n",
              "      <td>0</td>\n",
              "      <td>0</td>\n",
              "      <td>0</td>\n",
              "      <td>0</td>\n",
              "      <td>0</td>\n",
              "      <td>0</td>\n",
              "      <td>0</td>\n",
              "      <td>0</td>\n",
              "      <td>0</td>\n",
              "      <td>0</td>\n",
              "      <td>0</td>\n",
              "      <td>0</td>\n",
              "      <td>0</td>\n",
              "      <td>0</td>\n",
              "      <td>0</td>\n",
              "      <td>0</td>\n",
              "      <td>0</td>\n",
              "      <td>0</td>\n",
              "      <td>0</td>\n",
              "      <td>0</td>\n",
              "      <td>0</td>\n",
              "      <td>0</td>\n",
              "      <td>1</td>\n",
              "      <td>0</td>\n",
              "      <td>0</td>\n",
              "      <td>0</td>\n",
              "      <td>0</td>\n",
              "      <td>0</td>\n",
              "      <td>0</td>\n",
              "      <td>0</td>\n",
              "      <td>0</td>\n",
              "      <td>0</td>\n",
              "      <td>0</td>\n",
              "      <td>0</td>\n",
              "      <td>0</td>\n",
              "      <td>0</td>\n",
              "      <td>0</td>\n",
              "      <td>0</td>\n",
              "      <td>0</td>\n",
              "      <td>0</td>\n",
              "      <td>0</td>\n",
              "      <td>0</td>\n",
              "      <td>0</td>\n",
              "      <td>0</td>\n",
              "      <td>0</td>\n",
              "      <td>0</td>\n",
              "      <td>0</td>\n",
              "      <td>0</td>\n",
              "      <td>0</td>\n",
              "      <td>0</td>\n",
              "      <td>1</td>\n",
              "      <td>0</td>\n",
              "      <td>0</td>\n",
              "      <td>0</td>\n",
              "      <td>0</td>\n",
              "    </tr>\n",
              "  </tbody>\n",
              "</table>\n",
              "</div>"
            ],
            "text/plain": [
              "        Date        High         Low        Open       Close     Volume  \\\n",
              "0 2008-08-08  246.949371  236.956833  239.178497  246.580750  7506500.0   \n",
              "1 2008-08-11  253.489853  244.971786  245.315491  249.484863  8510300.0   \n",
              "2 2008-08-12  252.119995  248.070175  250.062698  250.366562  5532000.0   \n",
              "3 2008-08-13  250.829834  246.017868  249.863449  249.081375  7278100.0   \n",
              "4 2008-08-14  252.857224  247.218369  247.920731  251.801193  5859000.0   \n",
              "\n",
              "   Is_month_end  Is_month_start  Is_quarter_end  Is_quarter_start  \\\n",
              "0         False           False           False             False   \n",
              "1         False           False           False             False   \n",
              "2         False           False           False             False   \n",
              "3         False           False           False             False   \n",
              "4         False           False           False             False   \n",
              "\n",
              "   Is_year_end  Is_year_start  dayofweek_0  dayofweek_1  dayofweek_2  \\\n",
              "0        False          False            0            0            0   \n",
              "1        False          False            1            0            0   \n",
              "2        False          False            0            1            0   \n",
              "3        False          False            0            0            1   \n",
              "4        False          False            0            0            0   \n",
              "\n",
              "   dayofweek_3  dayofweek_4  week_1  week_2  week_3  week_4  week_5  week_6  \\\n",
              "0            0            1       0       0       0       0       0       0   \n",
              "1            0            0       0       0       0       0       0       0   \n",
              "2            0            0       0       0       0       0       0       0   \n",
              "3            0            0       0       0       0       0       0       0   \n",
              "4            1            0       0       0       0       0       0       0   \n",
              "\n",
              "   week_7  week_8  week_9  week_10  week_11  week_12  week_13  week_14  \\\n",
              "0       0       0       0        0        0        0        0        0   \n",
              "1       0       0       0        0        0        0        0        0   \n",
              "2       0       0       0        0        0        0        0        0   \n",
              "3       0       0       0        0        0        0        0        0   \n",
              "4       0       0       0        0        0        0        0        0   \n",
              "\n",
              "   week_15  week_16  week_17  week_18  week_19  week_20  week_21  week_22  \\\n",
              "0        0        0        0        0        0        0        0        0   \n",
              "1        0        0        0        0        0        0        0        0   \n",
              "2        0        0        0        0        0        0        0        0   \n",
              "3        0        0        0        0        0        0        0        0   \n",
              "4        0        0        0        0        0        0        0        0   \n",
              "\n",
              "   week_23  week_24  week_25  week_26  week_27  week_28  week_29  week_30  \\\n",
              "0        0        0        0        0        0        0        0        0   \n",
              "1        0        0        0        0        0        0        0        0   \n",
              "2        0        0        0        0        0        0        0        0   \n",
              "3        0        0        0        0        0        0        0        0   \n",
              "4        0        0        0        0        0        0        0        0   \n",
              "\n",
              "   week_31  week_32  week_33  week_34  week_35  week_36  week_37  week_38  \\\n",
              "0        0        1        0        0        0        0        0        0   \n",
              "1        0        0        1        0        0        0        0        0   \n",
              "2        0        0        1        0        0        0        0        0   \n",
              "3        0        0        1        0        0        0        0        0   \n",
              "4        0        0        1        0        0        0        0        0   \n",
              "\n",
              "   week_39  week_40  week_41  week_42  week_43  week_44  week_45  week_46  \\\n",
              "0        0        0        0        0        0        0        0        0   \n",
              "1        0        0        0        0        0        0        0        0   \n",
              "2        0        0        0        0        0        0        0        0   \n",
              "3        0        0        0        0        0        0        0        0   \n",
              "4        0        0        0        0        0        0        0        0   \n",
              "\n",
              "   week_47  week_48  week_49  week_50  week_51  week_52  week_53  month_1  \\\n",
              "0        0        0        0        0        0        0        0        0   \n",
              "1        0        0        0        0        0        0        0        0   \n",
              "2        0        0        0        0        0        0        0        0   \n",
              "3        0        0        0        0        0        0        0        0   \n",
              "4        0        0        0        0        0        0        0        0   \n",
              "\n",
              "   month_2  month_3  month_4  month_5  month_6  month_7  month_8  month_9  \\\n",
              "0        0        0        0        0        0        0        1        0   \n",
              "1        0        0        0        0        0        0        1        0   \n",
              "2        0        0        0        0        0        0        1        0   \n",
              "3        0        0        0        0        0        0        1        0   \n",
              "4        0        0        0        0        0        0        1        0   \n",
              "\n",
              "   month_10  month_11  month_12  \n",
              "0         0         0         0  \n",
              "1         0         0         0  \n",
              "2         0         0         0  \n",
              "3         0         0         0  \n",
              "4         0         0         0  "
            ]
          },
          "metadata": {
            "tags": []
          },
          "execution_count": 84
        }
      ]
    },
    {
      "cell_type": "markdown",
      "metadata": {
        "id": "Wncfr2NAmV76",
        "colab_type": "text"
      },
      "source": [
        "### Preparing sequential for stock data"
      ]
    },
    {
      "cell_type": "code",
      "metadata": {
        "id": "uGY2b3N0mV78",
        "colab_type": "code",
        "colab": {}
      },
      "source": [
        "# combining stock features and labels\n",
        "stock_data_df = pd.merge(stock_data_df, stock_labels_df, on=\"Date\",how=\"inner\")\n",
        "stock_data_df = stock_data_df.set_index('Date')"
      ],
      "execution_count": 0,
      "outputs": []
    },
    {
      "cell_type": "code",
      "metadata": {
        "id": "SoIQPgaVmV8E",
        "colab_type": "code",
        "outputId": "21e710b1-38d0-4103-b9ec-cac9312c52cd",
        "colab": {
          "base_uri": "https://localhost:8080/",
          "height": 258
        }
      },
      "source": [
        "stock_data_df.head(5)"
      ],
      "execution_count": 86,
      "outputs": [
        {
          "output_type": "execute_result",
          "data": {
            "text/html": [
              "<div>\n",
              "<style scoped>\n",
              "    .dataframe tbody tr th:only-of-type {\n",
              "        vertical-align: middle;\n",
              "    }\n",
              "\n",
              "    .dataframe tbody tr th {\n",
              "        vertical-align: top;\n",
              "    }\n",
              "\n",
              "    .dataframe thead th {\n",
              "        text-align: right;\n",
              "    }\n",
              "</style>\n",
              "<table border=\"1\" class=\"dataframe\">\n",
              "  <thead>\n",
              "    <tr style=\"text-align: right;\">\n",
              "      <th></th>\n",
              "      <th>High</th>\n",
              "      <th>Low</th>\n",
              "      <th>Open</th>\n",
              "      <th>Close</th>\n",
              "      <th>Volume</th>\n",
              "      <th>Is_month_end</th>\n",
              "      <th>Is_month_start</th>\n",
              "      <th>Is_quarter_end</th>\n",
              "      <th>Is_quarter_start</th>\n",
              "      <th>Is_year_end</th>\n",
              "      <th>Is_year_start</th>\n",
              "      <th>dayofweek_0</th>\n",
              "      <th>dayofweek_1</th>\n",
              "      <th>dayofweek_2</th>\n",
              "      <th>dayofweek_3</th>\n",
              "      <th>dayofweek_4</th>\n",
              "      <th>week_1</th>\n",
              "      <th>week_2</th>\n",
              "      <th>week_3</th>\n",
              "      <th>week_4</th>\n",
              "      <th>week_5</th>\n",
              "      <th>week_6</th>\n",
              "      <th>week_7</th>\n",
              "      <th>week_8</th>\n",
              "      <th>week_9</th>\n",
              "      <th>week_10</th>\n",
              "      <th>week_11</th>\n",
              "      <th>week_12</th>\n",
              "      <th>week_13</th>\n",
              "      <th>week_14</th>\n",
              "      <th>week_15</th>\n",
              "      <th>week_16</th>\n",
              "      <th>week_17</th>\n",
              "      <th>week_18</th>\n",
              "      <th>week_19</th>\n",
              "      <th>week_20</th>\n",
              "      <th>week_21</th>\n",
              "      <th>week_22</th>\n",
              "      <th>week_23</th>\n",
              "      <th>week_24</th>\n",
              "      <th>week_25</th>\n",
              "      <th>week_26</th>\n",
              "      <th>week_27</th>\n",
              "      <th>week_28</th>\n",
              "      <th>week_29</th>\n",
              "      <th>week_30</th>\n",
              "      <th>week_31</th>\n",
              "      <th>week_32</th>\n",
              "      <th>week_33</th>\n",
              "      <th>week_34</th>\n",
              "      <th>week_35</th>\n",
              "      <th>week_36</th>\n",
              "      <th>week_37</th>\n",
              "      <th>week_38</th>\n",
              "      <th>week_39</th>\n",
              "      <th>week_40</th>\n",
              "      <th>week_41</th>\n",
              "      <th>week_42</th>\n",
              "      <th>week_43</th>\n",
              "      <th>week_44</th>\n",
              "      <th>week_45</th>\n",
              "      <th>week_46</th>\n",
              "      <th>week_47</th>\n",
              "      <th>week_48</th>\n",
              "      <th>week_49</th>\n",
              "      <th>week_50</th>\n",
              "      <th>week_51</th>\n",
              "      <th>week_52</th>\n",
              "      <th>week_53</th>\n",
              "      <th>month_1</th>\n",
              "      <th>month_2</th>\n",
              "      <th>month_3</th>\n",
              "      <th>month_4</th>\n",
              "      <th>month_5</th>\n",
              "      <th>month_6</th>\n",
              "      <th>month_7</th>\n",
              "      <th>month_8</th>\n",
              "      <th>month_9</th>\n",
              "      <th>month_10</th>\n",
              "      <th>month_11</th>\n",
              "      <th>month_12</th>\n",
              "      <th>change_1</th>\n",
              "    </tr>\n",
              "    <tr>\n",
              "      <th>Date</th>\n",
              "      <th></th>\n",
              "      <th></th>\n",
              "      <th></th>\n",
              "      <th></th>\n",
              "      <th></th>\n",
              "      <th></th>\n",
              "      <th></th>\n",
              "      <th></th>\n",
              "      <th></th>\n",
              "      <th></th>\n",
              "      <th></th>\n",
              "      <th></th>\n",
              "      <th></th>\n",
              "      <th></th>\n",
              "      <th></th>\n",
              "      <th></th>\n",
              "      <th></th>\n",
              "      <th></th>\n",
              "      <th></th>\n",
              "      <th></th>\n",
              "      <th></th>\n",
              "      <th></th>\n",
              "      <th></th>\n",
              "      <th></th>\n",
              "      <th></th>\n",
              "      <th></th>\n",
              "      <th></th>\n",
              "      <th></th>\n",
              "      <th></th>\n",
              "      <th></th>\n",
              "      <th></th>\n",
              "      <th></th>\n",
              "      <th></th>\n",
              "      <th></th>\n",
              "      <th></th>\n",
              "      <th></th>\n",
              "      <th></th>\n",
              "      <th></th>\n",
              "      <th></th>\n",
              "      <th></th>\n",
              "      <th></th>\n",
              "      <th></th>\n",
              "      <th></th>\n",
              "      <th></th>\n",
              "      <th></th>\n",
              "      <th></th>\n",
              "      <th></th>\n",
              "      <th></th>\n",
              "      <th></th>\n",
              "      <th></th>\n",
              "      <th></th>\n",
              "      <th></th>\n",
              "      <th></th>\n",
              "      <th></th>\n",
              "      <th></th>\n",
              "      <th></th>\n",
              "      <th></th>\n",
              "      <th></th>\n",
              "      <th></th>\n",
              "      <th></th>\n",
              "      <th></th>\n",
              "      <th></th>\n",
              "      <th></th>\n",
              "      <th></th>\n",
              "      <th></th>\n",
              "      <th></th>\n",
              "      <th></th>\n",
              "      <th></th>\n",
              "      <th></th>\n",
              "      <th></th>\n",
              "      <th></th>\n",
              "      <th></th>\n",
              "      <th></th>\n",
              "      <th></th>\n",
              "      <th></th>\n",
              "      <th></th>\n",
              "      <th></th>\n",
              "      <th></th>\n",
              "      <th></th>\n",
              "      <th></th>\n",
              "      <th></th>\n",
              "      <th></th>\n",
              "    </tr>\n",
              "  </thead>\n",
              "  <tbody>\n",
              "    <tr>\n",
              "      <th>2008-08-08</th>\n",
              "      <td>246.949371</td>\n",
              "      <td>236.956833</td>\n",
              "      <td>239.178497</td>\n",
              "      <td>246.580750</td>\n",
              "      <td>7506500.0</td>\n",
              "      <td>False</td>\n",
              "      <td>False</td>\n",
              "      <td>False</td>\n",
              "      <td>False</td>\n",
              "      <td>False</td>\n",
              "      <td>False</td>\n",
              "      <td>0</td>\n",
              "      <td>0</td>\n",
              "      <td>0</td>\n",
              "      <td>0</td>\n",
              "      <td>1</td>\n",
              "      <td>0</td>\n",
              "      <td>0</td>\n",
              "      <td>0</td>\n",
              "      <td>0</td>\n",
              "      <td>0</td>\n",
              "      <td>0</td>\n",
              "      <td>0</td>\n",
              "      <td>0</td>\n",
              "      <td>0</td>\n",
              "      <td>0</td>\n",
              "      <td>0</td>\n",
              "      <td>0</td>\n",
              "      <td>0</td>\n",
              "      <td>0</td>\n",
              "      <td>0</td>\n",
              "      <td>0</td>\n",
              "      <td>0</td>\n",
              "      <td>0</td>\n",
              "      <td>0</td>\n",
              "      <td>0</td>\n",
              "      <td>0</td>\n",
              "      <td>0</td>\n",
              "      <td>0</td>\n",
              "      <td>0</td>\n",
              "      <td>0</td>\n",
              "      <td>0</td>\n",
              "      <td>0</td>\n",
              "      <td>0</td>\n",
              "      <td>0</td>\n",
              "      <td>0</td>\n",
              "      <td>0</td>\n",
              "      <td>1</td>\n",
              "      <td>0</td>\n",
              "      <td>0</td>\n",
              "      <td>0</td>\n",
              "      <td>0</td>\n",
              "      <td>0</td>\n",
              "      <td>0</td>\n",
              "      <td>0</td>\n",
              "      <td>0</td>\n",
              "      <td>0</td>\n",
              "      <td>0</td>\n",
              "      <td>0</td>\n",
              "      <td>0</td>\n",
              "      <td>0</td>\n",
              "      <td>0</td>\n",
              "      <td>0</td>\n",
              "      <td>0</td>\n",
              "      <td>0</td>\n",
              "      <td>0</td>\n",
              "      <td>0</td>\n",
              "      <td>0</td>\n",
              "      <td>0</td>\n",
              "      <td>0</td>\n",
              "      <td>0</td>\n",
              "      <td>0</td>\n",
              "      <td>0</td>\n",
              "      <td>0</td>\n",
              "      <td>0</td>\n",
              "      <td>0</td>\n",
              "      <td>1</td>\n",
              "      <td>0</td>\n",
              "      <td>0</td>\n",
              "      <td>0</td>\n",
              "      <td>0</td>\n",
              "      <td>1</td>\n",
              "    </tr>\n",
              "    <tr>\n",
              "      <th>2008-08-11</th>\n",
              "      <td>253.489853</td>\n",
              "      <td>244.971786</td>\n",
              "      <td>245.315491</td>\n",
              "      <td>249.484863</td>\n",
              "      <td>8510300.0</td>\n",
              "      <td>False</td>\n",
              "      <td>False</td>\n",
              "      <td>False</td>\n",
              "      <td>False</td>\n",
              "      <td>False</td>\n",
              "      <td>False</td>\n",
              "      <td>1</td>\n",
              "      <td>0</td>\n",
              "      <td>0</td>\n",
              "      <td>0</td>\n",
              "      <td>0</td>\n",
              "      <td>0</td>\n",
              "      <td>0</td>\n",
              "      <td>0</td>\n",
              "      <td>0</td>\n",
              "      <td>0</td>\n",
              "      <td>0</td>\n",
              "      <td>0</td>\n",
              "      <td>0</td>\n",
              "      <td>0</td>\n",
              "      <td>0</td>\n",
              "      <td>0</td>\n",
              "      <td>0</td>\n",
              "      <td>0</td>\n",
              "      <td>0</td>\n",
              "      <td>0</td>\n",
              "      <td>0</td>\n",
              "      <td>0</td>\n",
              "      <td>0</td>\n",
              "      <td>0</td>\n",
              "      <td>0</td>\n",
              "      <td>0</td>\n",
              "      <td>0</td>\n",
              "      <td>0</td>\n",
              "      <td>0</td>\n",
              "      <td>0</td>\n",
              "      <td>0</td>\n",
              "      <td>0</td>\n",
              "      <td>0</td>\n",
              "      <td>0</td>\n",
              "      <td>0</td>\n",
              "      <td>0</td>\n",
              "      <td>0</td>\n",
              "      <td>1</td>\n",
              "      <td>0</td>\n",
              "      <td>0</td>\n",
              "      <td>0</td>\n",
              "      <td>0</td>\n",
              "      <td>0</td>\n",
              "      <td>0</td>\n",
              "      <td>0</td>\n",
              "      <td>0</td>\n",
              "      <td>0</td>\n",
              "      <td>0</td>\n",
              "      <td>0</td>\n",
              "      <td>0</td>\n",
              "      <td>0</td>\n",
              "      <td>0</td>\n",
              "      <td>0</td>\n",
              "      <td>0</td>\n",
              "      <td>0</td>\n",
              "      <td>0</td>\n",
              "      <td>0</td>\n",
              "      <td>0</td>\n",
              "      <td>0</td>\n",
              "      <td>0</td>\n",
              "      <td>0</td>\n",
              "      <td>0</td>\n",
              "      <td>0</td>\n",
              "      <td>0</td>\n",
              "      <td>0</td>\n",
              "      <td>1</td>\n",
              "      <td>0</td>\n",
              "      <td>0</td>\n",
              "      <td>0</td>\n",
              "      <td>0</td>\n",
              "      <td>1</td>\n",
              "    </tr>\n",
              "    <tr>\n",
              "      <th>2008-08-12</th>\n",
              "      <td>252.119995</td>\n",
              "      <td>248.070175</td>\n",
              "      <td>250.062698</td>\n",
              "      <td>250.366562</td>\n",
              "      <td>5532000.0</td>\n",
              "      <td>False</td>\n",
              "      <td>False</td>\n",
              "      <td>False</td>\n",
              "      <td>False</td>\n",
              "      <td>False</td>\n",
              "      <td>False</td>\n",
              "      <td>0</td>\n",
              "      <td>1</td>\n",
              "      <td>0</td>\n",
              "      <td>0</td>\n",
              "      <td>0</td>\n",
              "      <td>0</td>\n",
              "      <td>0</td>\n",
              "      <td>0</td>\n",
              "      <td>0</td>\n",
              "      <td>0</td>\n",
              "      <td>0</td>\n",
              "      <td>0</td>\n",
              "      <td>0</td>\n",
              "      <td>0</td>\n",
              "      <td>0</td>\n",
              "      <td>0</td>\n",
              "      <td>0</td>\n",
              "      <td>0</td>\n",
              "      <td>0</td>\n",
              "      <td>0</td>\n",
              "      <td>0</td>\n",
              "      <td>0</td>\n",
              "      <td>0</td>\n",
              "      <td>0</td>\n",
              "      <td>0</td>\n",
              "      <td>0</td>\n",
              "      <td>0</td>\n",
              "      <td>0</td>\n",
              "      <td>0</td>\n",
              "      <td>0</td>\n",
              "      <td>0</td>\n",
              "      <td>0</td>\n",
              "      <td>0</td>\n",
              "      <td>0</td>\n",
              "      <td>0</td>\n",
              "      <td>0</td>\n",
              "      <td>0</td>\n",
              "      <td>1</td>\n",
              "      <td>0</td>\n",
              "      <td>0</td>\n",
              "      <td>0</td>\n",
              "      <td>0</td>\n",
              "      <td>0</td>\n",
              "      <td>0</td>\n",
              "      <td>0</td>\n",
              "      <td>0</td>\n",
              "      <td>0</td>\n",
              "      <td>0</td>\n",
              "      <td>0</td>\n",
              "      <td>0</td>\n",
              "      <td>0</td>\n",
              "      <td>0</td>\n",
              "      <td>0</td>\n",
              "      <td>0</td>\n",
              "      <td>0</td>\n",
              "      <td>0</td>\n",
              "      <td>0</td>\n",
              "      <td>0</td>\n",
              "      <td>0</td>\n",
              "      <td>0</td>\n",
              "      <td>0</td>\n",
              "      <td>0</td>\n",
              "      <td>0</td>\n",
              "      <td>0</td>\n",
              "      <td>0</td>\n",
              "      <td>1</td>\n",
              "      <td>0</td>\n",
              "      <td>0</td>\n",
              "      <td>0</td>\n",
              "      <td>0</td>\n",
              "      <td>0</td>\n",
              "    </tr>\n",
              "    <tr>\n",
              "      <th>2008-08-13</th>\n",
              "      <td>250.829834</td>\n",
              "      <td>246.017868</td>\n",
              "      <td>249.863449</td>\n",
              "      <td>249.081375</td>\n",
              "      <td>7278100.0</td>\n",
              "      <td>False</td>\n",
              "      <td>False</td>\n",
              "      <td>False</td>\n",
              "      <td>False</td>\n",
              "      <td>False</td>\n",
              "      <td>False</td>\n",
              "      <td>0</td>\n",
              "      <td>0</td>\n",
              "      <td>1</td>\n",
              "      <td>0</td>\n",
              "      <td>0</td>\n",
              "      <td>0</td>\n",
              "      <td>0</td>\n",
              "      <td>0</td>\n",
              "      <td>0</td>\n",
              "      <td>0</td>\n",
              "      <td>0</td>\n",
              "      <td>0</td>\n",
              "      <td>0</td>\n",
              "      <td>0</td>\n",
              "      <td>0</td>\n",
              "      <td>0</td>\n",
              "      <td>0</td>\n",
              "      <td>0</td>\n",
              "      <td>0</td>\n",
              "      <td>0</td>\n",
              "      <td>0</td>\n",
              "      <td>0</td>\n",
              "      <td>0</td>\n",
              "      <td>0</td>\n",
              "      <td>0</td>\n",
              "      <td>0</td>\n",
              "      <td>0</td>\n",
              "      <td>0</td>\n",
              "      <td>0</td>\n",
              "      <td>0</td>\n",
              "      <td>0</td>\n",
              "      <td>0</td>\n",
              "      <td>0</td>\n",
              "      <td>0</td>\n",
              "      <td>0</td>\n",
              "      <td>0</td>\n",
              "      <td>0</td>\n",
              "      <td>1</td>\n",
              "      <td>0</td>\n",
              "      <td>0</td>\n",
              "      <td>0</td>\n",
              "      <td>0</td>\n",
              "      <td>0</td>\n",
              "      <td>0</td>\n",
              "      <td>0</td>\n",
              "      <td>0</td>\n",
              "      <td>0</td>\n",
              "      <td>0</td>\n",
              "      <td>0</td>\n",
              "      <td>0</td>\n",
              "      <td>0</td>\n",
              "      <td>0</td>\n",
              "      <td>0</td>\n",
              "      <td>0</td>\n",
              "      <td>0</td>\n",
              "      <td>0</td>\n",
              "      <td>0</td>\n",
              "      <td>0</td>\n",
              "      <td>0</td>\n",
              "      <td>0</td>\n",
              "      <td>0</td>\n",
              "      <td>0</td>\n",
              "      <td>0</td>\n",
              "      <td>0</td>\n",
              "      <td>0</td>\n",
              "      <td>1</td>\n",
              "      <td>0</td>\n",
              "      <td>0</td>\n",
              "      <td>0</td>\n",
              "      <td>0</td>\n",
              "      <td>1</td>\n",
              "    </tr>\n",
              "    <tr>\n",
              "      <th>2008-08-14</th>\n",
              "      <td>252.857224</td>\n",
              "      <td>247.218369</td>\n",
              "      <td>247.920731</td>\n",
              "      <td>251.801193</td>\n",
              "      <td>5859000.0</td>\n",
              "      <td>False</td>\n",
              "      <td>False</td>\n",
              "      <td>False</td>\n",
              "      <td>False</td>\n",
              "      <td>False</td>\n",
              "      <td>False</td>\n",
              "      <td>0</td>\n",
              "      <td>0</td>\n",
              "      <td>0</td>\n",
              "      <td>1</td>\n",
              "      <td>0</td>\n",
              "      <td>0</td>\n",
              "      <td>0</td>\n",
              "      <td>0</td>\n",
              "      <td>0</td>\n",
              "      <td>0</td>\n",
              "      <td>0</td>\n",
              "      <td>0</td>\n",
              "      <td>0</td>\n",
              "      <td>0</td>\n",
              "      <td>0</td>\n",
              "      <td>0</td>\n",
              "      <td>0</td>\n",
              "      <td>0</td>\n",
              "      <td>0</td>\n",
              "      <td>0</td>\n",
              "      <td>0</td>\n",
              "      <td>0</td>\n",
              "      <td>0</td>\n",
              "      <td>0</td>\n",
              "      <td>0</td>\n",
              "      <td>0</td>\n",
              "      <td>0</td>\n",
              "      <td>0</td>\n",
              "      <td>0</td>\n",
              "      <td>0</td>\n",
              "      <td>0</td>\n",
              "      <td>0</td>\n",
              "      <td>0</td>\n",
              "      <td>0</td>\n",
              "      <td>0</td>\n",
              "      <td>0</td>\n",
              "      <td>0</td>\n",
              "      <td>1</td>\n",
              "      <td>0</td>\n",
              "      <td>0</td>\n",
              "      <td>0</td>\n",
              "      <td>0</td>\n",
              "      <td>0</td>\n",
              "      <td>0</td>\n",
              "      <td>0</td>\n",
              "      <td>0</td>\n",
              "      <td>0</td>\n",
              "      <td>0</td>\n",
              "      <td>0</td>\n",
              "      <td>0</td>\n",
              "      <td>0</td>\n",
              "      <td>0</td>\n",
              "      <td>0</td>\n",
              "      <td>0</td>\n",
              "      <td>0</td>\n",
              "      <td>0</td>\n",
              "      <td>0</td>\n",
              "      <td>0</td>\n",
              "      <td>0</td>\n",
              "      <td>0</td>\n",
              "      <td>0</td>\n",
              "      <td>0</td>\n",
              "      <td>0</td>\n",
              "      <td>0</td>\n",
              "      <td>0</td>\n",
              "      <td>1</td>\n",
              "      <td>0</td>\n",
              "      <td>0</td>\n",
              "      <td>0</td>\n",
              "      <td>0</td>\n",
              "      <td>1</td>\n",
              "    </tr>\n",
              "  </tbody>\n",
              "</table>\n",
              "</div>"
            ],
            "text/plain": [
              "                  High         Low        Open       Close     Volume  \\\n",
              "Date                                                                    \n",
              "2008-08-08  246.949371  236.956833  239.178497  246.580750  7506500.0   \n",
              "2008-08-11  253.489853  244.971786  245.315491  249.484863  8510300.0   \n",
              "2008-08-12  252.119995  248.070175  250.062698  250.366562  5532000.0   \n",
              "2008-08-13  250.829834  246.017868  249.863449  249.081375  7278100.0   \n",
              "2008-08-14  252.857224  247.218369  247.920731  251.801193  5859000.0   \n",
              "\n",
              "            Is_month_end  Is_month_start  Is_quarter_end  Is_quarter_start  \\\n",
              "Date                                                                         \n",
              "2008-08-08         False           False           False             False   \n",
              "2008-08-11         False           False           False             False   \n",
              "2008-08-12         False           False           False             False   \n",
              "2008-08-13         False           False           False             False   \n",
              "2008-08-14         False           False           False             False   \n",
              "\n",
              "            Is_year_end  Is_year_start  dayofweek_0  dayofweek_1  dayofweek_2  \\\n",
              "Date                                                                            \n",
              "2008-08-08        False          False            0            0            0   \n",
              "2008-08-11        False          False            1            0            0   \n",
              "2008-08-12        False          False            0            1            0   \n",
              "2008-08-13        False          False            0            0            1   \n",
              "2008-08-14        False          False            0            0            0   \n",
              "\n",
              "            dayofweek_3  dayofweek_4  week_1  week_2  week_3  week_4  week_5  \\\n",
              "Date                                                                           \n",
              "2008-08-08            0            1       0       0       0       0       0   \n",
              "2008-08-11            0            0       0       0       0       0       0   \n",
              "2008-08-12            0            0       0       0       0       0       0   \n",
              "2008-08-13            0            0       0       0       0       0       0   \n",
              "2008-08-14            1            0       0       0       0       0       0   \n",
              "\n",
              "            week_6  week_7  week_8  week_9  week_10  week_11  week_12  \\\n",
              "Date                                                                    \n",
              "2008-08-08       0       0       0       0        0        0        0   \n",
              "2008-08-11       0       0       0       0        0        0        0   \n",
              "2008-08-12       0       0       0       0        0        0        0   \n",
              "2008-08-13       0       0       0       0        0        0        0   \n",
              "2008-08-14       0       0       0       0        0        0        0   \n",
              "\n",
              "            week_13  week_14  week_15  week_16  week_17  week_18  week_19  \\\n",
              "Date                                                                        \n",
              "2008-08-08        0        0        0        0        0        0        0   \n",
              "2008-08-11        0        0        0        0        0        0        0   \n",
              "2008-08-12        0        0        0        0        0        0        0   \n",
              "2008-08-13        0        0        0        0        0        0        0   \n",
              "2008-08-14        0        0        0        0        0        0        0   \n",
              "\n",
              "            week_20  week_21  week_22  week_23  week_24  week_25  week_26  \\\n",
              "Date                                                                        \n",
              "2008-08-08        0        0        0        0        0        0        0   \n",
              "2008-08-11        0        0        0        0        0        0        0   \n",
              "2008-08-12        0        0        0        0        0        0        0   \n",
              "2008-08-13        0        0        0        0        0        0        0   \n",
              "2008-08-14        0        0        0        0        0        0        0   \n",
              "\n",
              "            week_27  week_28  week_29  week_30  week_31  week_32  week_33  \\\n",
              "Date                                                                        \n",
              "2008-08-08        0        0        0        0        0        1        0   \n",
              "2008-08-11        0        0        0        0        0        0        1   \n",
              "2008-08-12        0        0        0        0        0        0        1   \n",
              "2008-08-13        0        0        0        0        0        0        1   \n",
              "2008-08-14        0        0        0        0        0        0        1   \n",
              "\n",
              "            week_34  week_35  week_36  week_37  week_38  week_39  week_40  \\\n",
              "Date                                                                        \n",
              "2008-08-08        0        0        0        0        0        0        0   \n",
              "2008-08-11        0        0        0        0        0        0        0   \n",
              "2008-08-12        0        0        0        0        0        0        0   \n",
              "2008-08-13        0        0        0        0        0        0        0   \n",
              "2008-08-14        0        0        0        0        0        0        0   \n",
              "\n",
              "            week_41  week_42  week_43  week_44  week_45  week_46  week_47  \\\n",
              "Date                                                                        \n",
              "2008-08-08        0        0        0        0        0        0        0   \n",
              "2008-08-11        0        0        0        0        0        0        0   \n",
              "2008-08-12        0        0        0        0        0        0        0   \n",
              "2008-08-13        0        0        0        0        0        0        0   \n",
              "2008-08-14        0        0        0        0        0        0        0   \n",
              "\n",
              "            week_48  week_49  week_50  week_51  week_52  week_53  month_1  \\\n",
              "Date                                                                        \n",
              "2008-08-08        0        0        0        0        0        0        0   \n",
              "2008-08-11        0        0        0        0        0        0        0   \n",
              "2008-08-12        0        0        0        0        0        0        0   \n",
              "2008-08-13        0        0        0        0        0        0        0   \n",
              "2008-08-14        0        0        0        0        0        0        0   \n",
              "\n",
              "            month_2  month_3  month_4  month_5  month_6  month_7  month_8  \\\n",
              "Date                                                                        \n",
              "2008-08-08        0        0        0        0        0        0        1   \n",
              "2008-08-11        0        0        0        0        0        0        1   \n",
              "2008-08-12        0        0        0        0        0        0        1   \n",
              "2008-08-13        0        0        0        0        0        0        1   \n",
              "2008-08-14        0        0        0        0        0        0        1   \n",
              "\n",
              "            month_9  month_10  month_11  month_12  change_1  \n",
              "Date                                                         \n",
              "2008-08-08        0         0         0         0         1  \n",
              "2008-08-11        0         0         0         0         1  \n",
              "2008-08-12        0         0         0         0         0  \n",
              "2008-08-13        0         0         0         0         1  \n",
              "2008-08-14        0         0         0         0         1  "
            ]
          },
          "metadata": {
            "tags": []
          },
          "execution_count": 86
        }
      ]
    },
    {
      "cell_type": "code",
      "metadata": {
        "id": "WVEg6NdMmV8K",
        "colab_type": "code",
        "colab": {}
      },
      "source": [
        "prev = 30\n",
        "X,y = utils.prepare_sequential_stock_data(stock_df=stock_data_df, label='change_' + str(1), prev=prev, scaling=True)"
      ],
      "execution_count": 0,
      "outputs": []
    },
    {
      "cell_type": "markdown",
      "metadata": {
        "id": "CuKD2XeEmV8Q",
        "colab_type": "text"
      },
      "source": [
        "### Checking sequences"
      ]
    },
    {
      "cell_type": "code",
      "metadata": {
        "id": "UTR9NExkmV8R",
        "colab_type": "code",
        "outputId": "71f6a909-d33d-42a0-d330-2528d59a3bce",
        "colab": {
          "base_uri": "https://localhost:8080/",
          "height": 35
        }
      },
      "source": [
        "X.shape, y.shape"
      ],
      "execution_count": 88,
      "outputs": [
        {
          "output_type": "execute_result",
          "data": {
            "text/plain": [
              "((1959, 30, 81), (1959,))"
            ]
          },
          "metadata": {
            "tags": []
          },
          "execution_count": 88
        }
      ]
    },
    {
      "cell_type": "code",
      "metadata": {
        "id": "TlBQSZ1NmV8W",
        "colab_type": "code",
        "outputId": "871fc64c-2dc7-4bad-ecc5-8c9f4152f3f3",
        "colab": {
          "base_uri": "https://localhost:8080/",
          "height": 1000
        }
      },
      "source": [
        "i = 0\n",
        "stock_data_df.iloc[i:i+prev][['High', 'Low', 'Volume', 'change_1']]"
      ],
      "execution_count": 89,
      "outputs": [
        {
          "output_type": "execute_result",
          "data": {
            "text/html": [
              "<div>\n",
              "<style scoped>\n",
              "    .dataframe tbody tr th:only-of-type {\n",
              "        vertical-align: middle;\n",
              "    }\n",
              "\n",
              "    .dataframe tbody tr th {\n",
              "        vertical-align: top;\n",
              "    }\n",
              "\n",
              "    .dataframe thead th {\n",
              "        text-align: right;\n",
              "    }\n",
              "</style>\n",
              "<table border=\"1\" class=\"dataframe\">\n",
              "  <thead>\n",
              "    <tr style=\"text-align: right;\">\n",
              "      <th></th>\n",
              "      <th>High</th>\n",
              "      <th>Low</th>\n",
              "      <th>Volume</th>\n",
              "      <th>change_1</th>\n",
              "    </tr>\n",
              "    <tr>\n",
              "      <th>Date</th>\n",
              "      <th></th>\n",
              "      <th></th>\n",
              "      <th></th>\n",
              "      <th></th>\n",
              "    </tr>\n",
              "  </thead>\n",
              "  <tbody>\n",
              "    <tr>\n",
              "      <th>2008-08-08</th>\n",
              "      <td>246.949371</td>\n",
              "      <td>236.956833</td>\n",
              "      <td>7506500.0</td>\n",
              "      <td>1</td>\n",
              "    </tr>\n",
              "    <tr>\n",
              "      <th>2008-08-11</th>\n",
              "      <td>253.489853</td>\n",
              "      <td>244.971786</td>\n",
              "      <td>8510300.0</td>\n",
              "      <td>1</td>\n",
              "    </tr>\n",
              "    <tr>\n",
              "      <th>2008-08-12</th>\n",
              "      <td>252.119995</td>\n",
              "      <td>248.070175</td>\n",
              "      <td>5532000.0</td>\n",
              "      <td>0</td>\n",
              "    </tr>\n",
              "    <tr>\n",
              "      <th>2008-08-13</th>\n",
              "      <td>250.829834</td>\n",
              "      <td>246.017868</td>\n",
              "      <td>7278100.0</td>\n",
              "      <td>1</td>\n",
              "    </tr>\n",
              "    <tr>\n",
              "      <th>2008-08-14</th>\n",
              "      <td>252.857224</td>\n",
              "      <td>247.218369</td>\n",
              "      <td>5859000.0</td>\n",
              "      <td>1</td>\n",
              "    </tr>\n",
              "    <tr>\n",
              "      <th>2008-08-15</th>\n",
              "      <td>254.376541</td>\n",
              "      <td>251.806168</td>\n",
              "      <td>7117800.0</td>\n",
              "      <td>2</td>\n",
              "    </tr>\n",
              "    <tr>\n",
              "      <th>2008-08-18</th>\n",
              "      <td>254.047760</td>\n",
              "      <td>246.829819</td>\n",
              "      <td>6692700.0</td>\n",
              "      <td>2</td>\n",
              "    </tr>\n",
              "    <tr>\n",
              "      <th>2008-08-19</th>\n",
              "      <td>248.209656</td>\n",
              "      <td>242.406403</td>\n",
              "      <td>6115700.0</td>\n",
              "      <td>2</td>\n",
              "    </tr>\n",
              "    <tr>\n",
              "      <th>2008-08-20</th>\n",
              "      <td>247.417618</td>\n",
              "      <td>240.383987</td>\n",
              "      <td>7993900.0</td>\n",
              "      <td>2</td>\n",
              "    </tr>\n",
              "    <tr>\n",
              "      <th>2008-08-21</th>\n",
              "      <td>244.035294</td>\n",
              "      <td>238.740143</td>\n",
              "      <td>7054500.0</td>\n",
              "      <td>1</td>\n",
              "    </tr>\n",
              "    <tr>\n",
              "      <th>2008-08-22</th>\n",
              "      <td>246.515991</td>\n",
              "      <td>243.826080</td>\n",
              "      <td>4611500.0</td>\n",
              "      <td>2</td>\n",
              "    </tr>\n",
              "    <tr>\n",
              "      <th>2008-08-25</th>\n",
              "      <td>247.572037</td>\n",
              "      <td>239.850983</td>\n",
              "      <td>4043600.0</td>\n",
              "      <td>2</td>\n",
              "    </tr>\n",
              "    <tr>\n",
              "      <th>2008-08-26</th>\n",
              "      <td>240.827316</td>\n",
              "      <td>234.416351</td>\n",
              "      <td>6641100.0</td>\n",
              "      <td>2</td>\n",
              "    </tr>\n",
              "    <tr>\n",
              "      <th>2008-08-27</th>\n",
              "      <td>236.528427</td>\n",
              "      <td>231.552094</td>\n",
              "      <td>8807000.0</td>\n",
              "      <td>0</td>\n",
              "    </tr>\n",
              "    <tr>\n",
              "      <th>2008-08-28</th>\n",
              "      <td>237.335403</td>\n",
              "      <td>234.286835</td>\n",
              "      <td>6082000.0</td>\n",
              "      <td>2</td>\n",
              "    </tr>\n",
              "    <tr>\n",
              "      <th>2008-08-29</th>\n",
              "      <td>234.625565</td>\n",
              "      <td>230.301773</td>\n",
              "      <td>7725100.0</td>\n",
              "      <td>2</td>\n",
              "    </tr>\n",
              "    <tr>\n",
              "      <th>2008-09-02</th>\n",
              "      <td>240.189713</td>\n",
              "      <td>229.848465</td>\n",
              "      <td>12268700.0</td>\n",
              "      <td>2</td>\n",
              "    </tr>\n",
              "    <tr>\n",
              "      <th>2008-09-03</th>\n",
              "      <td>236.259445</td>\n",
              "      <td>228.931900</td>\n",
              "      <td>8661500.0</td>\n",
              "      <td>2</td>\n",
              "    </tr>\n",
              "    <tr>\n",
              "      <th>2008-09-04</th>\n",
              "      <td>230.755066</td>\n",
              "      <td>223.860916</td>\n",
              "      <td>9733200.0</td>\n",
              "      <td>2</td>\n",
              "    </tr>\n",
              "    <tr>\n",
              "      <th>2008-09-05</th>\n",
              "      <td>225.385208</td>\n",
              "      <td>219.218323</td>\n",
              "      <td>9102500.0</td>\n",
              "      <td>2</td>\n",
              "    </tr>\n",
              "    <tr>\n",
              "      <th>2008-09-08</th>\n",
              "      <td>225.624298</td>\n",
              "      <td>207.995377</td>\n",
              "      <td>18103300.0</td>\n",
              "      <td>2</td>\n",
              "    </tr>\n",
              "    <tr>\n",
              "      <th>2008-09-09</th>\n",
              "      <td>215.382690</td>\n",
              "      <td>206.725143</td>\n",
              "      <td>14513300.0</td>\n",
              "      <td>2</td>\n",
              "    </tr>\n",
              "    <tr>\n",
              "      <th>2008-09-10</th>\n",
              "      <td>211.447449</td>\n",
              "      <td>204.075073</td>\n",
              "      <td>12500200.0</td>\n",
              "      <td>1</td>\n",
              "    </tr>\n",
              "    <tr>\n",
              "      <th>2008-09-11</th>\n",
              "      <td>216.732635</td>\n",
              "      <td>202.431244</td>\n",
              "      <td>12991200.0</td>\n",
              "      <td>1</td>\n",
              "    </tr>\n",
              "    <tr>\n",
              "      <th>2008-09-12</th>\n",
              "      <td>220.169754</td>\n",
              "      <td>213.699005</td>\n",
              "      <td>12101100.0</td>\n",
              "      <td>1</td>\n",
              "    </tr>\n",
              "    <tr>\n",
              "      <th>2008-09-15</th>\n",
              "      <td>220.159790</td>\n",
              "      <td>211.063873</td>\n",
              "      <td>13183900.0</td>\n",
              "      <td>1</td>\n",
              "    </tr>\n",
              "    <tr>\n",
              "      <th>2008-09-16</th>\n",
              "      <td>223.801132</td>\n",
              "      <td>211.950562</td>\n",
              "      <td>14033700.0</td>\n",
              "      <td>2</td>\n",
              "    </tr>\n",
              "    <tr>\n",
              "      <th>2008-09-17</th>\n",
              "      <td>218.750076</td>\n",
              "      <td>205.948059</td>\n",
              "      <td>18322100.0</td>\n",
              "      <td>0</td>\n",
              "    </tr>\n",
              "    <tr>\n",
              "      <th>2008-09-18</th>\n",
              "      <td>218.769989</td>\n",
              "      <td>204.483551</td>\n",
              "      <td>17243100.0</td>\n",
              "      <td>1</td>\n",
              "    </tr>\n",
              "    <tr>\n",
              "      <th>2008-09-19</th>\n",
              "      <td>230.172256</td>\n",
              "      <td>220.812347</td>\n",
              "      <td>20086900.0</td>\n",
              "      <td>2</td>\n",
              "    </tr>\n",
              "  </tbody>\n",
              "</table>\n",
              "</div>"
            ],
            "text/plain": [
              "                  High         Low      Volume  change_1\n",
              "Date                                                    \n",
              "2008-08-08  246.949371  236.956833   7506500.0         1\n",
              "2008-08-11  253.489853  244.971786   8510300.0         1\n",
              "2008-08-12  252.119995  248.070175   5532000.0         0\n",
              "2008-08-13  250.829834  246.017868   7278100.0         1\n",
              "2008-08-14  252.857224  247.218369   5859000.0         1\n",
              "2008-08-15  254.376541  251.806168   7117800.0         2\n",
              "2008-08-18  254.047760  246.829819   6692700.0         2\n",
              "2008-08-19  248.209656  242.406403   6115700.0         2\n",
              "2008-08-20  247.417618  240.383987   7993900.0         2\n",
              "2008-08-21  244.035294  238.740143   7054500.0         1\n",
              "2008-08-22  246.515991  243.826080   4611500.0         2\n",
              "2008-08-25  247.572037  239.850983   4043600.0         2\n",
              "2008-08-26  240.827316  234.416351   6641100.0         2\n",
              "2008-08-27  236.528427  231.552094   8807000.0         0\n",
              "2008-08-28  237.335403  234.286835   6082000.0         2\n",
              "2008-08-29  234.625565  230.301773   7725100.0         2\n",
              "2008-09-02  240.189713  229.848465  12268700.0         2\n",
              "2008-09-03  236.259445  228.931900   8661500.0         2\n",
              "2008-09-04  230.755066  223.860916   9733200.0         2\n",
              "2008-09-05  225.385208  219.218323   9102500.0         2\n",
              "2008-09-08  225.624298  207.995377  18103300.0         2\n",
              "2008-09-09  215.382690  206.725143  14513300.0         2\n",
              "2008-09-10  211.447449  204.075073  12500200.0         1\n",
              "2008-09-11  216.732635  202.431244  12991200.0         1\n",
              "2008-09-12  220.169754  213.699005  12101100.0         1\n",
              "2008-09-15  220.159790  211.063873  13183900.0         1\n",
              "2008-09-16  223.801132  211.950562  14033700.0         2\n",
              "2008-09-17  218.750076  205.948059  18322100.0         0\n",
              "2008-09-18  218.769989  204.483551  17243100.0         1\n",
              "2008-09-19  230.172256  220.812347  20086900.0         2"
            ]
          },
          "metadata": {
            "tags": []
          },
          "execution_count": 89
        }
      ]
    },
    {
      "cell_type": "code",
      "metadata": {
        "colab_type": "code",
        "outputId": "2f7c4c86-6c32-49b9-9baa-e65b0a2bd9c9",
        "id": "9effPlEXnIgG",
        "colab": {
          "base_uri": "https://localhost:8080/",
          "height": 553
        }
      },
      "source": [
        "X[i][:,:3]"
      ],
      "execution_count": 90,
      "outputs": [
        {
          "output_type": "execute_result",
          "data": {
            "text/plain": [
              "array([[0.17198321, 0.17673837, 0.16583725],\n",
              "       [0.1819582 , 0.18918953, 0.17522483],\n",
              "       [0.17986901, 0.19400284, 0.1824865 ],\n",
              "       [0.17790137, 0.1908146 , 0.18218171],\n",
              "       [0.18099337, 0.19267957, 0.17920999],\n",
              "       [0.18331051, 0.19980667, 0.18628878],\n",
              "       [0.18280908, 0.19207596, 0.18846042],\n",
              "       [0.17390529, 0.18520423, 0.17367039],\n",
              "       [0.17269734, 0.18206243, 0.17693929],\n",
              "       [0.16753891, 0.17950873, 0.16794794],\n",
              "       [0.17132226, 0.18740968, 0.17448572],\n",
              "       [0.17293285, 0.18123441, 0.17037865],\n",
              "       [0.16264637, 0.17279176, 0.1683594 ],\n",
              "       [0.15609007, 0.16834216, 0.16094534],\n",
              "       [0.1573208 , 0.17259056, 0.1600005 ],\n",
              "       [0.15318798, 0.1663998 , 0.15791267],\n",
              "       [0.16167395, 0.16569559, 0.16326176],\n",
              "       [0.15567984, 0.16427172, 0.15713544],\n",
              "       [0.14728502, 0.15639399, 0.15048337],\n",
              "       [0.13909537, 0.14918177, 0.13942703],\n",
              "       [0.13946001, 0.13174703, 0.14440275],\n",
              "       [0.12384037, 0.12977374, 0.12241965],\n",
              "       [0.11783867, 0.12565688, 0.12341022],\n",
              "       [0.12589919, 0.12310321, 0.11112712],\n",
              "       [0.1311412 , 0.14060756, 0.12778398],\n",
              "       [0.131126  , 0.13651391, 0.1230521 ],\n",
              "       [0.13667947, 0.13789137, 0.12454557],\n",
              "       [0.12897602, 0.12856654, 0.13408557],\n",
              "       [0.12900639, 0.12629144, 0.12201581],\n",
              "       [0.14639617, 0.15165807, 0.15124533]])"
            ]
          },
          "metadata": {
            "tags": []
          },
          "execution_count": 90
        }
      ]
    },
    {
      "cell_type": "code",
      "metadata": {
        "colab_type": "code",
        "outputId": "5515a861-db77-473c-bd74-ffd9bd185699",
        "id": "-3H6OD7snIJa",
        "colab": {
          "base_uri": "https://localhost:8080/",
          "height": 35
        }
      },
      "source": [
        "y[i]"
      ],
      "execution_count": 91,
      "outputs": [
        {
          "output_type": "execute_result",
          "data": {
            "text/plain": [
              "2"
            ]
          },
          "metadata": {
            "tags": []
          },
          "execution_count": 91
        }
      ]
    },
    {
      "cell_type": "markdown",
      "metadata": {
        "id": "xRQzSpj-mV8p",
        "colab_type": "text"
      },
      "source": [
        "### Saving stock data and stock label sequence"
      ]
    },
    {
      "cell_type": "code",
      "metadata": {
        "id": "2FB7pKxkmV8r",
        "colab_type": "code",
        "colab": {}
      },
      "source": [
        "utils.save_pickle(filename=company +\"_djia_stock_sequences\", variable=X)\n",
        "utils.save_pickle(filename=company +\"_djia_stock_labels\", variable=y)"
      ],
      "execution_count": 0,
      "outputs": []
    },
    {
      "cell_type": "markdown",
      "metadata": {
        "id": "t7nkXKKFmV8v",
        "colab_type": "text"
      },
      "source": [
        "### Dropping out news for days we don't have stock data"
      ]
    },
    {
      "cell_type": "code",
      "metadata": {
        "id": "kZsZmRYdmV8x",
        "colab_type": "code",
        "outputId": "e811887a-d2b4-4099-a521-22eff77d272b",
        "colab": {
          "base_uri": "https://localhost:8080/",
          "height": 35
        }
      },
      "source": [
        "print(\"Number of days we have headlines: %d\" %(len(news_df['Date'].unique())))"
      ],
      "execution_count": 93,
      "outputs": [
        {
          "output_type": "stream",
          "text": [
            "Number of days we have headlines: 1989\n"
          ],
          "name": "stdout"
        }
      ]
    },
    {
      "cell_type": "code",
      "metadata": {
        "id": "gmrbTExSmV83",
        "colab_type": "code",
        "colab": {}
      },
      "source": [
        "date_index_to_keep = stock_data_df.index[prev-1:]\n",
        "news_df = news_df[news_df['Date'].isin(date_index_to_keep)].reset_index(drop=True)\n",
        "news_df = news_df.sort_values('Date').reset_index(drop=True)"
      ],
      "execution_count": 0,
      "outputs": []
    },
    {
      "cell_type": "code",
      "metadata": {
        "id": "in6vGOWfmV86",
        "colab_type": "code",
        "outputId": "26b8d4ba-38a0-4a25-9a9d-2d76573e2690",
        "colab": {
          "base_uri": "https://localhost:8080/",
          "height": 206
        }
      },
      "source": [
        "news_df.head()"
      ],
      "execution_count": 95,
      "outputs": [
        {
          "output_type": "execute_result",
          "data": {
            "text/html": [
              "<div>\n",
              "<style scoped>\n",
              "    .dataframe tbody tr th:only-of-type {\n",
              "        vertical-align: middle;\n",
              "    }\n",
              "\n",
              "    .dataframe tbody tr th {\n",
              "        vertical-align: top;\n",
              "    }\n",
              "\n",
              "    .dataframe thead th {\n",
              "        text-align: right;\n",
              "    }\n",
              "</style>\n",
              "<table border=\"1\" class=\"dataframe\">\n",
              "  <thead>\n",
              "    <tr style=\"text-align: right;\">\n",
              "      <th></th>\n",
              "      <th>Date</th>\n",
              "      <th>news</th>\n",
              "    </tr>\n",
              "  </thead>\n",
              "  <tbody>\n",
              "    <tr>\n",
              "      <th>0</th>\n",
              "      <td>2008-09-19</td>\n",
              "      <td>people worried short selling alex financial ca...</td>\n",
              "    </tr>\n",
              "    <tr>\n",
              "      <th>1</th>\n",
              "      <td>2008-09-19</td>\n",
              "      <td>spain media uproar mccain comments regarding p...</td>\n",
              "    </tr>\n",
              "    <tr>\n",
              "      <th>2</th>\n",
              "      <td>2008-09-19</td>\n",
              "      <td>complete list world billionaires</td>\n",
              "    </tr>\n",
              "    <tr>\n",
              "      <th>3</th>\n",
              "      <td>2008-09-19</td>\n",
              "      <td>venezuela expels united states rights group cr...</td>\n",
              "    </tr>\n",
              "    <tr>\n",
              "      <th>4</th>\n",
              "      <td>2008-09-19</td>\n",
              "      <td>chavez expells human rights watch venezuela cr...</td>\n",
              "    </tr>\n",
              "  </tbody>\n",
              "</table>\n",
              "</div>"
            ],
            "text/plain": [
              "        Date                                               news\n",
              "0 2008-09-19  people worried short selling alex financial ca...\n",
              "1 2008-09-19  spain media uproar mccain comments regarding p...\n",
              "2 2008-09-19                   complete list world billionaires\n",
              "3 2008-09-19  venezuela expels united states rights group cr...\n",
              "4 2008-09-19  chavez expells human rights watch venezuela cr..."
            ]
          },
          "metadata": {
            "tags": []
          },
          "execution_count": 95
        }
      ]
    },
    {
      "cell_type": "code",
      "metadata": {
        "id": "Bii9zr61mV8_",
        "colab_type": "code",
        "outputId": "6a60f453-ef2e-4556-bca2-1f9d2c93a6d3",
        "colab": {
          "base_uri": "https://localhost:8080/",
          "height": 35
        }
      },
      "source": [
        "print(\"Number of same days we have headlines and stock : %d\" %(len(news_df['Date'].unique())))"
      ],
      "execution_count": 96,
      "outputs": [
        {
          "output_type": "stream",
          "text": [
            "Number of same days we have headlines and stock : 1959\n"
          ],
          "name": "stdout"
        }
      ]
    },
    {
      "cell_type": "code",
      "metadata": {
        "id": "2KFh4SEQmV9F",
        "colab_type": "code",
        "outputId": "b08270c3-aa3b-4b48-c05d-06c92d0ffd62",
        "colab": {
          "base_uri": "https://localhost:8080/",
          "height": 55
        }
      },
      "source": [
        "news_summary = news_df.groupby('Date').agg({'news':'count'}).reset_index()\n",
        "print(\"Max number of headlines for a day: %d, Min number of headlines for a day: %d, \\\n",
        "Mean number of headlines for a day: %d\" %(max(news_summary['news']),\n",
        "                                                min(news_summary['news']), \n",
        "                                                np.mean(news_summary['news'])))"
      ],
      "execution_count": 97,
      "outputs": [
        {
          "output_type": "stream",
          "text": [
            "Max number of headlines for a day: 25, Min number of headlines for a day: 25, Mean number of headlines for a day: 25\n"
          ],
          "name": "stdout"
        }
      ]
    },
    {
      "cell_type": "markdown",
      "metadata": {
        "id": "TbVDXIx_mV9I",
        "colab_type": "text"
      },
      "source": [
        "### Getting vocabulary from news corpus"
      ]
    },
    {
      "cell_type": "code",
      "metadata": {
        "id": "I9UYzyoEmV9I",
        "colab_type": "code",
        "colab": {}
      },
      "source": [
        "vocab = utils.get_corpus_vocab(df=news_df, text_col='news')"
      ],
      "execution_count": 0,
      "outputs": []
    },
    {
      "cell_type": "code",
      "metadata": {
        "id": "PbWb2-XcmV9N",
        "colab_type": "code",
        "outputId": "03963696-2901-459c-8e65-4351ecaa24a9",
        "colab": {
          "base_uri": "https://localhost:8080/",
          "height": 35
        }
      },
      "source": [
        "print(\"Size of Vocabulary: %s\"%len(vocab))"
      ],
      "execution_count": 99,
      "outputs": [
        {
          "output_type": "stream",
          "text": [
            "Size of Vocabulary: 35184\n"
          ],
          "name": "stdout"
        }
      ]
    },
    {
      "cell_type": "code",
      "metadata": {
        "id": "4l9_t0aJmV9S",
        "colab_type": "code",
        "outputId": "b8954d8e-02d7-4531-861e-b467ec32aaa5",
        "colab": {
          "base_uri": "https://localhost:8080/",
          "height": 106
        }
      },
      "source": [
        "utils.print_n_dict_items(dict_=vocab, n=5)"
      ],
      "execution_count": 100,
      "outputs": [
        {
          "output_type": "stream",
          "text": [
            "key: people, key count: 1864 \n",
            "key: worried, key count: 33 \n",
            "key: short, key count: 63 \n",
            "key: selling, key count: 113 \n",
            "key: alex, key count: 8 \n"
          ],
          "name": "stdout"
        }
      ]
    },
    {
      "cell_type": "markdown",
      "metadata": {
        "id": "InPH0SncmV9W",
        "colab_type": "text"
      },
      "source": [
        "## Getting Glove Vector Enconding"
      ]
    },
    {
      "cell_type": "code",
      "metadata": {
        "id": "Kp2kKi1MoLbC",
        "colab_type": "code",
        "colab": {}
      },
      "source": [
        "## downloading glove word embeddings\n",
        "from urllib.request import urlretrieve\n",
        "urlretrieve('http://nlp.stanford.edu/data/glove.6B.zip', 'glove.6B.zip')\n",
        "\n",
        "from zipfile import ZipFile\n",
        "with ZipFile('glove.6B.zip', 'r') as zf:\n",
        "    zf.extractall('')"
      ],
      "execution_count": 0,
      "outputs": []
    },
    {
      "cell_type": "code",
      "metadata": {
        "id": "5EcpcAEXmV9Y",
        "colab_type": "code",
        "colab": {}
      },
      "source": [
        "## getting glove word embeddings\n",
        "word_embeddings = utils.get_word_embeddings(file='glove.6B.300d.txt')"
      ],
      "execution_count": 0,
      "outputs": []
    },
    {
      "cell_type": "code",
      "metadata": {
        "id": "NgoISd5xmV9c",
        "colab_type": "code",
        "outputId": "cfd8a67d-6613-43b3-e342-930f2ce91f34",
        "colab": {
          "base_uri": "https://localhost:8080/",
          "height": 53
        }
      },
      "source": [
        "print('No of word embeddings: %d' %len(word_embeddings))\n",
        "print('No of categories against which words are classified: %d' %len(word_embeddings['man']))"
      ],
      "execution_count": 103,
      "outputs": [
        {
          "output_type": "stream",
          "text": [
            "No of word embeddings: 400000\n",
            "No of categories against which words are classified: 300\n"
          ],
          "name": "stdout"
        }
      ]
    },
    {
      "cell_type": "code",
      "metadata": {
        "id": "xsYG0dvZmV9f",
        "colab_type": "code",
        "outputId": "ae0401a4-c99d-40e1-e5fb-e8a7a7761870",
        "colab": {
          "base_uri": "https://localhost:8080/",
          "height": 53
        }
      },
      "source": [
        "# Find the number of words that are missing from GloVe, and are used more than our threshold.\n",
        "cnt_missing_words = 0\n",
        "threshold = 10\n",
        "\"\"\"\n",
        "checking if news word count is greater than threshold, \n",
        "if greater than threshold and not present in word embeddings \n",
        "then word will be considered as missing\n",
        "\"\"\"\n",
        "for word, word_cnt in vocab.items():\n",
        "    if word_cnt > threshold: \n",
        "        if word not in word_embeddings:\n",
        "            cnt_missing_words += 1\n",
        "            \n",
        "ratio_missing_words = round(cnt_missing_words/len(vocab),4)*100\n",
        "            \n",
        "print(\"Number of words missing from GloVe: %d\"%cnt_missing_words)\n",
        "print(\"Percent of words that are missing from vocabulary: {}%\".format(ratio_missing_words))"
      ],
      "execution_count": 104,
      "outputs": [
        {
          "output_type": "stream",
          "text": [
            "Number of words missing from GloVe: 41\n",
            "Percent of words that are missing from vocabulary: 0.12%\n"
          ],
          "name": "stdout"
        }
      ]
    },
    {
      "cell_type": "markdown",
      "metadata": {
        "id": "AS57Jc-7mV9k",
        "colab_type": "text"
      },
      "source": [
        "### Getting words from news with frequency greater than threshold or present in Glove embeddings"
      ]
    },
    {
      "cell_type": "code",
      "metadata": {
        "id": "TLG33rWCmV9l",
        "colab_type": "code",
        "colab": {}
      },
      "source": [
        "\"\"\"\n",
        "creating news word list with word index with conditions\n",
        "if either word frequency in corpus greater \n",
        "than threshold or present in Glove embeddings\n",
        "\"\"\"\n",
        "# dictionary to convert words to integers\n",
        "vocab_to_index = {}\n",
        "index = 0\n",
        "for word, word_cnt in vocab.items():\n",
        "    if word_cnt >= threshold or word in word_embeddings: \n",
        "        vocab_to_index[word] = index\n",
        "        index += 1 # giving index"
      ],
      "execution_count": 0,
      "outputs": []
    },
    {
      "cell_type": "code",
      "metadata": {
        "id": "SdHANW_imV9o",
        "colab_type": "code",
        "outputId": "806d9389-5cb3-4cf3-d471-8e3ee6ad8b5d",
        "colab": {
          "base_uri": "https://localhost:8080/",
          "height": 196
        }
      },
      "source": [
        "utils.print_n_dict_items(dict_=vocab_to_index, n=10)"
      ],
      "execution_count": 106,
      "outputs": [
        {
          "output_type": "stream",
          "text": [
            "key: people, key count: 0 \n",
            "key: worried, key count: 1 \n",
            "key: short, key count: 2 \n",
            "key: selling, key count: 3 \n",
            "key: alex, key count: 4 \n",
            "key: financial, key count: 5 \n",
            "key: cartoon, key count: 6 \n",
            "key: spain, key count: 7 \n",
            "key: media, key count: 8 \n",
            "key: uproar, key count: 9 \n"
          ],
          "name": "stdout"
        }
      ]
    },
    {
      "cell_type": "code",
      "metadata": {
        "id": "V1DG-B_RmV9r",
        "colab_type": "code",
        "colab": {}
      },
      "source": [
        "#Getting frequency of words thst are missing in word embeddings and frequency greater than threashold\n",
        "missing_words_in_embeddings = {}\n",
        "for word in vocab_to_index.keys():\n",
        "    if word not in word_embeddings:\n",
        "        missing_words_in_embeddings[word] = vocab_to_index[word]"
      ],
      "execution_count": 0,
      "outputs": []
    },
    {
      "cell_type": "code",
      "metadata": {
        "id": "YKm1wsfemV9v",
        "colab_type": "code",
        "outputId": "3f65984b-859c-4846-bb73-6fbd08b9fac2",
        "colab": {
          "base_uri": "https://localhost:8080/",
          "height": 857
        }
      },
      "source": [
        "missing_words_in_embeddings"
      ],
      "execution_count": 108,
      "outputs": [
        {
          "output_type": "execute_result",
          "data": {
            "text/plain": [
              "{'/r/worldnews': 7292,\n",
              " '150000': 3760,\n",
              " '200000': 12443,\n",
              " '250000': 3865,\n",
              " '300000': 4389,\n",
              " '400000': 7679,\n",
              " '500000': 4764,\n",
              " '5bn': 2776,\n",
              " '600000': 5570,\n",
              " '700000': 5571,\n",
              " '7bn': 1815,\n",
              " '90000': 1707,\n",
              " '\\\\n': 10360,\n",
              " '\\\\r\\\\n': 10422,\n",
              " 'brexit': 29998,\n",
              " 'can\\\\': 3408,\n",
              " 'china\\\\': 2344,\n",
              " 'daesh': 28576,\n",
              " 'didn\\\\': 6076,\n",
              " 'doesn\\\\': 7203,\n",
              " 'don\\\\': 4491,\n",
              " 'egypts': 19222,\n",
              " 'erdoan': 26013,\n",
              " 'greeces': 14066,\n",
              " 'guantnamo': 6242,\n",
              " 'i\\\\': 1168,\n",
              " 'iran\\\\': 6324,\n",
              " 'isil': 27539,\n",
              " 'israel\\\\': 5656,\n",
              " 'it\\\\': 1165,\n",
              " 'jurez': 7557,\n",
              " 'mh17': 28296,\n",
              " 'mh370': 27644,\n",
              " 'netanyah': 8075,\n",
              " 'nsfw': 10705,\n",
              " 'nusra': 26484,\n",
              " 'redditors': 2008,\n",
              " 'snowdens': 25984,\n",
              " 'syrias': 14871,\n",
              " 'there\\\\': 8786,\n",
              " 'they\\\\': 5046,\n",
              " 'ttip': 27790,\n",
              " 'ukraines': 13820,\n",
              " 'we\\\\': 2964,\n",
              " 'won\\\\': 1497,\n",
              " 'world\\\\': 2659,\n",
              " 'xpost': 19369}"
            ]
          },
          "metadata": {
            "tags": []
          },
          "execution_count": 108
        }
      ]
    },
    {
      "cell_type": "markdown",
      "metadata": {
        "id": "e4WqumA4mV91",
        "colab_type": "text"
      },
      "source": [
        "### Special tokens that will be added to our vocab"
      ]
    },
    {
      "cell_type": "code",
      "metadata": {
        "id": "uF8QaMy1mV92",
        "colab_type": "code",
        "colab": {}
      },
      "source": [
        "codes = [\"<UNK>\",\"<PAD>\"]   \n",
        "# Add codes to vocab\n",
        "for code in codes:\n",
        "    vocab_to_index[code] = len(vocab_to_index)"
      ],
      "execution_count": 0,
      "outputs": []
    },
    {
      "cell_type": "code",
      "metadata": {
        "id": "kp8gfX_3mV97",
        "colab_type": "code",
        "outputId": "c64b024b-7d0e-4d10-fd75-599149ec379d",
        "colab": {
          "base_uri": "https://localhost:8080/",
          "height": 35
        }
      },
      "source": [
        "print(vocab_to_index[\"<UNK>\"], vocab_to_index[\"<PAD>\"])"
      ],
      "execution_count": 110,
      "outputs": [
        {
          "output_type": "stream",
          "text": [
            "31672 31673\n"
          ],
          "name": "stdout"
        }
      ]
    },
    {
      "cell_type": "markdown",
      "metadata": {
        "id": "SZstaDTkmV-A",
        "colab_type": "text"
      },
      "source": [
        "### Dictionary to convert index to words"
      ]
    },
    {
      "cell_type": "code",
      "metadata": {
        "colab_type": "code",
        "id": "jImn2oyj7jSA",
        "colab": {}
      },
      "source": [
        "index_to_vocab = {}\n",
        "for word, index in vocab_to_index.items():\n",
        "    index_to_vocab[index] = word"
      ],
      "execution_count": 0,
      "outputs": []
    },
    {
      "cell_type": "code",
      "metadata": {
        "id": "ak1p6WGomV-G",
        "colab_type": "code",
        "outputId": "34931e17-6581-4c03-8668-91283165d22e",
        "colab": {
          "base_uri": "https://localhost:8080/",
          "height": 196
        }
      },
      "source": [
        "utils.print_n_dict_items(dict_=index_to_vocab, n=10)"
      ],
      "execution_count": 112,
      "outputs": [
        {
          "output_type": "stream",
          "text": [
            "key: 0, key count: people \n",
            "key: 1, key count: worried \n",
            "key: 2, key count: short \n",
            "key: 3, key count: selling \n",
            "key: 4, key count: alex \n",
            "key: 5, key count: financial \n",
            "key: 6, key count: cartoon \n",
            "key: 7, key count: spain \n",
            "key: 8, key count: media \n",
            "key: 9, key count: uproar \n"
          ],
          "name": "stdout"
        }
      ]
    },
    {
      "cell_type": "markdown",
      "metadata": {
        "id": "vLqHfKjVmV-J",
        "colab_type": "text"
      },
      "source": [
        "### Percentage of words used for word embeddings"
      ]
    },
    {
      "cell_type": "code",
      "metadata": {
        "id": "JnSCsLrUmV-K",
        "colab_type": "code",
        "outputId": "a5d7985b-a82c-43b3-97c3-a9f6dec8d2fd",
        "colab": {
          "base_uri": "https://localhost:8080/",
          "height": 71
        }
      },
      "source": [
        "usage_ratio = round((len(vocab_to_index)-2)/ len(vocab),4)*100 # getting how many words we are using\n",
        "\n",
        "print(\"Total number of unique words in news corpus: %d\" %len(vocab))\n",
        "print(\"Number of words we will use: %d\" %len(vocab_to_index))\n",
        "print(\"Percent of words we will use: {}%\".format(usage_ratio))"
      ],
      "execution_count": 113,
      "outputs": [
        {
          "output_type": "stream",
          "text": [
            "Total number of unique words in news corpus: 35184\n",
            "Number of words we will use: 31674\n",
            "Percent of words we will use: 90.02%\n"
          ],
          "name": "stdout"
        }
      ]
    },
    {
      "cell_type": "markdown",
      "metadata": {
        "id": "o9tJb90GmV-M",
        "colab_type": "text"
      },
      "source": [
        "### Creating embedding matrix for selected words(selected words are one's with frequency greater than threshold or present in Glove's embeddings)"
      ]
    },
    {
      "cell_type": "code",
      "metadata": {
        "id": "BLEpqCTOmV-O",
        "colab_type": "code",
        "colab": {}
      },
      "source": [
        "embedding_dimension = len(word_embeddings['the']) # getting embedding dimension\n",
        "n_words_to_use = len(vocab_to_index) # number of words we will use including padding and unknown\n",
        "word_embeddings_matrix = np.zeros((n_words_to_use, embedding_dimension)) # create matrix with default values of zero\n",
        "\n",
        "for word, index in vocab_to_index.items():\n",
        "    if word in word_embeddings: # if word is present in word embeddings \n",
        "        word_embeddings_matrix[index] = word_embeddings[word] # getting embedding from the word embeddings\n",
        "    else: # if news word not in word embeddings, creating random embedding for it\n",
        "        new_word_embeddings = np.array(np.random.uniform(-1.0, 1.0, embedding_dimension))\n",
        "        word_embeddings_matrix[index] = new_word_embeddings # adding random word embeddings for new word \n",
        "        word_embeddings[word] = new_word_embeddings # updating word embeddings with new word"
      ],
      "execution_count": 0,
      "outputs": []
    },
    {
      "cell_type": "code",
      "metadata": {
        "id": "XVAAUsWzmV-R",
        "colab_type": "code",
        "colab": {}
      },
      "source": [
        "del word_embeddings"
      ],
      "execution_count": 0,
      "outputs": []
    },
    {
      "cell_type": "code",
      "metadata": {
        "id": "zTR1mqowmV-V",
        "colab_type": "code",
        "outputId": "fa451acb-6f8e-4579-dac8-426047a917e3",
        "colab": {
          "base_uri": "https://localhost:8080/",
          "height": 35
        }
      },
      "source": [
        "# Check if value matches len(vocab_to_index)\n",
        "print(\"Number of words we are going to use: %d, Number of embeddings for words to be used: %d\"%(len(vocab_to_index),\n",
        "                                                                                               len(word_embeddings_matrix)))"
      ],
      "execution_count": 116,
      "outputs": [
        {
          "output_type": "stream",
          "text": [
            "Number of words we are going to use: 31674, Number of embeddings for words to be used: 31674\n"
          ],
          "name": "stdout"
        }
      ]
    },
    {
      "cell_type": "markdown",
      "metadata": {
        "id": "XYU0wZwimV-Y",
        "colab_type": "text"
      },
      "source": [
        "Note: The embeddings will be updated as the model trains, so our new 'random' embeddings will be more accurate by the end of training. This is also why we want to only use words that appear at least 10 times. By having the model see the word numerous times it will be better able to understand what it means."
      ]
    },
    {
      "cell_type": "markdown",
      "metadata": {
        "id": "RS-DyL4AmV-Y",
        "colab_type": "text"
      },
      "source": [
        "### Saving word embeddings "
      ]
    },
    {
      "cell_type": "code",
      "metadata": {
        "id": "APaSdGlQmV-a",
        "colab_type": "code",
        "colab": {}
      },
      "source": [
        "utils.save_pickle(filename='djia_words_embeddings', variable=word_embeddings_matrix)"
      ],
      "execution_count": 0,
      "outputs": []
    },
    {
      "cell_type": "markdown",
      "metadata": {
        "id": "-PURBleXmV-d",
        "colab_type": "text"
      },
      "source": [
        "### Converting words in text to word indexes"
      ]
    },
    {
      "cell_type": "code",
      "metadata": {
        "id": "BBRMddl2mV-d",
        "colab_type": "code",
        "colab": {}
      },
      "source": [
        "text_indexes_df = pd.DataFrame()\n",
        "text_indexes_df['Date'] = news_df['Date']\n",
        "text_indexes_df['news_words_indexes'] = news_df['news'].apply(utils.convert_text_to_indexes, \n",
        "                                                                               word_indexes=vocab_to_index)"
      ],
      "execution_count": 0,
      "outputs": []
    },
    {
      "cell_type": "code",
      "metadata": {
        "id": "nsqKInnYmV-f",
        "colab_type": "code",
        "outputId": "30b82c25-2923-40f0-db84-95b791dba091",
        "colab": {
          "base_uri": "https://localhost:8080/",
          "height": 206
        }
      },
      "source": [
        "text_indexes_df.head()"
      ],
      "execution_count": 119,
      "outputs": [
        {
          "output_type": "execute_result",
          "data": {
            "text/html": [
              "<div>\n",
              "<style scoped>\n",
              "    .dataframe tbody tr th:only-of-type {\n",
              "        vertical-align: middle;\n",
              "    }\n",
              "\n",
              "    .dataframe tbody tr th {\n",
              "        vertical-align: top;\n",
              "    }\n",
              "\n",
              "    .dataframe thead th {\n",
              "        text-align: right;\n",
              "    }\n",
              "</style>\n",
              "<table border=\"1\" class=\"dataframe\">\n",
              "  <thead>\n",
              "    <tr style=\"text-align: right;\">\n",
              "      <th></th>\n",
              "      <th>Date</th>\n",
              "      <th>news_words_indexes</th>\n",
              "    </tr>\n",
              "  </thead>\n",
              "  <tbody>\n",
              "    <tr>\n",
              "      <th>0</th>\n",
              "      <td>2008-09-19</td>\n",
              "      <td>[0, 1, 2, 3, 4, 5, 6]</td>\n",
              "    </tr>\n",
              "    <tr>\n",
              "      <th>1</th>\n",
              "      <td>2008-09-19</td>\n",
              "      <td>[7, 8, 9, 10, 11, 12, 13, 14, 15]</td>\n",
              "    </tr>\n",
              "    <tr>\n",
              "      <th>2</th>\n",
              "      <td>2008-09-19</td>\n",
              "      <td>[16, 17, 18, 19]</td>\n",
              "    </tr>\n",
              "    <tr>\n",
              "      <th>3</th>\n",
              "      <td>2008-09-19</td>\n",
              "      <td>[20, 21, 22, 23, 24, 25, 26]</td>\n",
              "    </tr>\n",
              "    <tr>\n",
              "      <th>4</th>\n",
              "      <td>2008-09-19</td>\n",
              "      <td>[27, 31672, 28, 24, 29, 20, 30, 31]</td>\n",
              "    </tr>\n",
              "  </tbody>\n",
              "</table>\n",
              "</div>"
            ],
            "text/plain": [
              "        Date                   news_words_indexes\n",
              "0 2008-09-19                [0, 1, 2, 3, 4, 5, 6]\n",
              "1 2008-09-19    [7, 8, 9, 10, 11, 12, 13, 14, 15]\n",
              "2 2008-09-19                     [16, 17, 18, 19]\n",
              "3 2008-09-19         [20, 21, 22, 23, 24, 25, 26]\n",
              "4 2008-09-19  [27, 31672, 28, 24, 29, 20, 30, 31]"
            ]
          },
          "metadata": {
            "tags": []
          },
          "execution_count": 119
        }
      ]
    },
    {
      "cell_type": "markdown",
      "metadata": {
        "id": "H9rRabbLmV-h",
        "colab_type": "text"
      },
      "source": [
        "### Total words and total unknown words in news "
      ]
    },
    {
      "cell_type": "code",
      "metadata": {
        "id": "oBaZI0xTmV-i",
        "colab_type": "code",
        "outputId": "312a275a-3cae-474e-96ff-d1505e858069",
        "colab": {
          "base_uri": "https://localhost:8080/",
          "height": 71
        }
      },
      "source": [
        "word_cnt_tuple = news_df['news'].apply(utils.get_word_unk_cnt, \n",
        "                                                  word_indexes=vocab_to_index)\n",
        "word_cnt = [word_cnt_tuple[i][0] for i in range(len(word_cnt_tuple))]\n",
        "word_cnt = np.sum(word_cnt)\n",
        "\n",
        "unk_cnt = [word_cnt_tuple[i][1] for i in range(len(word_cnt_tuple))]\n",
        "unk_cnt = np.sum(unk_cnt)\n",
        "\n",
        "unk_percent = round(unk_cnt/word_cnt,4)*100\n",
        "\n",
        "print(\"Total number of words in headlines:\", word_cnt)\n",
        "print(\"Total number of UNKs in headlines:\", unk_cnt)\n",
        "print(\"Percent of words that are UNK: {}%\".format(unk_percent))\n"
      ],
      "execution_count": 120,
      "outputs": [
        {
          "output_type": "stream",
          "text": [
            "Total number of words in headlines: 597901\n",
            "Total number of UNKs in headlines: 4415\n",
            "Percent of words that are UNK: 0.74%\n"
          ],
          "name": "stdout"
        }
      ]
    },
    {
      "cell_type": "markdown",
      "metadata": {
        "id": "2XAJYVxgmV-1",
        "colab_type": "text"
      },
      "source": [
        "### Description about no. of words in news"
      ]
    },
    {
      "cell_type": "code",
      "metadata": {
        "id": "-5aROTzomV-5",
        "colab_type": "code",
        "colab": {}
      },
      "source": [
        "# Find the length of headlines\n",
        "lengths = [len(text_indexes_df.iloc[i]['news_words_indexes']) for i in range(len(text_indexes_df))]\n",
        "\n",
        "# Create a dataframe so that the values can be inspected\n",
        "lengths = pd.DataFrame(lengths, columns=['counts'])"
      ],
      "execution_count": 0,
      "outputs": []
    },
    {
      "cell_type": "code",
      "metadata": {
        "id": "Xov2VKAImV-_",
        "colab_type": "code",
        "outputId": "2627378d-0f9b-4ccf-e0ca-2f6a8e0c86f1",
        "colab": {
          "base_uri": "https://localhost:8080/",
          "height": 300
        }
      },
      "source": [
        "lengths.describe()"
      ],
      "execution_count": 122,
      "outputs": [
        {
          "output_type": "execute_result",
          "data": {
            "text/html": [
              "<div>\n",
              "<style scoped>\n",
              "    .dataframe tbody tr th:only-of-type {\n",
              "        vertical-align: middle;\n",
              "    }\n",
              "\n",
              "    .dataframe tbody tr th {\n",
              "        vertical-align: top;\n",
              "    }\n",
              "\n",
              "    .dataframe thead th {\n",
              "        text-align: right;\n",
              "    }\n",
              "</style>\n",
              "<table border=\"1\" class=\"dataframe\">\n",
              "  <thead>\n",
              "    <tr style=\"text-align: right;\">\n",
              "      <th></th>\n",
              "      <th>counts</th>\n",
              "    </tr>\n",
              "  </thead>\n",
              "  <tbody>\n",
              "    <tr>\n",
              "      <th>count</th>\n",
              "      <td>48975.000000</td>\n",
              "    </tr>\n",
              "    <tr>\n",
              "      <th>mean</th>\n",
              "      <td>12.208290</td>\n",
              "    </tr>\n",
              "    <tr>\n",
              "      <th>std</th>\n",
              "      <td>6.843015</td>\n",
              "    </tr>\n",
              "    <tr>\n",
              "      <th>min</th>\n",
              "      <td>1.000000</td>\n",
              "    </tr>\n",
              "    <tr>\n",
              "      <th>25%</th>\n",
              "      <td>7.000000</td>\n",
              "    </tr>\n",
              "    <tr>\n",
              "      <th>50%</th>\n",
              "      <td>10.000000</td>\n",
              "    </tr>\n",
              "    <tr>\n",
              "      <th>75%</th>\n",
              "      <td>16.000000</td>\n",
              "    </tr>\n",
              "    <tr>\n",
              "      <th>max</th>\n",
              "      <td>41.000000</td>\n",
              "    </tr>\n",
              "  </tbody>\n",
              "</table>\n",
              "</div>"
            ],
            "text/plain": [
              "             counts\n",
              "count  48975.000000\n",
              "mean      12.208290\n",
              "std        6.843015\n",
              "min        1.000000\n",
              "25%        7.000000\n",
              "50%       10.000000\n",
              "75%       16.000000\n",
              "max       41.000000"
            ]
          },
          "metadata": {
            "tags": []
          },
          "execution_count": 122
        }
      ]
    },
    {
      "cell_type": "markdown",
      "metadata": {
        "id": "B2U29ZTvmV_E",
        "colab_type": "text"
      },
      "source": [
        "### Generating sequence of word indexes on daily basis \n",
        "Limiting no. of words in a single headline to 16(can be modified) and combining single day headlines and limiting words to 200(can be modified). Padding combined with pad if less than 200. Note- Maintainig most of the sequence of words in news for better prediction"
      ]
    },
    {
      "cell_type": "code",
      "metadata": {
        "id": "oE_jtwlQmV_H",
        "colab_type": "code",
        "colab": {}
      },
      "source": [
        "text_indexes_df['news_words_indexes_fix'] = text_indexes_df['news_words_indexes'].apply(utils.add_pad, \n",
        "                                                                                        max_length = 16,\n",
        "                                                                                        pad_index = vocab_to_index[\"<UNK>\"])"
      ],
      "execution_count": 0,
      "outputs": []
    },
    {
      "cell_type": "code",
      "metadata": {
        "id": "dqkvecU6mV_K",
        "colab_type": "code",
        "outputId": "1eb9cd6e-6f04-496f-96ca-5aedf1b99754",
        "colab": {
          "base_uri": "https://localhost:8080/",
          "height": 206
        }
      },
      "source": [
        "text_indexes_df.head()"
      ],
      "execution_count": 124,
      "outputs": [
        {
          "output_type": "execute_result",
          "data": {
            "text/html": [
              "<div>\n",
              "<style scoped>\n",
              "    .dataframe tbody tr th:only-of-type {\n",
              "        vertical-align: middle;\n",
              "    }\n",
              "\n",
              "    .dataframe tbody tr th {\n",
              "        vertical-align: top;\n",
              "    }\n",
              "\n",
              "    .dataframe thead th {\n",
              "        text-align: right;\n",
              "    }\n",
              "</style>\n",
              "<table border=\"1\" class=\"dataframe\">\n",
              "  <thead>\n",
              "    <tr style=\"text-align: right;\">\n",
              "      <th></th>\n",
              "      <th>Date</th>\n",
              "      <th>news_words_indexes</th>\n",
              "      <th>news_words_indexes_fix</th>\n",
              "    </tr>\n",
              "  </thead>\n",
              "  <tbody>\n",
              "    <tr>\n",
              "      <th>0</th>\n",
              "      <td>2008-09-19</td>\n",
              "      <td>[0, 1, 2, 3, 4, 5, 6]</td>\n",
              "      <td>[0, 1, 2, 3, 4, 5, 6, 31672]</td>\n",
              "    </tr>\n",
              "    <tr>\n",
              "      <th>1</th>\n",
              "      <td>2008-09-19</td>\n",
              "      <td>[7, 8, 9, 10, 11, 12, 13, 14, 15]</td>\n",
              "      <td>[7, 8, 9, 10, 11, 12, 13, 14, 15, 31672]</td>\n",
              "    </tr>\n",
              "    <tr>\n",
              "      <th>2</th>\n",
              "      <td>2008-09-19</td>\n",
              "      <td>[16, 17, 18, 19]</td>\n",
              "      <td>[16, 17, 18, 19, 31672]</td>\n",
              "    </tr>\n",
              "    <tr>\n",
              "      <th>3</th>\n",
              "      <td>2008-09-19</td>\n",
              "      <td>[20, 21, 22, 23, 24, 25, 26]</td>\n",
              "      <td>[20, 21, 22, 23, 24, 25, 26, 31672]</td>\n",
              "    </tr>\n",
              "    <tr>\n",
              "      <th>4</th>\n",
              "      <td>2008-09-19</td>\n",
              "      <td>[27, 31672, 28, 24, 29, 20, 30, 31]</td>\n",
              "      <td>[27, 31672, 28, 24, 29, 20, 30, 31, 31672]</td>\n",
              "    </tr>\n",
              "  </tbody>\n",
              "</table>\n",
              "</div>"
            ],
            "text/plain": [
              "        Date                   news_words_indexes  \\\n",
              "0 2008-09-19                [0, 1, 2, 3, 4, 5, 6]   \n",
              "1 2008-09-19    [7, 8, 9, 10, 11, 12, 13, 14, 15]   \n",
              "2 2008-09-19                     [16, 17, 18, 19]   \n",
              "3 2008-09-19         [20, 21, 22, 23, 24, 25, 26]   \n",
              "4 2008-09-19  [27, 31672, 28, 24, 29, 20, 30, 31]   \n",
              "\n",
              "                       news_words_indexes_fix  \n",
              "0                [0, 1, 2, 3, 4, 5, 6, 31672]  \n",
              "1    [7, 8, 9, 10, 11, 12, 13, 14, 15, 31672]  \n",
              "2                     [16, 17, 18, 19, 31672]  \n",
              "3         [20, 21, 22, 23, 24, 25, 26, 31672]  \n",
              "4  [27, 31672, 28, 24, 29, 20, 30, 31, 31672]  "
            ]
          },
          "metadata": {
            "tags": []
          },
          "execution_count": 124
        }
      ]
    },
    {
      "cell_type": "code",
      "metadata": {
        "id": "K8Bv0a71mV_O",
        "colab_type": "code",
        "outputId": "09d4e5cf-e494-4b51-c7b6-32d5036a9b52",
        "colab": {
          "base_uri": "https://localhost:8080/",
          "height": 300
        }
      },
      "source": [
        "# Find the length of headlines\n",
        "lengths = [len(text_indexes_df.iloc[i]['news_words_indexes_fix']) for i in range(len(text_indexes_df))]\n",
        "\n",
        "# Create a dataframe so that the values can be inspected\n",
        "lengths = pd.DataFrame(lengths, columns=['counts'])\n",
        "lengths.describe()"
      ],
      "execution_count": 125,
      "outputs": [
        {
          "output_type": "execute_result",
          "data": {
            "text/html": [
              "<div>\n",
              "<style scoped>\n",
              "    .dataframe tbody tr th:only-of-type {\n",
              "        vertical-align: middle;\n",
              "    }\n",
              "\n",
              "    .dataframe tbody tr th {\n",
              "        vertical-align: top;\n",
              "    }\n",
              "\n",
              "    .dataframe thead th {\n",
              "        text-align: right;\n",
              "    }\n",
              "</style>\n",
              "<table border=\"1\" class=\"dataframe\">\n",
              "  <thead>\n",
              "    <tr style=\"text-align: right;\">\n",
              "      <th></th>\n",
              "      <th>counts</th>\n",
              "    </tr>\n",
              "  </thead>\n",
              "  <tbody>\n",
              "    <tr>\n",
              "      <th>count</th>\n",
              "      <td>48975.000000</td>\n",
              "    </tr>\n",
              "    <tr>\n",
              "      <th>mean</th>\n",
              "      <td>11.615824</td>\n",
              "    </tr>\n",
              "    <tr>\n",
              "      <th>std</th>\n",
              "      <td>4.091085</td>\n",
              "    </tr>\n",
              "    <tr>\n",
              "      <th>min</th>\n",
              "      <td>2.000000</td>\n",
              "    </tr>\n",
              "    <tr>\n",
              "      <th>25%</th>\n",
              "      <td>8.000000</td>\n",
              "    </tr>\n",
              "    <tr>\n",
              "      <th>50%</th>\n",
              "      <td>11.000000</td>\n",
              "    </tr>\n",
              "    <tr>\n",
              "      <th>75%</th>\n",
              "      <td>17.000000</td>\n",
              "    </tr>\n",
              "    <tr>\n",
              "      <th>max</th>\n",
              "      <td>17.000000</td>\n",
              "    </tr>\n",
              "  </tbody>\n",
              "</table>\n",
              "</div>"
            ],
            "text/plain": [
              "             counts\n",
              "count  48975.000000\n",
              "mean      11.615824\n",
              "std        4.091085\n",
              "min        2.000000\n",
              "25%        8.000000\n",
              "50%       11.000000\n",
              "75%       17.000000\n",
              "max       17.000000"
            ]
          },
          "metadata": {
            "tags": []
          },
          "execution_count": 125
        }
      ]
    },
    {
      "cell_type": "markdown",
      "metadata": {
        "id": "b_1QBLqRmV_R",
        "colab_type": "text"
      },
      "source": [
        "### Combining single day headlines word indexes"
      ]
    },
    {
      "cell_type": "code",
      "metadata": {
        "id": "ufbxbLx9mV_S",
        "colab_type": "code",
        "colab": {}
      },
      "source": [
        "dates = text_indexes_df['Date'].unique()\n",
        "news_sequences = pd.DataFrame(columns=['Date', 'news_sequence'])\n",
        "arr= None\n",
        "for date in dates:\n",
        "    seq = text_indexes_df[text_indexes_df['Date']==date]['news_words_indexes_fix'].values # getting all news for a day\n",
        "    long_seq = []\n",
        "    for arr in seq: # iterating over news sequence for a day\n",
        "        for i in arr:\n",
        "            long_seq.append(i) # appending to create a single seq for a day\n",
        "\n",
        "    news_sequences = news_sequences.append({'Date': date, 'news_sequence': long_seq}, ignore_index=True)\n",
        "# news_sequences = news_sequences.sort_values('Date').reset_index(drop=True)    "
      ],
      "execution_count": 0,
      "outputs": []
    },
    {
      "cell_type": "code",
      "metadata": {
        "id": "9uxJUuWDmV_U",
        "colab_type": "code",
        "outputId": "c798927c-fa52-4dfa-d635-494afe21765c",
        "colab": {
          "base_uri": "https://localhost:8080/",
          "height": 206
        }
      },
      "source": [
        "news_sequences.head()"
      ],
      "execution_count": 127,
      "outputs": [
        {
          "output_type": "execute_result",
          "data": {
            "text/html": [
              "<div>\n",
              "<style scoped>\n",
              "    .dataframe tbody tr th:only-of-type {\n",
              "        vertical-align: middle;\n",
              "    }\n",
              "\n",
              "    .dataframe tbody tr th {\n",
              "        vertical-align: top;\n",
              "    }\n",
              "\n",
              "    .dataframe thead th {\n",
              "        text-align: right;\n",
              "    }\n",
              "</style>\n",
              "<table border=\"1\" class=\"dataframe\">\n",
              "  <thead>\n",
              "    <tr style=\"text-align: right;\">\n",
              "      <th></th>\n",
              "      <th>Date</th>\n",
              "      <th>news_sequence</th>\n",
              "    </tr>\n",
              "  </thead>\n",
              "  <tbody>\n",
              "    <tr>\n",
              "      <th>0</th>\n",
              "      <td>2008-09-19</td>\n",
              "      <td>[0, 1, 2, 3, 4, 5, 6, 31672, 7, 8, 9, 10, 11, ...</td>\n",
              "    </tr>\n",
              "    <tr>\n",
              "      <th>1</th>\n",
              "      <td>2008-09-22</td>\n",
              "      <td>[159, 160, 161, 162, 163, 164, 165, 166, 167, ...</td>\n",
              "    </tr>\n",
              "    <tr>\n",
              "      <th>2</th>\n",
              "      <td>2008-09-23</td>\n",
              "      <td>[329, 259, 330, 331, 332, 124, 31672, 333, 334...</td>\n",
              "    </tr>\n",
              "    <tr>\n",
              "      <th>3</th>\n",
              "      <td>2008-09-24</td>\n",
              "      <td>[458, 281, 459, 460, 461, 462, 31672, 218, 463...</td>\n",
              "    </tr>\n",
              "    <tr>\n",
              "      <th>4</th>\n",
              "      <td>2008-09-25</td>\n",
              "      <td>[585, 586, 587, 291, 588, 589, 590, 591, 592, ...</td>\n",
              "    </tr>\n",
              "  </tbody>\n",
              "</table>\n",
              "</div>"
            ],
            "text/plain": [
              "        Date                                      news_sequence\n",
              "0 2008-09-19  [0, 1, 2, 3, 4, 5, 6, 31672, 7, 8, 9, 10, 11, ...\n",
              "1 2008-09-22  [159, 160, 161, 162, 163, 164, 165, 166, 167, ...\n",
              "2 2008-09-23  [329, 259, 330, 331, 332, 124, 31672, 333, 334...\n",
              "3 2008-09-24  [458, 281, 459, 460, 461, 462, 31672, 218, 463...\n",
              "4 2008-09-25  [585, 586, 587, 291, 588, 589, 590, 591, 592, ..."
            ]
          },
          "metadata": {
            "tags": []
          },
          "execution_count": 127
        }
      ]
    },
    {
      "cell_type": "code",
      "metadata": {
        "id": "B_VxrfxjmV_X",
        "colab_type": "code",
        "outputId": "3115cc52-33f0-41e2-e079-879134380405",
        "colab": {
          "base_uri": "https://localhost:8080/",
          "height": 300
        }
      },
      "source": [
        "# Find the length of headlines\n",
        "lengths = [len(news_sequences.iloc[i]['news_sequence']) for i in range(len(news_sequences))]\n",
        "\n",
        "# Create a dataframe so that the values can be inspected\n",
        "lengths = pd.DataFrame(lengths, columns=['counts'])\n",
        "lengths.describe()"
      ],
      "execution_count": 128,
      "outputs": [
        {
          "output_type": "execute_result",
          "data": {
            "text/html": [
              "<div>\n",
              "<style scoped>\n",
              "    .dataframe tbody tr th:only-of-type {\n",
              "        vertical-align: middle;\n",
              "    }\n",
              "\n",
              "    .dataframe tbody tr th {\n",
              "        vertical-align: top;\n",
              "    }\n",
              "\n",
              "    .dataframe thead th {\n",
              "        text-align: right;\n",
              "    }\n",
              "</style>\n",
              "<table border=\"1\" class=\"dataframe\">\n",
              "  <thead>\n",
              "    <tr style=\"text-align: right;\">\n",
              "      <th></th>\n",
              "      <th>counts</th>\n",
              "    </tr>\n",
              "  </thead>\n",
              "  <tbody>\n",
              "    <tr>\n",
              "      <th>count</th>\n",
              "      <td>1959.00000</td>\n",
              "    </tr>\n",
              "    <tr>\n",
              "      <th>mean</th>\n",
              "      <td>290.39561</td>\n",
              "    </tr>\n",
              "    <tr>\n",
              "      <th>std</th>\n",
              "      <td>25.85380</td>\n",
              "    </tr>\n",
              "    <tr>\n",
              "      <th>min</th>\n",
              "      <td>194.00000</td>\n",
              "    </tr>\n",
              "    <tr>\n",
              "      <th>25%</th>\n",
              "      <td>274.00000</td>\n",
              "    </tr>\n",
              "    <tr>\n",
              "      <th>50%</th>\n",
              "      <td>292.00000</td>\n",
              "    </tr>\n",
              "    <tr>\n",
              "      <th>75%</th>\n",
              "      <td>308.00000</td>\n",
              "    </tr>\n",
              "    <tr>\n",
              "      <th>max</th>\n",
              "      <td>378.00000</td>\n",
              "    </tr>\n",
              "  </tbody>\n",
              "</table>\n",
              "</div>"
            ],
            "text/plain": [
              "           counts\n",
              "count  1959.00000\n",
              "mean    290.39561\n",
              "std      25.85380\n",
              "min     194.00000\n",
              "25%     274.00000\n",
              "50%     292.00000\n",
              "75%     308.00000\n",
              "max     378.00000"
            ]
          },
          "metadata": {
            "tags": []
          },
          "execution_count": 128
        }
      ]
    },
    {
      "cell_type": "markdown",
      "metadata": {
        "id": "kZaIdr5EmV_Z",
        "colab_type": "text"
      },
      "source": [
        "### Limiting single day news to 308 words"
      ]
    },
    {
      "cell_type": "code",
      "metadata": {
        "id": "WdAGd8f7mV_b",
        "colab_type": "code",
        "colab": {}
      },
      "source": [
        "news_sequences['news_sequence'] = news_sequences['news_sequence'].apply(utils.limiting_text_length, \n",
        "                                                                        limit_length = 308,\n",
        "                                                                        pad_index = vocab_to_index[\"<UNK>\"])"
      ],
      "execution_count": 0,
      "outputs": []
    },
    {
      "cell_type": "code",
      "metadata": {
        "id": "laz1HvJSmV_d",
        "colab_type": "code",
        "outputId": "cddf58d1-1ef0-445f-a0f0-feda69e095ea",
        "colab": {
          "base_uri": "https://localhost:8080/",
          "height": 300
        }
      },
      "source": [
        "# Find the length of headlines\n",
        "lengths = [len(news_sequences.iloc[i]['news_sequence']) for i in range(len(news_sequences))]\n",
        "\n",
        "# Create a dataframe so that the values can be inspected\n",
        "lengths = pd.DataFrame(lengths, columns=['counts'])\n",
        "lengths.describe()"
      ],
      "execution_count": 130,
      "outputs": [
        {
          "output_type": "execute_result",
          "data": {
            "text/html": [
              "<div>\n",
              "<style scoped>\n",
              "    .dataframe tbody tr th:only-of-type {\n",
              "        vertical-align: middle;\n",
              "    }\n",
              "\n",
              "    .dataframe tbody tr th {\n",
              "        vertical-align: top;\n",
              "    }\n",
              "\n",
              "    .dataframe thead th {\n",
              "        text-align: right;\n",
              "    }\n",
              "</style>\n",
              "<table border=\"1\" class=\"dataframe\">\n",
              "  <thead>\n",
              "    <tr style=\"text-align: right;\">\n",
              "      <th></th>\n",
              "      <th>counts</th>\n",
              "    </tr>\n",
              "  </thead>\n",
              "  <tbody>\n",
              "    <tr>\n",
              "      <th>count</th>\n",
              "      <td>1959.0</td>\n",
              "    </tr>\n",
              "    <tr>\n",
              "      <th>mean</th>\n",
              "      <td>308.0</td>\n",
              "    </tr>\n",
              "    <tr>\n",
              "      <th>std</th>\n",
              "      <td>0.0</td>\n",
              "    </tr>\n",
              "    <tr>\n",
              "      <th>min</th>\n",
              "      <td>308.0</td>\n",
              "    </tr>\n",
              "    <tr>\n",
              "      <th>25%</th>\n",
              "      <td>308.0</td>\n",
              "    </tr>\n",
              "    <tr>\n",
              "      <th>50%</th>\n",
              "      <td>308.0</td>\n",
              "    </tr>\n",
              "    <tr>\n",
              "      <th>75%</th>\n",
              "      <td>308.0</td>\n",
              "    </tr>\n",
              "    <tr>\n",
              "      <th>max</th>\n",
              "      <td>308.0</td>\n",
              "    </tr>\n",
              "  </tbody>\n",
              "</table>\n",
              "</div>"
            ],
            "text/plain": [
              "       counts\n",
              "count  1959.0\n",
              "mean    308.0\n",
              "std       0.0\n",
              "min     308.0\n",
              "25%     308.0\n",
              "50%     308.0\n",
              "75%     308.0\n",
              "max     308.0"
            ]
          },
          "metadata": {
            "tags": []
          },
          "execution_count": 130
        }
      ]
    },
    {
      "cell_type": "markdown",
      "metadata": {
        "id": "MI1OOtc2mV_h",
        "colab_type": "text"
      },
      "source": [
        "### Saving news sequences"
      ]
    },
    {
      "cell_type": "code",
      "metadata": {
        "id": "1h8_3QPGmV_i",
        "colab_type": "code",
        "colab": {}
      },
      "source": [
        "utils.save_pickle(filename=\"djia_news_sequences\", variable=news_sequences)"
      ],
      "execution_count": 0,
      "outputs": []
    }
  ]
}